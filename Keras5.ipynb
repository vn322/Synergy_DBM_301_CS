{
  "cells": [
    {
      "cell_type": "markdown",
      "metadata": {
        "id": "view-in-github",
        "colab_type": "text"
      },
      "source": [
        "<a href=\"https://colab.research.google.com/github/vn322/Synergy_DBM_301_CS/blob/main/Keras5.ipynb\" target=\"_parent\"><img src=\"https://colab.research.google.com/assets/colab-badge.svg\" alt=\"Open In Colab\"/></a>"
      ]
    },
    {
      "cell_type": "markdown",
      "metadata": {
        "id": "Q9lphOLwnZgW"
      },
      "source": [
        "## Детали метода fit в Keras"
      ]
    },
    {
      "cell_type": "markdown",
      "metadata": {
        "id": "lsgGTfpbH4-M"
      },
      "source": [
        "Сегодня обсудим:\n",
        "1. Как обучаться по батчам (batch_size)\n",
        "2. Как при обучении считать метрики и на тесте (validation_data)\n",
        "3. Как обучаться на генераторах\n",
        "4. И как визуализировать процесс обучения\n"
      ]
    },
    {
      "cell_type": "markdown",
      "metadata": {
        "id": "5wJj0qVRMUhf"
      },
      "source": [
        "Получение данных\n",
        "\n",
        "Описание датасета:\n",
        "\n",
        "- CRIM     per capita crime rate by town\n",
        "- ZN       proportion of residential land zoned for lots over 25,000 sq.ft.\n",
        "- INDUS    proportion of non-retail business acres per town\n",
        "- CHAS     Charles River dummy variable (= 1 if tract bounds river; 0 otherwise)\n",
        "- NOX      nitric oxides concentration (parts per 10 million)\n",
        "- RM       average number of rooms per dwelling\n",
        "- AGE      proportion of owner-occupied units built prior to 1940\n",
        "- DIS      weighted distances to five Boston employment centres\n",
        "- RAD      index of accessibility to radial highways\n",
        "- TAX      full-value property-tax rate per 10,000\n",
        "- PTRATIO  pupil-teacher ratio by town\n",
        "- B        1000(Bk - 0.63)^2 where Bk is the proportion of blacks by town\n",
        "- LSTAT    % lower status of the population\n",
        "- MEDV     Median value of owner-occupied homes in $1000's"
      ]
    },
    {
      "cell_type": "code",
      "execution_count": null,
      "metadata": {
        "colab": {
          "base_uri": "https://localhost:8080/"
        },
        "id": "22XUy6MVL66Z",
        "outputId": "d4838d9b-aea1-4bd5-bba6-e0df9e32d70c"
      },
      "outputs": [
        {
          "output_type": "stream",
          "name": "stdout",
          "text": [
            "Downloading data from https://storage.googleapis.com/tensorflow/tf-keras-datasets/boston_housing.npz\n",
            "57026/57026 [==============================] - 0s 0us/step\n"
          ]
        },
        {
          "output_type": "execute_result",
          "data": {
            "text/plain": [
              "((404, 13), (102, 13))"
            ]
          },
          "metadata": {},
          "execution_count": 1
        }
      ],
      "source": [
        "from keras.datasets import boston_housing\n",
        "\n",
        "(X_train, y_train), (X_test, y_test) = boston_housing.load_data()\n",
        "\n",
        "X_train.shape, X_test.shape"
      ]
    },
    {
      "cell_type": "code",
      "execution_count": null,
      "metadata": {
        "colab": {
          "base_uri": "https://localhost:8080/"
        },
        "id": "Q5Ds6QFBMiAX",
        "outputId": "b08238dd-db72-491c-b5ee-4935c3a7077b"
      },
      "outputs": [
        {
          "output_type": "execute_result",
          "data": {
            "text/plain": [
              "array([[  1.23247,   0.     ,   8.14   ,   0.     ,   0.538  ,   6.142  ,\n",
              "         91.7    ,   3.9769 ,   4.     , 307.     ,  21.     , 396.9    ,\n",
              "         18.72   ]])"
            ]
          },
          "metadata": {},
          "execution_count": 2
        }
      ],
      "source": [
        "X_train[:1]"
      ]
    },
    {
      "cell_type": "markdown",
      "metadata": {
        "id": "CSYSvyorMWTO"
      },
      "source": [
        "Масштабирование данных"
      ]
    },
    {
      "cell_type": "code",
      "execution_count": null,
      "metadata": {
        "colab": {
          "base_uri": "https://localhost:8080/"
        },
        "id": "xAepFcolMM93",
        "outputId": "7153315b-eb33-4f12-972c-d11b5b7a2f2e"
      },
      "outputs": [
        {
          "output_type": "execute_result",
          "data": {
            "text/plain": [
              "(array([3.74511057e+00, 1.14801980e+01, 1.11044307e+01, 6.18811881e-02,\n",
              "        5.57355941e-01, 6.26708168e+00, 6.90106436e+01, 3.74027079e+00,\n",
              "        9.44059406e+00, 4.05898515e+02, 1.84759901e+01, 3.54783168e+02,\n",
              "        1.27408168e+01]),\n",
              " array([9.22929073e+00, 2.37382770e+01, 6.80287253e+00, 2.40939633e-01,\n",
              "        1.17147847e-01, 7.08908627e-01, 2.79060634e+01, 2.02770050e+00,\n",
              "        8.68758849e+00, 1.66168506e+02, 2.19765689e+00, 9.39946015e+01,\n",
              "        7.24556085e+00]))"
            ]
          },
          "metadata": {},
          "execution_count": 3
        }
      ],
      "source": [
        "mean = X_train.mean(axis=0)\n",
        "std = X_train.std(axis=0)\n",
        "\n",
        "mean, std"
      ]
    },
    {
      "cell_type": "code",
      "execution_count": null,
      "metadata": {
        "id": "qu2qimTJMMyT"
      },
      "outputs": [],
      "source": [
        "X_train -= mean\n",
        "X_train /= std\n",
        "\n",
        "X_test -= mean\n",
        "X_test /= std"
      ]
    },
    {
      "cell_type": "code",
      "execution_count": null,
      "metadata": {
        "colab": {
          "base_uri": "https://localhost:8080/"
        },
        "id": "p3vd2WHqMMoa",
        "outputId": "7343a8ef-c595-4550-c58b-8e9ef83f13a0"
      },
      "outputs": [
        {
          "output_type": "execute_result",
          "data": {
            "text/plain": [
              "array([-1.01541438e-16,  1.09923072e-17,  1.74337992e-15, -1.26686340e-16,\n",
              "       -5.25377321e-15,  6.41414864e-15,  2.98441140e-16,  4.94653823e-16,\n",
              "        1.12671149e-17, -1.98136337e-16,  2.36686358e-14,  5.95679996e-15,\n",
              "        6.13920356e-16])"
            ]
          },
          "metadata": {},
          "execution_count": 5
        }
      ],
      "source": [
        "X_train.mean(axis=0)"
      ]
    },
    {
      "cell_type": "code",
      "execution_count": null,
      "metadata": {
        "colab": {
          "base_uri": "https://localhost:8080/"
        },
        "id": "PSOWwTi7MMhI",
        "outputId": "43cbe5cc-091d-4096-ee75-73ce03b1b0b3"
      },
      "outputs": [
        {
          "output_type": "execute_result",
          "data": {
            "text/plain": [
              "array([1., 1., 1., 1., 1., 1., 1., 1., 1., 1., 1., 1., 1.])"
            ]
          },
          "metadata": {},
          "execution_count": 6
        }
      ],
      "source": [
        "X_train.std(axis=0)"
      ]
    },
    {
      "cell_type": "markdown",
      "metadata": {
        "id": "Z1XTMfjpNU8S"
      },
      "source": [
        "### Архитектура сети\n",
        "\n",
        "\n",
        "Определение сети через класс Sequential и добавление слоев в него через add"
      ]
    },
    {
      "cell_type": "code",
      "execution_count": null,
      "metadata": {
        "colab": {
          "base_uri": "https://localhost:8080/"
        },
        "id": "P734IyAUNWpM",
        "outputId": "722857de-56e6-4280-af3b-e12ac72ecec8"
      },
      "outputs": [
        {
          "output_type": "stream",
          "name": "stdout",
          "text": [
            "Model: \"sequential\"\n",
            "_________________________________________________________________\n",
            " Layer (type)                Output Shape              Param #   \n",
            "=================================================================\n",
            " dense (Dense)               (None, 32)                448       \n",
            "                                                                 \n",
            " dense_1 (Dense)             (None, 16)                528       \n",
            "                                                                 \n",
            " dense_2 (Dense)             (None, 1)                 17        \n",
            "                                                                 \n",
            "=================================================================\n",
            "Total params: 993\n",
            "Trainable params: 993\n",
            "Non-trainable params: 0\n",
            "_________________________________________________________________\n"
          ]
        }
      ],
      "source": [
        "from keras.models import Sequential\n",
        "from keras.layers import Dense\n",
        "import tensorflow as tf\n",
        "tf.random.set_seed(9)\n",
        "\n",
        "\n",
        "model = Sequential()\n",
        "model.add(Dense(32, activation='relu', input_shape=(X_train.shape[1], )))\n",
        "model.add(Dense(16, activation='relu'))\n",
        "model.add(Dense(1))\n",
        "\n",
        "model.summary()"
      ]
    },
    {
      "cell_type": "code",
      "execution_count": null,
      "metadata": {
        "id": "6bxv11s1NnJu"
      },
      "outputs": [],
      "source": [
        "model.compile(optimizer='adam', loss='mse', metrics=['mae'])"
      ]
    },
    {
      "cell_type": "markdown",
      "metadata": {
        "id": "QmoBr-uXRcy2"
      },
      "source": [
        "### Обучение сети"
      ]
    },
    {
      "cell_type": "code",
      "execution_count": null,
      "metadata": {
        "colab": {
          "base_uri": "https://localhost:8080/"
        },
        "id": "vCI--E5vN3HG",
        "outputId": "af5ab4a3-3a1d-439a-bc9d-9fb45b5b974b"
      },
      "outputs": [
        {
          "output_type": "stream",
          "name": "stdout",
          "text": [
            "Epoch 1/10\n",
            "13/13 [==============================] - 3s 8ms/step - loss: 577.6455 - mae: 22.2771\n",
            "Epoch 2/10\n",
            "13/13 [==============================] - 0s 6ms/step - loss: 552.1992 - mae: 21.7273\n",
            "Epoch 3/10\n",
            "13/13 [==============================] - 0s 6ms/step - loss: 527.0702 - mae: 21.1845\n",
            "Epoch 4/10\n",
            "13/13 [==============================] - 0s 25ms/step - loss: 499.5734 - mae: 20.5741\n",
            "Epoch 5/10\n",
            "13/13 [==============================] - 0s 15ms/step - loss: 466.0179 - mae: 19.8282\n",
            "Epoch 6/10\n",
            "13/13 [==============================] - 0s 17ms/step - loss: 423.3872 - mae: 18.8689\n",
            "Epoch 7/10\n",
            "13/13 [==============================] - 0s 10ms/step - loss: 371.7760 - mae: 17.5955\n",
            "Epoch 8/10\n",
            "13/13 [==============================] - 0s 6ms/step - loss: 314.9016 - mae: 16.0498\n",
            "Epoch 9/10\n",
            "13/13 [==============================] - 0s 8ms/step - loss: 254.3791 - mae: 14.1603\n",
            "Epoch 10/10\n",
            "13/13 [==============================] - 0s 10ms/step - loss: 198.6382 - mae: 12.1582\n",
            "CPU times: user 2.07 s, sys: 107 ms, total: 2.18 s\n",
            "Wall time: 5.82 s\n"
          ]
        },
        {
          "output_type": "execute_result",
          "data": {
            "text/plain": [
              "<keras.callbacks.History at 0x7f6a3541c9a0>"
            ]
          },
          "metadata": {},
          "execution_count": 9
        }
      ],
      "source": [
        "%%time\n",
        "\n",
        "num_epochs = 10\n",
        "\n",
        "model.fit(X_train, y_train,\n",
        "          epochs=num_epochs)"
      ]
    },
    {
      "cell_type": "markdown",
      "metadata": {
        "id": "EtQKfdyWOXB5"
      },
      "source": [
        "Сейчас прошло 13 батчей через сеть"
      ]
    },
    {
      "cell_type": "markdown",
      "metadata": {
        "id": "KPRwWBzXOmAA"
      },
      "source": [
        "#### **batch_size**\n",
        "> batch_size: Integer или None.<br>\n",
        "Количество сэмплов за один шаг градиентного спуска<br>\n",
        "Если None, то batch_size примет дефолтное значение 32<br>\n",
        "Не указывайте batch_size, если ваши данные представлены в виде генератора или keras.utils.Sequence (из-за того, что они сами генерируют данные батчами)"
      ]
    },
    {
      "cell_type": "code",
      "execution_count": null,
      "metadata": {
        "colab": {
          "base_uri": "https://localhost:8080/"
        },
        "id": "ekb4bBmeOHFl",
        "outputId": "dee58d12-3ab5-4a82-9630-f367d1c93794"
      },
      "outputs": [
        {
          "output_type": "execute_result",
          "data": {
            "text/plain": [
              "(404, 13)"
            ]
          },
          "metadata": {},
          "execution_count": 10
        }
      ],
      "source": [
        "X_train.shape"
      ]
    },
    {
      "cell_type": "code",
      "execution_count": null,
      "metadata": {
        "colab": {
          "base_uri": "https://localhost:8080/"
        },
        "id": "k4mULIhJOZUY",
        "outputId": "7275ef83-2f29-4c52-b7a8-1157455785cb"
      },
      "outputs": [
        {
          "output_type": "execute_result",
          "data": {
            "text/plain": [
              "12.625"
            ]
          },
          "metadata": {},
          "execution_count": 11
        }
      ],
      "source": [
        "404 / 32"
      ]
    },
    {
      "cell_type": "markdown",
      "metadata": {
        "id": "3fOpPUEDOE2T"
      },
      "source": [
        "<img src='https://drive.google.com/uc?export=view&id=1j8SxKYEi12jzJXi_bPO28q5SV9emuu0Y'>"
      ]
    },
    {
      "cell_type": "code",
      "execution_count": null,
      "metadata": {
        "colab": {
          "base_uri": "https://localhost:8080/"
        },
        "id": "2TEVf7n6OxA6",
        "outputId": "7a2a2c98-59a7-4989-fbb2-942536cf27d8"
      },
      "outputs": [
        {
          "output_type": "stream",
          "name": "stdout",
          "text": [
            "Epoch 1/10\n",
            "7/7 [==============================] - 0s 8ms/step - loss: 161.8336 - mae: 10.6805\n",
            "Epoch 2/10\n",
            "7/7 [==============================] - 0s 11ms/step - loss: 139.9734 - mae: 9.7196\n",
            "Epoch 3/10\n",
            "7/7 [==============================] - 0s 10ms/step - loss: 121.6629 - mae: 8.9444\n",
            "Epoch 4/10\n",
            "7/7 [==============================] - 0s 8ms/step - loss: 107.0853 - mae: 8.2484\n",
            "Epoch 5/10\n",
            "7/7 [==============================] - 0s 20ms/step - loss: 94.6019 - mae: 7.6389\n",
            "Epoch 6/10\n",
            "7/7 [==============================] - 0s 20ms/step - loss: 84.4375 - mae: 7.1095\n",
            "Epoch 7/10\n",
            "7/7 [==============================] - 0s 16ms/step - loss: 75.8428 - mae: 6.6329\n",
            "Epoch 8/10\n",
            "7/7 [==============================] - 0s 16ms/step - loss: 68.1057 - mae: 6.2129\n",
            "Epoch 9/10\n",
            "7/7 [==============================] - 0s 15ms/step - loss: 61.7162 - mae: 5.8566\n",
            "Epoch 10/10\n",
            "7/7 [==============================] - 0s 14ms/step - loss: 55.6949 - mae: 5.5247\n",
            "CPU times: user 513 ms, sys: 19.3 ms, total: 532 ms\n",
            "Wall time: 1.54 s\n"
          ]
        },
        {
          "output_type": "execute_result",
          "data": {
            "text/plain": [
              "<keras.callbacks.History at 0x7f6a322ce430>"
            ]
          },
          "metadata": {},
          "execution_count": 12
        }
      ],
      "source": [
        "%%time\n",
        "num_epochs = 10\n",
        "\n",
        "model.fit(X_train, y_train,\n",
        "          epochs=num_epochs,\n",
        "          batch_size=64)"
      ]
    },
    {
      "cell_type": "code",
      "execution_count": null,
      "metadata": {
        "colab": {
          "base_uri": "https://localhost:8080/"
        },
        "id": "XREUhIiMUELz",
        "outputId": "33104084-e6b7-41b0-cf8b-25b55b824fb1"
      },
      "outputs": [
        {
          "output_type": "execute_result",
          "data": {
            "text/plain": [
              "6.3125"
            ]
          },
          "metadata": {},
          "execution_count": 13
        }
      ],
      "source": [
        "404 / 64"
      ]
    },
    {
      "cell_type": "code",
      "execution_count": null,
      "metadata": {
        "colab": {
          "base_uri": "https://localhost:8080/"
        },
        "id": "1ZGrjXFdOxPA",
        "outputId": "40a1e5d3-f4a6-40ac-ddbc-74048f5ac1ee"
      },
      "outputs": [
        {
          "output_type": "stream",
          "name": "stdout",
          "text": [
            "Epoch 1/10\n",
            "1/1 [==============================] - 0s 28ms/step - loss: 52.2837 - mae: 5.3354\n",
            "Epoch 2/10\n",
            "1/1 [==============================] - 0s 32ms/step - loss: 51.6250 - mae: 5.2975\n",
            "Epoch 3/10\n",
            "1/1 [==============================] - 0s 32ms/step - loss: 50.9782 - mae: 5.2599\n",
            "Epoch 4/10\n",
            "1/1 [==============================] - 0s 31ms/step - loss: 50.3434 - mae: 5.2223\n",
            "Epoch 5/10\n",
            "1/1 [==============================] - 0s 42ms/step - loss: 49.7210 - mae: 5.1856\n",
            "Epoch 6/10\n",
            "1/1 [==============================] - 0s 61ms/step - loss: 49.1120 - mae: 5.1500\n",
            "Epoch 7/10\n",
            "1/1 [==============================] - 0s 41ms/step - loss: 48.5154 - mae: 5.1148\n",
            "Epoch 8/10\n",
            "1/1 [==============================] - 0s 39ms/step - loss: 47.9312 - mae: 5.0800\n",
            "Epoch 9/10\n",
            "1/1 [==============================] - 0s 17ms/step - loss: 47.3591 - mae: 5.0457\n",
            "Epoch 10/10\n",
            "1/1 [==============================] - 0s 15ms/step - loss: 46.7985 - mae: 5.0120\n",
            "CPU times: user 285 ms, sys: 14.5 ms, total: 300 ms\n",
            "Wall time: 829 ms\n"
          ]
        },
        {
          "output_type": "execute_result",
          "data": {
            "text/plain": [
              "<keras.callbacks.History at 0x7f6a322f1d30>"
            ]
          },
          "metadata": {},
          "execution_count": 14
        }
      ],
      "source": [
        "%%time\n",
        "num_epochs = 10\n",
        "\n",
        "model.fit(X_train, y_train,\n",
        "          epochs=num_epochs,\n",
        "          batch_size=404)"
      ]
    },
    {
      "cell_type": "markdown",
      "metadata": {
        "id": "jskYwkWFPX8e"
      },
      "source": [
        "#### **steps_per_epoch**\n",
        "\n",
        ">  steps_per_epoch: Integer or `None`.<br>\n",
        "        Общее количество шагов (батчей сэмплов) на одной эпохе. <br>\n",
        "        Если стоит None, то steps_per_epoch равняется количеству сэмплов в датасете деленное на batch size"
      ]
    },
    {
      "cell_type": "code",
      "execution_count": null,
      "metadata": {
        "colab": {
          "base_uri": "https://localhost:8080/"
        },
        "id": "mbCJjK6qUxY-",
        "outputId": "9a4e5ee6-b1cd-4603-f8ae-98036a1c5089"
      },
      "outputs": [
        {
          "output_type": "execute_result",
          "data": {
            "text/plain": [
              "40.4"
            ]
          },
          "metadata": {},
          "execution_count": 15
        }
      ],
      "source": [
        "404 / 10"
      ]
    },
    {
      "cell_type": "code",
      "execution_count": null,
      "metadata": {
        "colab": {
          "base_uri": "https://localhost:8080/"
        },
        "id": "elDajMhxPXv3",
        "outputId": "60b46841-8d1b-4eea-faaf-6cdc0c2fa32b"
      },
      "outputs": [
        {
          "output_type": "stream",
          "name": "stdout",
          "text": [
            "Epoch 1/10\n",
            "10/10 [==============================] - 0s 5ms/step - loss: 44.0470 - mae: 4.8423\n",
            "Epoch 2/10\n",
            "10/10 [==============================] - 0s 7ms/step - loss: 39.9519 - mae: 4.5770\n",
            "Epoch 3/10\n",
            "10/10 [==============================] - 0s 13ms/step - loss: 36.3724 - mae: 4.3588\n",
            "Epoch 4/10\n",
            "10/10 [==============================] - 0s 9ms/step - loss: 33.8860 - mae: 4.2046\n",
            "Epoch 5/10\n",
            "10/10 [==============================] - 0s 11ms/step - loss: 31.8988 - mae: 4.0674\n",
            "Epoch 6/10\n",
            "10/10 [==============================] - 0s 9ms/step - loss: 30.2303 - mae: 3.9560\n",
            "Epoch 7/10\n",
            "10/10 [==============================] - 0s 8ms/step - loss: 28.9526 - mae: 3.8639\n",
            "Epoch 8/10\n",
            "10/10 [==============================] - 0s 9ms/step - loss: 27.7988 - mae: 3.7890\n",
            "Epoch 9/10\n",
            "10/10 [==============================] - 0s 10ms/step - loss: 26.9376 - mae: 3.7334\n",
            "Epoch 10/10\n",
            "10/10 [==============================] - 0s 8ms/step - loss: 26.1212 - mae: 3.6789\n",
            "CPU times: user 591 ms, sys: 23.4 ms, total: 614 ms\n",
            "Wall time: 1.51 s\n"
          ]
        },
        {
          "output_type": "execute_result",
          "data": {
            "text/plain": [
              "<keras.callbacks.History at 0x7f6a33021880>"
            ]
          },
          "metadata": {},
          "execution_count": 16
        }
      ],
      "source": [
        "%%time\n",
        "num_epochs = 10\n",
        "\n",
        "model.fit(X_train, y_train,\n",
        "          epochs=num_epochs, \n",
        "          steps_per_epoch=10)"
      ]
    },
    {
      "cell_type": "markdown",
      "metadata": {
        "id": "IaDwXXa9QSWO"
      },
      "source": [
        "#### **validation_split**\n",
        "\n",
        "> validation_split: Float между 0 и 1.<br>\n",
        "        Доля обучающих данных, которая будет использоваться как валидационная часть<br>\n",
        "        Модель возьмет эту долю и не будет на ней обучаться, а будет подсчитывать метрики и функцию потерь в конце каждой эпохи<br>\n",
        "        Данные для валидации берутся из данных с конца в `x` и `y` **до перемешивания**."
      ]
    },
    {
      "cell_type": "code",
      "execution_count": null,
      "metadata": {
        "colab": {
          "base_uri": "https://localhost:8080/"
        },
        "id": "VJgIZmddVP8c",
        "outputId": "cb2e27f5-121a-4aca-d7c2-2677e9a209fa"
      },
      "outputs": [
        {
          "output_type": "execute_result",
          "data": {
            "text/plain": [
              "323"
            ]
          },
          "metadata": {},
          "execution_count": 17
        }
      ],
      "source": [
        "404 - 81"
      ]
    },
    {
      "cell_type": "code",
      "execution_count": null,
      "metadata": {
        "colab": {
          "base_uri": "https://localhost:8080/"
        },
        "id": "ncS1dP4rQR9f",
        "outputId": "5e01cb03-5544-4fc7-c580-8c6027c0772b"
      },
      "outputs": [
        {
          "output_type": "stream",
          "name": "stdout",
          "text": [
            "Epoch 1/10\n",
            "323/323 [==============================] - 4s 11ms/step - loss: 23.4202 - mae: 3.3994 - val_loss: 21.0647 - val_mae: 3.4214\n",
            "Epoch 2/10\n",
            "323/323 [==============================] - 3s 9ms/step - loss: 17.8573 - mae: 2.9863 - val_loss: 17.1680 - val_mae: 3.0921\n",
            "Epoch 3/10\n",
            "323/323 [==============================] - 2s 5ms/step - loss: 15.1941 - mae: 2.6903 - val_loss: 17.1426 - val_mae: 3.2252\n",
            "Epoch 4/10\n",
            "323/323 [==============================] - 2s 5ms/step - loss: 13.2552 - mae: 2.5279 - val_loss: 14.8308 - val_mae: 2.9081\n",
            "Epoch 5/10\n",
            "323/323 [==============================] - 3s 11ms/step - loss: 12.2521 - mae: 2.4049 - val_loss: 14.1870 - val_mae: 2.8837\n",
            "Epoch 6/10\n",
            "323/323 [==============================] - 1s 5ms/step - loss: 11.2367 - mae: 2.3210 - val_loss: 15.7526 - val_mae: 2.7817\n",
            "Epoch 7/10\n",
            "323/323 [==============================] - 1s 2ms/step - loss: 10.5615 - mae: 2.3518 - val_loss: 13.4374 - val_mae: 2.7194\n",
            "Epoch 8/10\n",
            "323/323 [==============================] - 1s 2ms/step - loss: 10.3781 - mae: 2.2417 - val_loss: 14.3366 - val_mae: 2.7130\n",
            "Epoch 9/10\n",
            "323/323 [==============================] - 1s 2ms/step - loss: 9.7806 - mae: 2.1499 - val_loss: 17.6216 - val_mae: 3.0384\n",
            "Epoch 10/10\n",
            "323/323 [==============================] - 1s 2ms/step - loss: 9.5508 - mae: 2.1753 - val_loss: 17.2772 - val_mae: 2.8888\n",
            "CPU times: user 10.8 s, sys: 488 ms, total: 11.3 s\n",
            "Wall time: 18.2 s\n"
          ]
        },
        {
          "output_type": "execute_result",
          "data": {
            "text/plain": [
              "<keras.callbacks.History at 0x7f6a33043a60>"
            ]
          },
          "metadata": {},
          "execution_count": 18
        }
      ],
      "source": [
        "%%time\n",
        "num_epochs = 10\n",
        "\n",
        "model.fit(X_train, y_train,\n",
        "          epochs=num_epochs, \n",
        "          batch_size=1,\n",
        "          validation_split=0.2)"
      ]
    },
    {
      "cell_type": "markdown",
      "metadata": {
        "id": "uISMy0AEQp0t"
      },
      "source": [
        "#### **validation_data**\n",
        "\n",
        "> validation_data: Данные, на которых считается функция потерь и метрики в конце каждой эпохи<br>\n",
        "Модель не будет обучаться на этих данных\n"
      ]
    },
    {
      "cell_type": "code",
      "execution_count": null,
      "metadata": {
        "colab": {
          "base_uri": "https://localhost:8080/"
        },
        "id": "NSL_MVEFRG1I",
        "outputId": "25de6777-9edf-4d11-e3f0-4c8c170dd7ab"
      },
      "outputs": [
        {
          "output_type": "stream",
          "name": "stdout",
          "text": [
            "Epoch 1/10\n",
            "404/404 [==============================] - 1s 2ms/step - loss: 10.1883 - mae: 2.2577 - val_loss: 21.0811 - val_mae: 3.0041\n",
            "Epoch 2/10\n",
            "404/404 [==============================] - 1s 2ms/step - loss: 10.0301 - mae: 2.2425 - val_loss: 20.9901 - val_mae: 3.1147\n",
            "Epoch 3/10\n",
            "404/404 [==============================] - 1s 2ms/step - loss: 9.5694 - mae: 2.2213 - val_loss: 23.0623 - val_mae: 3.0973\n",
            "Epoch 4/10\n",
            "404/404 [==============================] - 1s 2ms/step - loss: 9.6029 - mae: 2.2154 - val_loss: 24.1658 - val_mae: 3.1759\n",
            "Epoch 5/10\n",
            "404/404 [==============================] - 1s 2ms/step - loss: 9.2423 - mae: 2.1600 - val_loss: 20.3745 - val_mae: 3.0282\n",
            "Epoch 6/10\n",
            "404/404 [==============================] - 1s 3ms/step - loss: 8.8284 - mae: 2.1138 - val_loss: 19.8209 - val_mae: 2.8851\n",
            "Epoch 7/10\n",
            "404/404 [==============================] - 2s 4ms/step - loss: 8.4609 - mae: 2.0930 - val_loss: 21.3264 - val_mae: 3.0055\n",
            "Epoch 8/10\n",
            "404/404 [==============================] - 1s 3ms/step - loss: 8.7313 - mae: 2.1072 - val_loss: 20.4849 - val_mae: 3.1316\n",
            "Epoch 9/10\n",
            "404/404 [==============================] - 1s 2ms/step - loss: 8.2316 - mae: 2.0467 - val_loss: 23.1979 - val_mae: 3.1851\n",
            "Epoch 10/10\n",
            "404/404 [==============================] - 1s 2ms/step - loss: 8.3622 - mae: 2.0854 - val_loss: 18.5759 - val_mae: 2.8878\n",
            "CPU times: user 10.2 s, sys: 490 ms, total: 10.7 s\n",
            "Wall time: 10.3 s\n"
          ]
        },
        {
          "output_type": "execute_result",
          "data": {
            "text/plain": [
              "<keras.callbacks.History at 0x7f6a32fa9100>"
            ]
          },
          "metadata": {},
          "execution_count": 19
        }
      ],
      "source": [
        "%%time\n",
        "num_epochs = 10\n",
        "\n",
        "model.fit(X_train, y_train,\n",
        "          epochs=num_epochs, \n",
        "          batch_size=1,\n",
        "          validation_data=(X_test, y_test))"
      ]
    },
    {
      "cell_type": "markdown",
      "metadata": {
        "id": "3WgOrPa_Ru1B"
      },
      "source": [
        "#### **validation_batch_size**\n",
        "\n",
        ">validation_batch_size: Integer или `None`.<br>\n",
        "        Количество сэмплов в один валидационный батч<br>\n",
        "        Если None, то по дефолту равняется `batch_size`.<br>\n",
        "        Не указывайте `validation_batch_size`, если ваши данные представлены в виде генератора или keras.utils.Sequence (из-за того, что они сами генерируют данные батчами)"
      ]
    },
    {
      "cell_type": "code",
      "execution_count": null,
      "metadata": {
        "colab": {
          "base_uri": "https://localhost:8080/"
        },
        "id": "ThsEzmj_SKWr",
        "outputId": "017482f5-1067-459c-daff-dd1ed140f9fb"
      },
      "outputs": [
        {
          "output_type": "execute_result",
          "data": {
            "text/plain": [
              "(102, 13)"
            ]
          },
          "metadata": {},
          "execution_count": 20
        }
      ],
      "source": [
        "X_test.shape"
      ]
    },
    {
      "cell_type": "code",
      "execution_count": null,
      "metadata": {
        "colab": {
          "base_uri": "https://localhost:8080/"
        },
        "id": "wrg5omkiRj1B",
        "outputId": "ad93fba9-dbbe-4be9-dca6-f7a089c8c3c3"
      },
      "outputs": [
        {
          "output_type": "stream",
          "name": "stdout",
          "text": [
            "Epoch 1/10\n",
            "404/404 [==============================] - 1s 2ms/step - loss: 7.9101 - mae: 1.9924 - val_loss: 17.2365 - val_mae: 2.7353\n",
            "Epoch 2/10\n",
            "404/404 [==============================] - 1s 2ms/step - loss: 7.9717 - mae: 2.0023 - val_loss: 17.6940 - val_mae: 2.8572\n",
            "Epoch 3/10\n",
            "404/404 [==============================] - 1s 2ms/step - loss: 7.6244 - mae: 1.9923 - val_loss: 19.7891 - val_mae: 2.8949\n",
            "Epoch 4/10\n",
            "404/404 [==============================] - 1s 2ms/step - loss: 7.8231 - mae: 2.0013 - val_loss: 21.1397 - val_mae: 2.9782\n",
            "Epoch 5/10\n",
            "404/404 [==============================] - 1s 2ms/step - loss: 7.6040 - mae: 1.9705 - val_loss: 17.2456 - val_mae: 2.8175\n",
            "Epoch 6/10\n",
            "404/404 [==============================] - 1s 2ms/step - loss: 7.3185 - mae: 1.9319 - val_loss: 17.4146 - val_mae: 2.7172\n",
            "Epoch 7/10\n",
            "404/404 [==============================] - 1s 2ms/step - loss: 6.9537 - mae: 1.8915 - val_loss: 19.0834 - val_mae: 2.8516\n",
            "Epoch 8/10\n",
            "404/404 [==============================] - 1s 2ms/step - loss: 7.3251 - mae: 1.9370 - val_loss: 18.5906 - val_mae: 3.0220\n",
            "Epoch 9/10\n",
            "404/404 [==============================] - 1s 2ms/step - loss: 6.8284 - mae: 1.8708 - val_loss: 21.9550 - val_mae: 3.1440\n",
            "Epoch 10/10\n",
            "404/404 [==============================] - 1s 2ms/step - loss: 7.0220 - mae: 1.9217 - val_loss: 17.2014 - val_mae: 2.8298\n",
            "CPU times: user 8.28 s, sys: 362 ms, total: 8.64 s\n",
            "Wall time: 10.3 s\n"
          ]
        },
        {
          "output_type": "execute_result",
          "data": {
            "text/plain": [
              "<keras.callbacks.History at 0x7f6a32fc20d0>"
            ]
          },
          "metadata": {},
          "execution_count": 21
        }
      ],
      "source": [
        "%%time\n",
        "num_epochs = 10\n",
        "\n",
        "model.fit(X_train, y_train,\n",
        "          epochs=num_epochs, \n",
        "          batch_size=1,\n",
        "          validation_data=(X_test, y_test),\n",
        "          validation_batch_size=X_test.shape[0])"
      ]
    },
    {
      "cell_type": "markdown",
      "metadata": {
        "id": "w_ceE1SIR8Vt"
      },
      "source": [
        "#### **validation_freq**\n",
        ">validation_freq: Только нужен, если предоставлены validation data. Integer\n",
        "        или `collections.abc.Container` (например, list, tuple, и др.).<br>\n",
        "        Если integer, то столько эпох с обучением пройдет, до одной валидации, например, `validation_freq=2` будет запускать валидацию каждые 2 эпохи.<br>\n",
        "        Если это Container, то валидация будет запущена в эти эпохи, к примеру,`validation_freq=[1, 2, 10]` запускает валидацию на 1, 2 и 10 эпохах."
      ]
    },
    {
      "cell_type": "code",
      "execution_count": null,
      "metadata": {
        "colab": {
          "base_uri": "https://localhost:8080/"
        },
        "id": "2O7qWnJKSQwz",
        "outputId": "e2d0fe74-1bbb-4483-b8cf-8428f3d38020"
      },
      "outputs": [
        {
          "output_type": "stream",
          "name": "stdout",
          "text": [
            "Epoch 1/10\n",
            "404/404 [==============================] - 1s 2ms/step - loss: 6.6431 - mae: 1.8431\n",
            "Epoch 2/10\n",
            "404/404 [==============================] - 1s 2ms/step - loss: 6.7405 - mae: 1.8414 - val_loss: 16.4107 - val_mae: 2.7393\n",
            "Epoch 3/10\n",
            "404/404 [==============================] - 1s 2ms/step - loss: 6.4514 - mae: 1.8212\n",
            "Epoch 4/10\n",
            "404/404 [==============================] - 1s 2ms/step - loss: 6.6401 - mae: 1.8433 - val_loss: 19.4960 - val_mae: 2.8574\n",
            "Epoch 5/10\n",
            "404/404 [==============================] - 1s 2ms/step - loss: 6.4832 - mae: 1.8431\n",
            "Epoch 6/10\n",
            "404/404 [==============================] - 1s 2ms/step - loss: 6.2846 - mae: 1.8026 - val_loss: 15.7963 - val_mae: 2.5866\n",
            "Epoch 7/10\n",
            "404/404 [==============================] - 1s 2ms/step - loss: 5.9123 - mae: 1.7571\n",
            "Epoch 8/10\n",
            "404/404 [==============================] - 1s 2ms/step - loss: 6.2981 - mae: 1.7892 - val_loss: 17.7605 - val_mae: 2.9508\n",
            "Epoch 9/10\n",
            "404/404 [==============================] - 1s 2ms/step - loss: 5.8583 - mae: 1.7322\n",
            "Epoch 10/10\n",
            "404/404 [==============================] - 1s 2ms/step - loss: 6.0068 - mae: 1.7779 - val_loss: 16.4085 - val_mae: 2.7389\n",
            "CPU times: user 7.83 s, sys: 423 ms, total: 8.25 s\n",
            "Wall time: 7.56 s\n"
          ]
        },
        {
          "output_type": "execute_result",
          "data": {
            "text/plain": [
              "<keras.callbacks.History at 0x7f6a32f2a8e0>"
            ]
          },
          "metadata": {},
          "execution_count": 22
        }
      ],
      "source": [
        "%%time\n",
        "num_epochs = 10\n",
        "\n",
        "model.fit(X_train, y_train,\n",
        "          epochs=num_epochs, \n",
        "          batch_size=1,\n",
        "          validation_data=(X_test, y_test),\n",
        "          validation_batch_size=X_test.shape[0],\n",
        "          validation_freq=2)"
      ]
    },
    {
      "cell_type": "code",
      "execution_count": null,
      "metadata": {
        "colab": {
          "base_uri": "https://localhost:8080/"
        },
        "id": "eIjSjGqaST76",
        "outputId": "56d90abb-2ff6-4cc0-8f88-4139b04f8ec9"
      },
      "outputs": [
        {
          "output_type": "stream",
          "name": "stdout",
          "text": [
            "Epoch 1/10\n",
            "404/404 [==============================] - 1s 2ms/step - loss: 5.7400 - mae: 1.7239 - val_loss: 15.0133 - val_mae: 2.5423\n",
            "Epoch 2/10\n",
            "404/404 [==============================] - 1s 2ms/step - loss: 5.8994 - mae: 1.7280\n",
            "Epoch 3/10\n",
            "404/404 [==============================] - 1s 3ms/step - loss: 5.6313 - mae: 1.7001\n",
            "Epoch 4/10\n",
            "404/404 [==============================] - 1s 3ms/step - loss: 5.8083 - mae: 1.7404\n",
            "Epoch 5/10\n",
            "404/404 [==============================] - 1s 2ms/step - loss: 5.7340 - mae: 1.7402 - val_loss: 14.7606 - val_mae: 2.5953\n",
            "Epoch 6/10\n",
            "404/404 [==============================] - 1s 2ms/step - loss: 5.5479 - mae: 1.7065\n",
            "Epoch 7/10\n",
            "404/404 [==============================] - 1s 2ms/step - loss: 5.1876 - mae: 1.6520\n",
            "Epoch 8/10\n",
            "404/404 [==============================] - 1s 2ms/step - loss: 5.5650 - mae: 1.6932\n",
            "Epoch 9/10\n",
            "404/404 [==============================] - 1s 2ms/step - loss: 5.1685 - mae: 1.6363\n",
            "Epoch 10/10\n",
            "404/404 [==============================] - 1s 2ms/step - loss: 5.3498 - mae: 1.6770 - val_loss: 15.7357 - val_mae: 2.7314\n",
            "CPU times: user 8.78 s, sys: 374 ms, total: 9.16 s\n",
            "Wall time: 10.3 s\n"
          ]
        },
        {
          "output_type": "execute_result",
          "data": {
            "text/plain": [
              "<keras.callbacks.History at 0x7f6a32fa6eb0>"
            ]
          },
          "metadata": {},
          "execution_count": 23
        }
      ],
      "source": [
        "%%time\n",
        "num_epochs = 10\n",
        "\n",
        "model.fit(X_train, y_train,\n",
        "          epochs=num_epochs, \n",
        "          batch_size=1,\n",
        "          validation_data=(X_test, y_test),\n",
        "          validation_batch_size=X_test.shape[0],\n",
        "          validation_freq=[1, 5, 10])"
      ]
    },
    {
      "cell_type": "markdown",
      "metadata": {
        "id": "8EEzRgS6bDR-"
      },
      "source": [
        "### Обучение нейросети на генераторах"
      ]
    },
    {
      "cell_type": "markdown",
      "metadata": {
        "id": "oE4SheQsddUk"
      },
      "source": [
        "Про Sequence больше [тут](https://www.tensorflow.org/api_docs/python/tf/keras/utils/Sequence)"
      ]
    },
    {
      "cell_type": "code",
      "execution_count": null,
      "metadata": {
        "id": "Bf-nfJSZbS2W"
      },
      "outputs": [],
      "source": [
        "import numpy as np\n",
        "#from tensorflow.keras.utils import Sequence\n",
        "from tensorflow.keras.utils import Sequence\n",
        "\n",
        "class DataGenerator(Sequence):\n",
        "    def __init__(self, data, labels, batch_size=32):\n",
        "        self.batch_size = batch_size\n",
        "        self.data = data\n",
        "        self.labels = labels\n",
        "        \n",
        "    def __len__(self):\n",
        "        return int(np.round(len(self.data) / self.batch_size))\n",
        "\n",
        "    def __getitem__(self, index):\n",
        "        X = self.data[index * self.batch_size : (index+1) * self.batch_size]\n",
        "        y = self.labels[index * self.batch_size : (index+1) * self.batch_size]\n",
        "\n",
        "        return X, y"
      ]
    },
    {
      "cell_type": "code",
      "execution_count": null,
      "metadata": {
        "id": "YJ7LVBucds4z"
      },
      "outputs": [],
      "source": [
        "train_datagen = DataGenerator(X_train, y_train)\n",
        "test_datagen = DataGenerator(X_test, y_test)"
      ]
    },
    {
      "cell_type": "code",
      "execution_count": null,
      "metadata": {
        "colab": {
          "base_uri": "https://localhost:8080/"
        },
        "id": "8JEIEtjdED9B",
        "outputId": "773457d5-b3e8-40cd-f345-51f7ad27c335"
      },
      "outputs": [
        {
          "output_type": "execute_result",
          "data": {
            "text/plain": [
              "13"
            ]
          },
          "metadata": {},
          "execution_count": 26
        }
      ],
      "source": [
        "len(train_datagen)"
      ]
    },
    {
      "cell_type": "code",
      "execution_count": null,
      "metadata": {
        "colab": {
          "base_uri": "https://localhost:8080/"
        },
        "id": "-fvtDpq4W-cO",
        "outputId": "670a64ff-aae2-4fa5-cf9a-64f1ecee973d"
      },
      "outputs": [
        {
          "output_type": "execute_result",
          "data": {
            "text/plain": [
              "3"
            ]
          },
          "metadata": {},
          "execution_count": 27
        }
      ],
      "source": [
        "len(test_datagen)"
      ]
    },
    {
      "cell_type": "code",
      "execution_count": null,
      "metadata": {
        "colab": {
          "base_uri": "https://localhost:8080/"
        },
        "id": "TlBqpp-jd2e2",
        "outputId": "e169764c-ef91-455f-fcc8-a72924f24931"
      },
      "outputs": [
        {
          "output_type": "stream",
          "name": "stdout",
          "text": [
            "(32, 13)\n",
            "(32,)\n"
          ]
        }
      ],
      "source": [
        "for X, y in train_datagen:\n",
        "    print(X.shape)\n",
        "    print(y.shape)\n",
        "    break"
      ]
    },
    {
      "cell_type": "code",
      "execution_count": null,
      "metadata": {
        "colab": {
          "base_uri": "https://localhost:8080/"
        },
        "id": "oOpzLoZUenDC",
        "outputId": "4aef7cc9-3228-4bf0-f667-5c3036507773"
      },
      "outputs": [
        {
          "output_type": "execute_result",
          "data": {
            "text/plain": [
              "12.625"
            ]
          },
          "metadata": {},
          "execution_count": 29
        }
      ],
      "source": [
        "404 / 32"
      ]
    },
    {
      "cell_type": "code",
      "execution_count": null,
      "metadata": {
        "colab": {
          "base_uri": "https://localhost:8080/"
        },
        "id": "foAOq_mUds91",
        "outputId": "9fe3b5e8-b25e-4fa3-90de-86dacb596cf5"
      },
      "outputs": [
        {
          "output_type": "stream",
          "name": "stdout",
          "text": [
            "Epoch 1/10\n",
            "13/13 [==============================] - 1s 18ms/step - loss: 4.9604 - mae: 1.5813 - val_loss: 10.8587 - val_mae: 2.4586\n",
            "Epoch 2/10\n",
            "13/13 [==============================] - 0s 6ms/step - loss: 4.4441 - mae: 1.4696 - val_loss: 10.1958 - val_mae: 2.3908\n",
            "Epoch 3/10\n",
            "13/13 [==============================] - 0s 6ms/step - loss: 4.3174 - mae: 1.4666 - val_loss: 10.1397 - val_mae: 2.3839\n",
            "Epoch 4/10\n",
            "13/13 [==============================] - 0s 6ms/step - loss: 4.2951 - mae: 1.4711 - val_loss: 10.2045 - val_mae: 2.3924\n",
            "Epoch 5/10\n",
            "13/13 [==============================] - 0s 6ms/step - loss: 4.2593 - mae: 1.4626 - val_loss: 10.2958 - val_mae: 2.4062\n",
            "Epoch 6/10\n",
            "13/13 [==============================] - 0s 10ms/step - loss: 4.2390 - mae: 1.4578 - val_loss: 10.3441 - val_mae: 2.4119\n",
            "Epoch 7/10\n",
            "13/13 [==============================] - 0s 6ms/step - loss: 4.2343 - mae: 1.4580 - val_loss: 10.3665 - val_mae: 2.4133\n",
            "Epoch 8/10\n",
            "13/13 [==============================] - 0s 6ms/step - loss: 4.2264 - mae: 1.4541 - val_loss: 10.2918 - val_mae: 2.3990\n",
            "Epoch 9/10\n",
            "13/13 [==============================] - 0s 6ms/step - loss: 4.2183 - mae: 1.4519 - val_loss: 10.2630 - val_mae: 2.3944\n",
            "Epoch 10/10\n",
            "13/13 [==============================] - 0s 6ms/step - loss: 4.2121 - mae: 1.4522 - val_loss: 10.3042 - val_mae: 2.4017\n",
            "CPU times: user 1.7 s, sys: 63.3 ms, total: 1.76 s\n",
            "Wall time: 2.28 s\n"
          ]
        },
        {
          "output_type": "execute_result",
          "data": {
            "text/plain": [
              "<keras.callbacks.History at 0x7f6a356f8070>"
            ]
          },
          "metadata": {},
          "execution_count": 30
        }
      ],
      "source": [
        "%%time\n",
        "num_epochs = 10\n",
        "\n",
        "model.fit(train_datagen,\n",
        "          epochs=num_epochs, \n",
        "          validation_data=test_datagen)"
      ]
    },
    {
      "cell_type": "markdown",
      "metadata": {
        "id": "52wMWVdWfKy-"
      },
      "source": [
        "### History\n",
        "\n",
        "Больше [тут](https://www.tensorflow.org/api_docs/python/tf/keras/callbacks/History) "
      ]
    },
    {
      "cell_type": "code",
      "execution_count": null,
      "metadata": {
        "colab": {
          "base_uri": "https://localhost:8080/"
        },
        "id": "q5KOlVn4fMJG",
        "outputId": "251fbefb-aae1-4edb-fcac-f9a1f78aad5b"
      },
      "outputs": [
        {
          "output_type": "stream",
          "name": "stdout",
          "text": [
            "Epoch 1/50\n",
            "13/13 [==============================] - 0s 9ms/step - loss: 4.2033 - mae: 1.4516 - val_loss: 10.3204 - val_mae: 2.4028\n",
            "Epoch 2/50\n",
            "13/13 [==============================] - 0s 6ms/step - loss: 4.1984 - mae: 1.4504 - val_loss: 10.2717 - val_mae: 2.3950\n",
            "Epoch 3/50\n",
            "13/13 [==============================] - 0s 5ms/step - loss: 4.1977 - mae: 1.4516 - val_loss: 10.2973 - val_mae: 2.4012\n",
            "Epoch 4/50\n",
            "13/13 [==============================] - 0s 6ms/step - loss: 4.1947 - mae: 1.4495 - val_loss: 10.2410 - val_mae: 2.3904\n",
            "Epoch 5/50\n",
            "13/13 [==============================] - 0s 6ms/step - loss: 4.1824 - mae: 1.4461 - val_loss: 10.2734 - val_mae: 2.3955\n",
            "Epoch 6/50\n",
            "13/13 [==============================] - 0s 6ms/step - loss: 4.1868 - mae: 1.4510 - val_loss: 10.2458 - val_mae: 2.3918\n",
            "Epoch 7/50\n",
            "13/13 [==============================] - 0s 6ms/step - loss: 4.1795 - mae: 1.4489 - val_loss: 10.2879 - val_mae: 2.3986\n",
            "Epoch 8/50\n",
            "13/13 [==============================] - 0s 6ms/step - loss: 4.1715 - mae: 1.4476 - val_loss: 10.2213 - val_mae: 2.3867\n",
            "Epoch 9/50\n",
            "13/13 [==============================] - 0s 6ms/step - loss: 4.1650 - mae: 1.4439 - val_loss: 10.2135 - val_mae: 2.3849\n",
            "Epoch 10/50\n",
            "13/13 [==============================] - 0s 7ms/step - loss: 4.1632 - mae: 1.4432 - val_loss: 10.2651 - val_mae: 2.3940\n",
            "Epoch 11/50\n",
            "13/13 [==============================] - 0s 6ms/step - loss: 4.1605 - mae: 1.4442 - val_loss: 10.2750 - val_mae: 2.3966\n",
            "Epoch 12/50\n",
            "13/13 [==============================] - 0s 8ms/step - loss: 4.1528 - mae: 1.4457 - val_loss: 10.2676 - val_mae: 2.3958\n",
            "Epoch 13/50\n",
            "13/13 [==============================] - 0s 11ms/step - loss: 4.1480 - mae: 1.4431 - val_loss: 10.2269 - val_mae: 2.3886\n",
            "Epoch 14/50\n",
            "13/13 [==============================] - 0s 11ms/step - loss: 4.1480 - mae: 1.4426 - val_loss: 10.2244 - val_mae: 2.3857\n",
            "Epoch 15/50\n",
            "13/13 [==============================] - 0s 11ms/step - loss: 4.1557 - mae: 1.4446 - val_loss: 10.2972 - val_mae: 2.3988\n",
            "Epoch 16/50\n",
            "13/13 [==============================] - 0s 12ms/step - loss: 4.1417 - mae: 1.4407 - val_loss: 10.2173 - val_mae: 2.3852\n",
            "Epoch 17/50\n",
            "13/13 [==============================] - 0s 8ms/step - loss: 4.1404 - mae: 1.4398 - val_loss: 10.2062 - val_mae: 2.3833\n",
            "Epoch 18/50\n",
            "13/13 [==============================] - 0s 11ms/step - loss: 4.1358 - mae: 1.4394 - val_loss: 10.2007 - val_mae: 2.3823\n",
            "Epoch 19/50\n",
            "13/13 [==============================] - 0s 8ms/step - loss: 4.1354 - mae: 1.4408 - val_loss: 10.2497 - val_mae: 2.3904\n",
            "Epoch 20/50\n",
            "13/13 [==============================] - 0s 11ms/step - loss: 4.1320 - mae: 1.4409 - val_loss: 10.2102 - val_mae: 2.3842\n",
            "Epoch 21/50\n",
            "13/13 [==============================] - 0s 6ms/step - loss: 4.1259 - mae: 1.4395 - val_loss: 10.2673 - val_mae: 2.3925\n",
            "Epoch 22/50\n",
            "13/13 [==============================] - 0s 5ms/step - loss: 4.1238 - mae: 1.4379 - val_loss: 10.2217 - val_mae: 2.3839\n",
            "Epoch 23/50\n",
            "13/13 [==============================] - 0s 5ms/step - loss: 4.1304 - mae: 1.4405 - val_loss: 10.2254 - val_mae: 2.3836\n",
            "Epoch 24/50\n",
            "13/13 [==============================] - 0s 5ms/step - loss: 4.1195 - mae: 1.4361 - val_loss: 10.2263 - val_mae: 2.3833\n",
            "Epoch 25/50\n",
            "13/13 [==============================] - 0s 6ms/step - loss: 4.1231 - mae: 1.4377 - val_loss: 10.2465 - val_mae: 2.3886\n",
            "Epoch 26/50\n",
            "13/13 [==============================] - 0s 5ms/step - loss: 4.1167 - mae: 1.4365 - val_loss: 10.2049 - val_mae: 2.3831\n",
            "Epoch 27/50\n",
            "13/13 [==============================] - 0s 5ms/step - loss: 4.1179 - mae: 1.4400 - val_loss: 10.2939 - val_mae: 2.3978\n",
            "Epoch 28/50\n",
            "13/13 [==============================] - 0s 9ms/step - loss: 4.1071 - mae: 1.4376 - val_loss: 10.2357 - val_mae: 2.3885\n",
            "Epoch 29/50\n",
            "13/13 [==============================] - 0s 6ms/step - loss: 4.1103 - mae: 1.4340 - val_loss: 10.1708 - val_mae: 2.3765\n",
            "Epoch 30/50\n",
            "13/13 [==============================] - 0s 6ms/step - loss: 4.1058 - mae: 1.4357 - val_loss: 10.2229 - val_mae: 2.3843\n",
            "Epoch 31/50\n",
            "13/13 [==============================] - 0s 5ms/step - loss: 4.1046 - mae: 1.4396 - val_loss: 10.2155 - val_mae: 2.3826\n",
            "Epoch 32/50\n",
            "13/13 [==============================] - 0s 6ms/step - loss: 4.1059 - mae: 1.4357 - val_loss: 10.2504 - val_mae: 2.3867\n",
            "Epoch 33/50\n",
            "13/13 [==============================] - 0s 5ms/step - loss: 4.1008 - mae: 1.4370 - val_loss: 10.2731 - val_mae: 2.3932\n",
            "Epoch 34/50\n",
            "13/13 [==============================] - 0s 6ms/step - loss: 4.1027 - mae: 1.4366 - val_loss: 10.1416 - val_mae: 2.3716\n",
            "Epoch 35/50\n",
            "13/13 [==============================] - 0s 5ms/step - loss: 4.0973 - mae: 1.4336 - val_loss: 10.2563 - val_mae: 2.3872\n",
            "Epoch 36/50\n",
            "13/13 [==============================] - 0s 6ms/step - loss: 4.0895 - mae: 1.4332 - val_loss: 10.1942 - val_mae: 2.3785\n",
            "Epoch 37/50\n",
            "13/13 [==============================] - 0s 5ms/step - loss: 4.0925 - mae: 1.4309 - val_loss: 10.1857 - val_mae: 2.3778\n",
            "Epoch 38/50\n",
            "13/13 [==============================] - 0s 6ms/step - loss: 4.0776 - mae: 1.4297 - val_loss: 10.1859 - val_mae: 2.3785\n",
            "Epoch 39/50\n",
            "13/13 [==============================] - 0s 6ms/step - loss: 4.0721 - mae: 1.4298 - val_loss: 10.2112 - val_mae: 2.3811\n",
            "Epoch 40/50\n",
            "13/13 [==============================] - 0s 6ms/step - loss: 4.0720 - mae: 1.4316 - val_loss: 10.2703 - val_mae: 2.3889\n",
            "Epoch 41/50\n",
            "13/13 [==============================] - 0s 5ms/step - loss: 4.0822 - mae: 1.4376 - val_loss: 10.3019 - val_mae: 2.3959\n",
            "Epoch 42/50\n",
            "13/13 [==============================] - 0s 6ms/step - loss: 4.0775 - mae: 1.4304 - val_loss: 10.1860 - val_mae: 2.3765\n",
            "Epoch 43/50\n",
            "13/13 [==============================] - 0s 6ms/step - loss: 4.0631 - mae: 1.4269 - val_loss: 10.1668 - val_mae: 2.3746\n",
            "Epoch 44/50\n",
            "13/13 [==============================] - 0s 6ms/step - loss: 4.0595 - mae: 1.4290 - val_loss: 10.2174 - val_mae: 2.3816\n",
            "Epoch 45/50\n",
            "13/13 [==============================] - 0s 6ms/step - loss: 4.0585 - mae: 1.4303 - val_loss: 10.2757 - val_mae: 2.3890\n",
            "Epoch 46/50\n",
            "13/13 [==============================] - 0s 6ms/step - loss: 4.0550 - mae: 1.4310 - val_loss: 10.2666 - val_mae: 2.3883\n",
            "Epoch 47/50\n",
            "13/13 [==============================] - 0s 6ms/step - loss: 4.0643 - mae: 1.4320 - val_loss: 10.1595 - val_mae: 2.3723\n",
            "Epoch 48/50\n",
            "13/13 [==============================] - 0s 5ms/step - loss: 4.0483 - mae: 1.4254 - val_loss: 10.2822 - val_mae: 2.3887\n",
            "Epoch 49/50\n",
            "13/13 [==============================] - 0s 9ms/step - loss: 4.0495 - mae: 1.4263 - val_loss: 10.1798 - val_mae: 2.3754\n",
            "Epoch 50/50\n",
            "13/13 [==============================] - 0s 5ms/step - loss: 4.0430 - mae: 1.4273 - val_loss: 10.1989 - val_mae: 2.3803\n",
            "CPU times: user 5.37 s, sys: 272 ms, total: 5.64 s\n",
            "Wall time: 8.11 s\n"
          ]
        }
      ],
      "source": [
        "%%time\n",
        "num_epochs = 50\n",
        "\n",
        "history = model.fit(train_datagen,\n",
        "                    epochs=num_epochs, \n",
        "                    validation_data=test_datagen)"
      ]
    },
    {
      "cell_type": "code",
      "execution_count": null,
      "metadata": {
        "colab": {
          "base_uri": "https://localhost:8080/"
        },
        "id": "1Ju1W7FVfc2F",
        "outputId": "b9f490e8-defa-4c08-805e-f4480bd76b5e"
      },
      "outputs": [
        {
          "output_type": "execute_result",
          "data": {
            "text/plain": [
              "<keras.callbacks.History at 0x7f6a32fa8b50>"
            ]
          },
          "metadata": {},
          "execution_count": 32
        }
      ],
      "source": [
        "history"
      ]
    },
    {
      "cell_type": "code",
      "execution_count": null,
      "metadata": {
        "colab": {
          "base_uri": "https://localhost:8080/"
        },
        "id": "ODbUIevHfSPg",
        "outputId": "4b19142f-ffcf-441c-eda4-d2af6e8d8590"
      },
      "outputs": [
        {
          "output_type": "execute_result",
          "data": {
            "text/plain": [
              "{'loss': [4.203336715698242,\n",
              "  4.198439598083496,\n",
              "  4.19774866104126,\n",
              "  4.194680690765381,\n",
              "  4.182363510131836,\n",
              "  4.186787128448486,\n",
              "  4.1794843673706055,\n",
              "  4.171491622924805,\n",
              "  4.165003299713135,\n",
              "  4.163246154785156,\n",
              "  4.160518646240234,\n",
              "  4.152813911437988,\n",
              "  4.148003101348877,\n",
              "  4.147953033447266,\n",
              "  4.1557183265686035,\n",
              "  4.14171838760376,\n",
              "  4.140407562255859,\n",
              "  4.135788917541504,\n",
              "  4.135436534881592,\n",
              "  4.132004261016846,\n",
              "  4.125892639160156,\n",
              "  4.1238274574279785,\n",
              "  4.130366325378418,\n",
              "  4.1194586753845215,\n",
              "  4.123128890991211,\n",
              "  4.116687297821045,\n",
              "  4.117896556854248,\n",
              "  4.107085227966309,\n",
              "  4.110342502593994,\n",
              "  4.10580587387085,\n",
              "  4.1046366691589355,\n",
              "  4.105923652648926,\n",
              "  4.100790023803711,\n",
              "  4.102657318115234,\n",
              "  4.097344398498535,\n",
              "  4.08951997756958,\n",
              "  4.0925469398498535,\n",
              "  4.077587127685547,\n",
              "  4.072129249572754,\n",
              "  4.072021961212158,\n",
              "  4.08218240737915,\n",
              "  4.077493667602539,\n",
              "  4.063054084777832,\n",
              "  4.059482574462891,\n",
              "  4.05851936340332,\n",
              "  4.05497932434082,\n",
              "  4.064332485198975,\n",
              "  4.048338413238525,\n",
              "  4.049499034881592,\n",
              "  4.043018817901611],\n",
              " 'mae': [1.4515800476074219,\n",
              "  1.4504485130310059,\n",
              "  1.4516156911849976,\n",
              "  1.449548602104187,\n",
              "  1.4460790157318115,\n",
              "  1.4510449171066284,\n",
              "  1.4489179849624634,\n",
              "  1.447642207145691,\n",
              "  1.4438565969467163,\n",
              "  1.4432435035705566,\n",
              "  1.4441531896591187,\n",
              "  1.4457210302352905,\n",
              "  1.4430837631225586,\n",
              "  1.4426480531692505,\n",
              "  1.4446494579315186,\n",
              "  1.4407455921173096,\n",
              "  1.439757227897644,\n",
              "  1.4393786191940308,\n",
              "  1.4407551288604736,\n",
              "  1.4408857822418213,\n",
              "  1.4395126104354858,\n",
              "  1.4379158020019531,\n",
              "  1.4405467510223389,\n",
              "  1.4360593557357788,\n",
              "  1.4376775026321411,\n",
              "  1.4364922046661377,\n",
              "  1.4399652481079102,\n",
              "  1.4375919103622437,\n",
              "  1.4339786767959595,\n",
              "  1.435675024986267,\n",
              "  1.439587116241455,\n",
              "  1.4357290267944336,\n",
              "  1.4370373487472534,\n",
              "  1.4365521669387817,\n",
              "  1.4336450099945068,\n",
              "  1.4332157373428345,\n",
              "  1.4308794736862183,\n",
              "  1.4297161102294922,\n",
              "  1.429750919342041,\n",
              "  1.4315824508666992,\n",
              "  1.4375571012496948,\n",
              "  1.4303722381591797,\n",
              "  1.4269239902496338,\n",
              "  1.4290471076965332,\n",
              "  1.4303481578826904,\n",
              "  1.4310059547424316,\n",
              "  1.4320038557052612,\n",
              "  1.4254347085952759,\n",
              "  1.4263041019439697,\n",
              "  1.427328109741211],\n",
              " 'val_loss': [10.320406913757324,\n",
              "  10.271661758422852,\n",
              "  10.297274589538574,\n",
              "  10.240973472595215,\n",
              "  10.273421287536621,\n",
              "  10.245831489562988,\n",
              "  10.287934303283691,\n",
              "  10.221267700195312,\n",
              "  10.213512420654297,\n",
              "  10.265114784240723,\n",
              "  10.274977684020996,\n",
              "  10.267577171325684,\n",
              "  10.226874351501465,\n",
              "  10.224422454833984,\n",
              "  10.297240257263184,\n",
              "  10.217310905456543,\n",
              "  10.206155776977539,\n",
              "  10.200675964355469,\n",
              "  10.249688148498535,\n",
              "  10.210160255432129,\n",
              "  10.267317771911621,\n",
              "  10.221673965454102,\n",
              "  10.225382804870605,\n",
              "  10.226346015930176,\n",
              "  10.246500968933105,\n",
              "  10.204936027526855,\n",
              "  10.293879508972168,\n",
              "  10.235679626464844,\n",
              "  10.170833587646484,\n",
              "  10.222911834716797,\n",
              "  10.215519905090332,\n",
              "  10.25042724609375,\n",
              "  10.273083686828613,\n",
              "  10.141554832458496,\n",
              "  10.256333351135254,\n",
              "  10.194159507751465,\n",
              "  10.185675621032715,\n",
              "  10.185897827148438,\n",
              "  10.211185455322266,\n",
              "  10.27026653289795,\n",
              "  10.301911354064941,\n",
              "  10.186015129089355,\n",
              "  10.16677188873291,\n",
              "  10.217395782470703,\n",
              "  10.275717735290527,\n",
              "  10.266616821289062,\n",
              "  10.159539222717285,\n",
              "  10.28216552734375,\n",
              "  10.179810523986816,\n",
              "  10.198859214782715],\n",
              " 'val_mae': [2.402756690979004,\n",
              "  2.3949546813964844,\n",
              "  2.401182174682617,\n",
              "  2.3903539180755615,\n",
              "  2.395486831665039,\n",
              "  2.3917500972747803,\n",
              "  2.3986198902130127,\n",
              "  2.386711597442627,\n",
              "  2.384948492050171,\n",
              "  2.3939743041992188,\n",
              "  2.3965647220611572,\n",
              "  2.3957901000976562,\n",
              "  2.3886377811431885,\n",
              "  2.385704755783081,\n",
              "  2.398794412612915,\n",
              "  2.385237216949463,\n",
              "  2.3833329677581787,\n",
              "  2.3823325634002686,\n",
              "  2.3903579711914062,\n",
              "  2.384185791015625,\n",
              "  2.392514944076538,\n",
              "  2.383890151977539,\n",
              "  2.3836333751678467,\n",
              "  2.383296012878418,\n",
              "  2.388572931289673,\n",
              "  2.383052110671997,\n",
              "  2.3978123664855957,\n",
              "  2.3885180950164795,\n",
              "  2.376469850540161,\n",
              "  2.38425612449646,\n",
              "  2.3825628757476807,\n",
              "  2.3867247104644775,\n",
              "  2.39316725730896,\n",
              "  2.3716325759887695,\n",
              "  2.3872101306915283,\n",
              "  2.3785064220428467,\n",
              "  2.377782106399536,\n",
              "  2.378450393676758,\n",
              "  2.381114959716797,\n",
              "  2.388939142227173,\n",
              "  2.395909547805786,\n",
              "  2.3764517307281494,\n",
              "  2.374570846557617,\n",
              "  2.3816416263580322,\n",
              "  2.3889577388763428,\n",
              "  2.3882803916931152,\n",
              "  2.3722758293151855,\n",
              "  2.3887462615966797,\n",
              "  2.3754351139068604,\n",
              "  2.3802638053894043]}"
            ]
          },
          "metadata": {},
          "execution_count": 33
        }
      ],
      "source": [
        "history.history"
      ]
    },
    {
      "cell_type": "code",
      "execution_count": null,
      "metadata": {
        "colab": {
          "base_uri": "https://localhost:8080/",
          "height": 430
        },
        "id": "Rx7FzE21fmmV",
        "outputId": "8180e84a-1ba9-4fba-bbb8-ea6d3c18cdc0"
      },
      "outputs": [
        {
          "output_type": "display_data",
          "data": {
            "text/plain": [
              "<Figure size 640x480 with 1 Axes>"
            ],
            "image/png": "[encoded data removed]"
          },
          "metadata": {}
        }
      ],
      "source": [
        "import matplotlib.pyplot as plt\n",
        "\n",
        "plt.plot(history.history['loss'], label='train loss')\n",
        "plt.plot(history.history['val_loss'], label='test loss')\n",
        "plt.legend();"
      ]
    },
    {
      "cell_type": "code",
      "execution_count": null,
      "metadata": {
        "colab": {
          "base_uri": "https://localhost:8080/",
          "height": 430
        },
        "id": "lPUO7Rz1hJdv",
        "outputId": "1b5bb313-883b-4fcb-e6d9-08e37703be94"
      },
      "outputs": [
        {
          "output_type": "display_data",
          "data": {
            "text/plain": [
              "<Figure size 640x480 with 1 Axes>"
            ],
            "image/png": "[encoded data removed]"
          },
          "metadata": {}
        }
      ],
      "source": [
        "plt.plot(history.history['mae'], label='train mae')\n",
        "plt.plot(history.history['val_mae'], label='test mae')\n",
        "plt.legend();"
      ]
    },
    {
      "cell_type": "markdown",
      "metadata": {
        "id": "5SXsFcMUp84_"
      },
      "source": [
        "History - Callback, про них поговорим в следующих занятиях"
      ]
    },
    {
      "cell_type": "markdown",
      "metadata": {
        "id": "cKL1g6ILJiNk"
      },
      "source": [
        "## Summary\n",
        "\n",
        "\n",
        "Вот мы и разобрались в деталях, что можно передавать в метод fit в Keras."
      ]
    },
    {
      "cell_type": "markdown",
      "metadata": {
        "id": "Cj4ciEg13c7A"
      },
      "source": [
        "**validation_data** и **validation_batch_size**\n",
        "\n",
        "<img src='https://media0.giphy.com/media/yOhgNO9YsmdsQ/giphy.gif?cid=ecf05e473qx1a618m4t3o922udc1mcfmqtfwdyi4mrqg2gcf&rid=giphy.gif&ct=g'>\n",
        "\n",
        "___________________"
      ]
    },
    {
      "cell_type": "markdown",
      "source": [
        "![image.png](data:image/png;base64,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)"
      ],
      "metadata": {
        "id": "ifoEoxXm4HD3"
      }
    },
    {
      "cell_type": "code",
      "execution_count": null,
      "metadata": {
        "colab": {
          "base_uri": "https://localhost:8080/",
          "height": 379
        },
        "id": "swLaCh1dhhzb",
        "outputId": "76a877df-7e40-4dda-872c-79dc54629b46"
      },
      "outputs": [
        {
          "output_type": "stream",
          "name": "stdout",
          "text": [
            "Downloading data from https://storage.googleapis.com/tensorflow/tf-keras-datasets/mnist.npz\n",
            "11490434/11490434 [==============================] - 0s 0us/step\n",
            "1875/1875 [==============================] - 241s 128ms/step - loss: 0.0312\n",
            "1/1 [==============================] - 0s 100ms/step\n",
            "1/1 [==============================] - 0s 148ms/step\n"
          ]
        },
        {
          "output_type": "display_data",
          "data": {
            "text/plain": [
              "<Figure size 640x480 with 2 Axes>"
            ],
            "image/png": "[encoded data removed]"
          },
          "metadata": {}
        }
      ],
      "source": [
        "import os\n",
        "os.environ['TF_CPP_MIN_LOG_LEVEL'] = '2'\n",
        "\n",
        "import tensorflow as tf\n",
        "from tensorflow.keras.layers import Dense, Input, Conv2D, MaxPooling2D, Flatten, Conv2DTranspose\n",
        "from tensorflow import keras\n",
        "from tensorflow.keras.datasets import cifar10, mnist\n",
        "\n",
        "import matplotlib.pyplot as plt\n",
        "\n",
        "enc_input = Input(shape=(28, 28, 1))\n",
        "x = Conv2D(32, 3, activation='relu')(enc_input)\n",
        "x = MaxPooling2D(2, padding='same')(x)\n",
        "x = Conv2D(64, 3, activation='relu')(x)\n",
        "x = MaxPooling2D(2, padding='same')(x)\n",
        "x = Flatten()(x)\n",
        "enc_output = Dense(8, activation='linear')(x)\n",
        "\n",
        "encoder = keras.Model(enc_input, enc_output, name=\"encoder\")\n",
        "\n",
        "dec_input = keras.Input(shape=(8,), name=\"encoded_img\")\n",
        "x = Dense(7 * 7 * 8, activation='relu')(dec_input)\n",
        "x = keras.layers.Reshape((7, 7, 8))(x)\n",
        "x = Conv2DTranspose(64, 5, strides=(2, 2), activation=\"relu\", padding='same')(x)\n",
        "x = keras.layers.BatchNormalization()(x)\n",
        "x = Conv2DTranspose(32, 5, strides=(2, 2), activation=\"linear\", padding='same')(x)\n",
        "x = keras.layers.BatchNormalization()(x)\n",
        "dec_output = Conv2DTranspose(1, 3, activation=\"sigmoid\", padding='same')(x)\n",
        "\n",
        "decoder = keras.Model(dec_input, dec_output, name=\"decoder\")\n",
        "\n",
        "autoencoder_input = Input(shape=(28, 28, 1), name=\"img\")\n",
        "x = encoder(autoencoder_input)\n",
        "autoencoder_output = decoder(x)\n",
        "\n",
        "autoencoder = keras.Model(autoencoder_input, autoencoder_output, name=\"autoencoder\")\n",
        "#autoencoder.summary()\n",
        "\n",
        "\n",
        "(x_train, y_train), (x_test, y_test) = mnist.load_data()\n",
        "\n",
        "x_train = x_train.astype(\"float32\") / 255.0\n",
        "x_test = x_test.astype(\"float32\") / 255.0\n",
        "y_train = keras.utils.to_categorical(y_train, 10)\n",
        "y_test = keras.utils.to_categorical(y_test, 10)\n",
        "\n",
        "autoencoder.compile(optimizer='adam', loss='mean_squared_error')\n",
        "autoencoder.fit(x_train, x_train, batch_size=32, epochs=1)\n",
        "\n",
        "h = encoder.predict(tf.expand_dims(x_test[0], axis=0))\n",
        "img = decoder.predict(h)\n",
        "\n",
        "plt.subplot(121)\n",
        "plt.imshow(x_test[0], cmap='gray')\n",
        "plt.subplot(122)\n",
        "plt.imshow(img.squeeze(), cmap='gray')\n",
        "plt.show()"
      ]
    },
    {
      "cell_type": "code",
      "execution_count": null,
      "metadata": {
        "colab": {
          "base_uri": "https://localhost:8080/"
        },
        "id": "cOloD1B8j_Ji",
        "outputId": "ba9e2cc6-6709-4374-a90f-641f749ccaef"
      },
      "outputs": [
        {
          "output_type": "stream",
          "name": "stdout",
          "text": [
            "Downloading data from https://www.cs.toronto.edu/~kriz/cifar-10-python.tar.gz\n",
            "170498071/170498071 [==============================] - 4s 0us/step\n",
            "Epoch 1/15\n",
            "625/625 [==============================] - 224s 355ms/step - loss: 1.8336 - accuracy: 0.2839 - val_loss: 1.5420 - val_accuracy: 0.4100\n",
            "Epoch 2/15\n",
            "625/625 [==============================] - 230s 368ms/step - loss: 1.3686 - accuracy: 0.4907 - val_loss: 1.1847 - val_accuracy: 0.5582\n",
            "Epoch 3/15\n",
            "625/625 [==============================] - 233s 373ms/step - loss: 1.1304 - accuracy: 0.5887 - val_loss: 1.0540 - val_accuracy: 0.6098\n",
            "Epoch 4/15\n",
            "625/625 [==============================] - 236s 377ms/step - loss: 0.9899 - accuracy: 0.6442 - val_loss: 0.8885 - val_accuracy: 0.6792\n",
            "Epoch 5/15\n",
            "625/625 [==============================] - 224s 358ms/step - loss: 0.8789 - accuracy: 0.6864 - val_loss: 0.8821 - val_accuracy: 0.6917\n",
            "Epoch 6/15\n",
            "625/625 [==============================] - 229s 367ms/step - loss: 0.8047 - accuracy: 0.7128 - val_loss: 0.7837 - val_accuracy: 0.7197\n",
            "Epoch 7/15\n",
            "625/625 [==============================] - 230s 368ms/step - loss: 0.7384 - accuracy: 0.7398 - val_loss: 0.7285 - val_accuracy: 0.7417\n",
            "Epoch 8/15\n",
            "625/625 [==============================] - 232s 370ms/step - loss: 0.6794 - accuracy: 0.7630 - val_loss: 0.7667 - val_accuracy: 0.7350\n",
            "Epoch 9/15\n",
            "625/625 [==============================] - 231s 370ms/step - loss: 0.6236 - accuracy: 0.7820 - val_loss: 0.6972 - val_accuracy: 0.7616\n",
            "Epoch 10/15\n",
            "625/625 [==============================] - 228s 364ms/step - loss: 0.5755 - accuracy: 0.7969 - val_loss: 0.7201 - val_accuracy: 0.7535\n",
            "Epoch 11/15\n",
            "625/625 [==============================] - 228s 365ms/step - loss: 0.5400 - accuracy: 0.8116 - val_loss: 0.6841 - val_accuracy: 0.7720\n",
            "Epoch 12/15\n",
            "625/625 [==============================] - 230s 369ms/step - loss: 0.5038 - accuracy: 0.8238 - val_loss: 0.6632 - val_accuracy: 0.7769\n",
            "Epoch 13/15\n",
            "625/625 [==============================] - 222s 355ms/step - loss: 0.4627 - accuracy: 0.8409 - val_loss: 0.6784 - val_accuracy: 0.7837\n",
            "Epoch 14/15\n",
            "625/625 [==============================] - 230s 368ms/step - loss: 0.4295 - accuracy: 0.8509 - val_loss: 0.7357 - val_accuracy: 0.7684\n",
            "Epoch 15/15\n",
            "625/625 [==============================] - 232s 371ms/step - loss: 0.4134 - accuracy: 0.8550 - val_loss: 0.7043 - val_accuracy: 0.7709\n",
            "313/313 [==============================] - 14s 46ms/step - loss: 0.7334 - accuracy: 0.7665\n",
            "[0.7334170341491699, 0.7664999961853027]\n"
          ]
        }
      ],
      "source": [
        "import os\n",
        "os.environ['TF_CPP_MIN_LOG_LEVEL'] = '2'\n",
        "\n",
        "import tensorflow as tf\n",
        "from tensorflow import keras\n",
        "from tensorflow.keras import layers\n",
        "from tensorflow.keras.datasets import cifar10, mnist\n",
        "\n",
        "tf.random.set_seed(1)\n",
        "\n",
        "\n",
        "(x_train, y_train), (x_test, y_test) = cifar10.load_data()\n",
        "\n",
        "x_train = x_train / 255\n",
        "x_test = x_test / 255\n",
        "\n",
        "y_train = keras.utils.to_categorical(y_train, 10)\n",
        "y_test = keras.utils.to_categorical(y_test, 10)\n",
        "\n",
        "inputs = keras.Input(shape=(32, 32, 3), name=\"img\")\n",
        "x = layers.Conv2D(32, 3, activation=\"relu\")(inputs)\n",
        "x = layers.Conv2D(64, 3, activation=\"relu\")(x)\n",
        "block_1_output = layers.MaxPooling2D(3)(x)\n",
        "\n",
        "x = layers.Conv2D(64, 3, activation=\"relu\", padding=\"same\")(block_1_output)\n",
        "x = layers.Conv2D(64, 3, activation=\"relu\", padding=\"same\")(x)\n",
        "block_2_output = layers.add([x, block_1_output])\n",
        "\n",
        "x = layers.Conv2D(64, 3, activation=\"relu\", padding=\"same\")(block_2_output)\n",
        "x = layers.Conv2D(64, 3, activation=\"relu\", padding=\"same\")(x)\n",
        "block_3_output = layers.add([x, block_2_output])\n",
        "\n",
        "x = layers.Conv2D(64, 3, activation=\"relu\")(block_3_output)\n",
        "x = layers.GlobalAveragePooling2D()(x)\n",
        "x = layers.Dense(256, activation=\"relu\")(x)\n",
        "x = layers.Dropout(0.5)(x)\n",
        "outputs = layers.Dense(10, activation='softmax')(x)\n",
        "\n",
        "model = keras.Model(inputs, outputs, name=\"toy_resnet\")\n",
        "#model.summary()\n",
        "\n",
        "model.compile(optimizer='adam',\n",
        "             loss='categorical_crossentropy',\n",
        "             metrics=['accuracy'])\n",
        "\n",
        "model.fit(x_train, y_train, batch_size=64, epochs=15, validation_split=0.2)\n",
        "\n",
        "print( model.evaluate(x_test, y_test) )"
      ]
    }
  ],
  "metadata": {
    "colab": {
      "provenance": [],
      "include_colab_link": true
    },
    "kernelspec": {
      "display_name": "Python 3",
      "language": "python",
      "name": "python3"
    },
    "language_info": {
      "codemirror_mode": {
        "name": "ipython",
        "version": 3
      },
      "file_extension": ".py",
      "mimetype": "text/x-python",
      "name": "python",
      "nbconvert_exporter": "python",
      "pygments_lexer": "ipython3",
      "version": "3.6.8"
    }
  },
  "nbformat": 4,
  "nbformat_minor": 0
}
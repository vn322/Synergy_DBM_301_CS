{
  "nbformat": 4,
  "nbformat_minor": 0,
  "metadata": {
    "colab": {
      "provenance": [],
      "include_colab_link": true
    },
    "kernelspec": {
      "display_name": "Python 3",
      "language": "python",
      "name": "python3"
    },
    "language_info": {
      "codemirror_mode": {
        "name": "ipython",
        "version": 3
      },
      "file_extension": ".py",
      "mimetype": "text/x-python",
      "name": "python",
      "nbconvert_exporter": "python",
      "pygments_lexer": "ipython3",
      "version": "3.6.8"
    }
  },
  "cells": [
    {
      "cell_type": "markdown",
      "metadata": {
        "id": "view-in-github",
        "colab_type": "text"
      },
      "source": [
        "<a href=\"https://colab.research.google.com/github/vn322/Synergy_DBM_301_CS/blob/main/Keras6.ipynb\" target=\"_parent\"><img src=\"https://colab.research.google.com/assets/colab-badge.svg\" alt=\"Open In Colab\"/></a>"
      ]
    },
    {
      "cell_type": "markdown",
      "source": [
        "## Callbacks Keras"
      ],
      "metadata": {
        "id": "Q9lphOLwnZgW"
      }
    },
    {
      "cell_type": "markdown",
      "source": [
        "Сегодня обсудим:\n",
        "1. Что такое callback?\n",
        "2. Для чего callback нужен при обучении нейросети?\n",
        "3. Рассмотрим основные callback на Keras"
      ],
      "metadata": {
        "id": "lsgGTfpbH4-M"
      }
    },
    {
      "cell_type": "markdown",
      "source": [
        "Получение данных\n",
        "\n",
        "Описание датасета:\n",
        "\n",
        "- CRIM     per capita crime rate by town\n",
        "- ZN       proportion of residential land zoned for lots over 25,000 sq.ft.\n",
        "- INDUS    proportion of non-retail business acres per town\n",
        "- CHAS     Charles River dummy variable (= 1 if tract bounds river; 0 otherwise)\n",
        "- NOX      nitric oxides concentration (parts per 10 million)\n",
        "- RM       average number of rooms per dwelling\n",
        "- AGE      proportion of owner-occupied units built prior to 1940\n",
        "- DIS      weighted distances to five Boston employment centres\n",
        "- RAD      index of accessibility to radial highways\n",
        "- TAX      full-value property-tax rate per 10,000\n",
        "- PTRATIO  pupil-teacher ratio by town\n",
        "- B        1000(Bk - 0.63)^2 where Bk is the proportion of blacks by town\n",
        "- LSTAT    % lower status of the population\n",
        "- MEDV     Median value of owner-occupied homes in $1000's"
      ],
      "metadata": {
        "id": "5wJj0qVRMUhf"
      }
    },
    {
      "cell_type": "code",
      "source": [
        "from keras.datasets import boston_housing\n",
        "\n",
        "(X_train, y_train), (X_test, y_test) = boston_housing.load_data()\n",
        "\n",
        "X_train.shape, X_test.shape"
      ],
      "metadata": {
        "colab": {
          "base_uri": "https://localhost:8080/"
        },
        "id": "22XUy6MVL66Z",
        "outputId": "d8e75708-2e3b-4b56-afd2-f3ebdf6b058f"
      },
      "execution_count": null,
      "outputs": [
        {
          "output_type": "execute_result",
          "data": {
            "text/plain": [
              "((404, 13), (102, 13))"
            ]
          },
          "metadata": {},
          "execution_count": 4
        }
      ]
    },
    {
      "cell_type": "code",
      "source": [
        "X_train[:1]"
      ],
      "metadata": {
        "colab": {
          "base_uri": "https://localhost:8080/"
        },
        "id": "Q5Ds6QFBMiAX",
        "outputId": "5654ba98-757d-48fa-b1ca-3ce03898ffe3"
      },
      "execution_count": null,
      "outputs": [
        {
          "output_type": "execute_result",
          "data": {
            "text/plain": [
              "array([[  1.23247,   0.     ,   8.14   ,   0.     ,   0.538  ,   6.142  ,\n",
              "         91.7    ,   3.9769 ,   4.     , 307.     ,  21.     , 396.9    ,\n",
              "         18.72   ]])"
            ]
          },
          "metadata": {},
          "execution_count": 5
        }
      ]
    },
    {
      "cell_type": "markdown",
      "source": [
        "Масштабирование данных"
      ],
      "metadata": {
        "id": "CSYSvyorMWTO"
      }
    },
    {
      "cell_type": "code",
      "source": [
        "mean = X_train.mean(axis=0)\n",
        "std = X_train.std(axis=0)\n",
        "\n",
        "mean, std"
      ],
      "metadata": {
        "colab": {
          "base_uri": "https://localhost:8080/"
        },
        "id": "xAepFcolMM93",
        "outputId": "05de93e9-fabc-4fa4-e4c7-58d1318929df"
      },
      "execution_count": null,
      "outputs": [
        {
          "output_type": "execute_result",
          "data": {
            "text/plain": [
              "(array([3.74511057e+00, 1.14801980e+01, 1.11044307e+01, 6.18811881e-02,\n",
              "        5.57355941e-01, 6.26708168e+00, 6.90106436e+01, 3.74027079e+00,\n",
              "        9.44059406e+00, 4.05898515e+02, 1.84759901e+01, 3.54783168e+02,\n",
              "        1.27408168e+01]),\n",
              " array([9.22929073e+00, 2.37382770e+01, 6.80287253e+00, 2.40939633e-01,\n",
              "        1.17147847e-01, 7.08908627e-01, 2.79060634e+01, 2.02770050e+00,\n",
              "        8.68758849e+00, 1.66168506e+02, 2.19765689e+00, 9.39946015e+01,\n",
              "        7.24556085e+00]))"
            ]
          },
          "metadata": {},
          "execution_count": 6
        }
      ]
    },
    {
      "cell_type": "code",
      "source": [
        "X_train -= mean\n",
        "X_train /= std\n",
        "\n",
        "X_test -= mean\n",
        "X_test /= std"
      ],
      "metadata": {
        "id": "qu2qimTJMMyT"
      },
      "execution_count": null,
      "outputs": []
    },
    {
      "cell_type": "code",
      "source": [
        "X_train.mean(axis=0)"
      ],
      "metadata": {
        "colab": {
          "base_uri": "https://localhost:8080/"
        },
        "id": "p3vd2WHqMMoa",
        "outputId": "ecafd8d7-8916-4ac3-82a0-8c8c3acf1eda"
      },
      "execution_count": null,
      "outputs": [
        {
          "output_type": "execute_result",
          "data": {
            "text/plain": [
              "array([-1.01541438e-16,  1.09923072e-17,  1.74337992e-15, -1.26686340e-16,\n",
              "       -5.25377321e-15,  6.41414864e-15,  2.98441140e-16,  4.94653823e-16,\n",
              "        1.12671149e-17, -1.98136337e-16,  2.36686358e-14,  5.95679996e-15,\n",
              "        6.13920356e-16])"
            ]
          },
          "metadata": {},
          "execution_count": 8
        }
      ]
    },
    {
      "cell_type": "code",
      "source": [
        "X_train.std(axis=0)"
      ],
      "metadata": {
        "colab": {
          "base_uri": "https://localhost:8080/"
        },
        "id": "PSOWwTi7MMhI",
        "outputId": "3dcc057b-1b4e-498c-9611-a88d52a21b52"
      },
      "execution_count": null,
      "outputs": [
        {
          "output_type": "execute_result",
          "data": {
            "text/plain": [
              "array([1., 1., 1., 1., 1., 1., 1., 1., 1., 1., 1., 1., 1.])"
            ]
          },
          "metadata": {},
          "execution_count": 9
        }
      ]
    },
    {
      "cell_type": "markdown",
      "source": [
        "### Архитектура сети\n",
        "\n",
        "\n",
        "Определение сети через класс Sequential и добавление слоев в него через add"
      ],
      "metadata": {
        "id": "Z1XTMfjpNU8S"
      }
    },
    {
      "cell_type": "code",
      "source": [
        "from keras.models import Sequential\n",
        "from keras.layers import Dense\n",
        "import tensorflow as tf\n",
        "tf.random.set_seed(9)\n",
        "\n",
        "\n",
        "model = Sequential()\n",
        "model.add(Dense(32, activation='relu', input_shape=(X_train.shape[1], )))\n",
        "model.add(Dense(16, activation='relu'))\n",
        "model.add(Dense(1))\n",
        "\n",
        "model.summary()"
      ],
      "metadata": {
        "colab": {
          "base_uri": "https://localhost:8080/"
        },
        "id": "P734IyAUNWpM",
        "outputId": "d8e861c7-4607-4fac-b4e0-ea4f1c6352e0"
      },
      "execution_count": null,
      "outputs": [
        {
          "output_type": "stream",
          "name": "stdout",
          "text": [
            "Model: \"sequential\"\n",
            "_________________________________________________________________\n",
            " Layer (type)                Output Shape              Param #   \n",
            "=================================================================\n",
            " dense (Dense)               (None, 32)                448       \n",
            "                                                                 \n",
            " dense_1 (Dense)             (None, 16)                528       \n",
            "                                                                 \n",
            " dense_2 (Dense)             (None, 1)                 17        \n",
            "                                                                 \n",
            "=================================================================\n",
            "Total params: 993\n",
            "Trainable params: 993\n",
            "Non-trainable params: 0\n",
            "_________________________________________________________________\n"
          ]
        }
      ]
    },
    {
      "cell_type": "code",
      "source": [
        "model.compile(optimizer='adam', loss='mse', metrics=['mae'])"
      ],
      "metadata": {
        "id": "6bxv11s1NnJu"
      },
      "execution_count": null,
      "outputs": []
    },
    {
      "cell_type": "markdown",
      "source": [
        "### Обучение сети"
      ],
      "metadata": {
        "id": "QmoBr-uXRcy2"
      }
    },
    {
      "cell_type": "code",
      "source": [
        "history = model.fit(X_train, y_train,\n",
        "                    epochs=50, \n",
        "                    validation_data=(X_test, y_test))"
      ],
      "metadata": {
        "colab": {
          "base_uri": "https://localhost:8080/"
        },
        "id": "U2FULpqdqOqk",
        "outputId": "c533d628-1696-4893-8638-ab90524d7fe4"
      },
      "execution_count": null,
      "outputs": [
        {
          "output_type": "stream",
          "name": "stdout",
          "text": [
            "Epoch 1/50\n",
            "13/13 [==============================] - 1s 19ms/step - loss: 568.1458 - mae: 21.9958 - val_loss: 586.9446 - val_mae: 22.4357\n",
            "Epoch 2/50\n",
            "13/13 [==============================] - 0s 4ms/step - loss: 548.3544 - mae: 21.5271 - val_loss: 566.4633 - val_mae: 21.9536\n",
            "Epoch 3/50\n",
            "13/13 [==============================] - 0s 4ms/step - loss: 526.5145 - mae: 20.9990 - val_loss: 542.5834 - val_mae: 21.3806\n",
            "Epoch 4/50\n",
            "13/13 [==============================] - 0s 4ms/step - loss: 500.7500 - mae: 20.3578 - val_loss: 514.4185 - val_mae: 20.6882\n",
            "Epoch 5/50\n",
            "13/13 [==============================] - 0s 4ms/step - loss: 470.4189 - mae: 19.5854 - val_loss: 480.9787 - val_mae: 19.8343\n",
            "Epoch 6/50\n",
            "13/13 [==============================] - 0s 5ms/step - loss: 434.6254 - mae: 18.6555 - val_loss: 442.5670 - val_mae: 18.8151\n",
            "Epoch 7/50\n",
            "13/13 [==============================] - 0s 4ms/step - loss: 394.5962 - mae: 17.5325 - val_loss: 398.4568 - val_mae: 17.6801\n",
            "Epoch 8/50\n",
            "13/13 [==============================] - 0s 4ms/step - loss: 349.9172 - mae: 16.2734 - val_loss: 348.3925 - val_mae: 16.4060\n",
            "Epoch 9/50\n",
            "13/13 [==============================] - 0s 5ms/step - loss: 299.5508 - mae: 14.7792 - val_loss: 294.2163 - val_mae: 14.9413\n",
            "Epoch 10/50\n",
            "13/13 [==============================] - 0s 4ms/step - loss: 246.4727 - mae: 13.1105 - val_loss: 235.7321 - val_mae: 13.1803\n",
            "Epoch 11/50\n",
            "13/13 [==============================] - 0s 4ms/step - loss: 193.1914 - mae: 11.1790 - val_loss: 182.4164 - val_mae: 11.4719\n",
            "Epoch 12/50\n",
            "13/13 [==============================] - 0s 6ms/step - loss: 146.8641 - mae: 9.4199 - val_loss: 143.0115 - val_mae: 10.0086\n",
            "Epoch 13/50\n",
            "13/13 [==============================] - 0s 5ms/step - loss: 115.7502 - mae: 8.1897 - val_loss: 116.1516 - val_mae: 8.7589\n",
            "Epoch 14/50\n",
            "13/13 [==============================] - 0s 6ms/step - loss: 95.5486 - mae: 7.3156 - val_loss: 98.5280 - val_mae: 7.8929\n",
            "Epoch 15/50\n",
            "13/13 [==============================] - 0s 6ms/step - loss: 81.5020 - mae: 6.6943 - val_loss: 85.5257 - val_mae: 7.2363\n",
            "Epoch 16/50\n",
            "13/13 [==============================] - 0s 4ms/step - loss: 70.6172 - mae: 6.1313 - val_loss: 74.1513 - val_mae: 6.6325\n",
            "Epoch 17/50\n",
            "13/13 [==============================] - 0s 4ms/step - loss: 60.8533 - mae: 5.6348 - val_loss: 65.4592 - val_mae: 6.1901\n",
            "Epoch 18/50\n",
            "13/13 [==============================] - 0s 5ms/step - loss: 53.4683 - mae: 5.2305 - val_loss: 57.9930 - val_mae: 5.8007\n",
            "Epoch 19/50\n",
            "13/13 [==============================] - 0s 4ms/step - loss: 46.8867 - mae: 4.8706 - val_loss: 51.7539 - val_mae: 5.4857\n",
            "Epoch 20/50\n",
            "13/13 [==============================] - 0s 4ms/step - loss: 41.8914 - mae: 4.6025 - val_loss: 46.6215 - val_mae: 5.2817\n",
            "Epoch 21/50\n",
            "13/13 [==============================] - 0s 6ms/step - loss: 37.7009 - mae: 4.3923 - val_loss: 42.7632 - val_mae: 5.0911\n",
            "Epoch 22/50\n",
            "13/13 [==============================] - 0s 4ms/step - loss: 34.5108 - mae: 4.2171 - val_loss: 39.7050 - val_mae: 4.9577\n",
            "Epoch 23/50\n",
            "13/13 [==============================] - 0s 4ms/step - loss: 31.8019 - mae: 4.0639 - val_loss: 37.2880 - val_mae: 4.8103\n",
            "Epoch 24/50\n",
            "13/13 [==============================] - 0s 5ms/step - loss: 29.6347 - mae: 3.9275 - val_loss: 35.2174 - val_mae: 4.7216\n",
            "Epoch 25/50\n",
            "13/13 [==============================] - 0s 4ms/step - loss: 28.0028 - mae: 3.8202 - val_loss: 33.4373 - val_mae: 4.6348\n",
            "Epoch 26/50\n",
            "13/13 [==============================] - 0s 6ms/step - loss: 26.5075 - mae: 3.7177 - val_loss: 32.1551 - val_mae: 4.5525\n",
            "Epoch 27/50\n",
            "13/13 [==============================] - 0s 5ms/step - loss: 25.2216 - mae: 3.6267 - val_loss: 30.8402 - val_mae: 4.4789\n",
            "Epoch 28/50\n",
            "13/13 [==============================] - 0s 4ms/step - loss: 24.2512 - mae: 3.5587 - val_loss: 30.0257 - val_mae: 4.4232\n",
            "Epoch 29/50\n",
            "13/13 [==============================] - 0s 6ms/step - loss: 23.2691 - mae: 3.4848 - val_loss: 29.0684 - val_mae: 4.3508\n",
            "Epoch 30/50\n",
            "13/13 [==============================] - 0s 4ms/step - loss: 22.4343 - mae: 3.4155 - val_loss: 28.3075 - val_mae: 4.2850\n",
            "Epoch 31/50\n",
            "13/13 [==============================] - 0s 5ms/step - loss: 21.7021 - mae: 3.3578 - val_loss: 27.5971 - val_mae: 4.2218\n",
            "Epoch 32/50\n",
            "13/13 [==============================] - 0s 5ms/step - loss: 21.1741 - mae: 3.3128 - val_loss: 27.1976 - val_mae: 4.1695\n",
            "Epoch 33/50\n",
            "13/13 [==============================] - 0s 4ms/step - loss: 20.5393 - mae: 3.2514 - val_loss: 26.6274 - val_mae: 4.1050\n",
            "Epoch 34/50\n",
            "13/13 [==============================] - 0s 4ms/step - loss: 20.0258 - mae: 3.2170 - val_loss: 26.2300 - val_mae: 4.0632\n",
            "Epoch 35/50\n",
            "13/13 [==============================] - 0s 4ms/step - loss: 19.5465 - mae: 3.1775 - val_loss: 25.8447 - val_mae: 4.0075\n",
            "Epoch 36/50\n",
            "13/13 [==============================] - 0s 4ms/step - loss: 18.9933 - mae: 3.1256 - val_loss: 25.2771 - val_mae: 3.9403\n",
            "Epoch 37/50\n",
            "13/13 [==============================] - 0s 4ms/step - loss: 18.6208 - mae: 3.0973 - val_loss: 25.0819 - val_mae: 3.9148\n",
            "Epoch 38/50\n",
            "13/13 [==============================] - 0s 4ms/step - loss: 18.0341 - mae: 3.0557 - val_loss: 24.7810 - val_mae: 3.8625\n",
            "Epoch 39/50\n",
            "13/13 [==============================] - 0s 4ms/step - loss: 17.6707 - mae: 3.0163 - val_loss: 24.4798 - val_mae: 3.8176\n",
            "Epoch 40/50\n",
            "13/13 [==============================] - 0s 4ms/step - loss: 17.2502 - mae: 2.9785 - val_loss: 24.2330 - val_mae: 3.7825\n",
            "Epoch 41/50\n",
            "13/13 [==============================] - 0s 6ms/step - loss: 16.9081 - mae: 2.9516 - val_loss: 23.9965 - val_mae: 3.7487\n",
            "Epoch 42/50\n",
            "13/13 [==============================] - 0s 5ms/step - loss: 16.5542 - mae: 2.9185 - val_loss: 23.8272 - val_mae: 3.7099\n",
            "Epoch 43/50\n",
            "13/13 [==============================] - 0s 5ms/step - loss: 16.2783 - mae: 2.8894 - val_loss: 23.5236 - val_mae: 3.6661\n",
            "Epoch 44/50\n",
            "13/13 [==============================] - 0s 5ms/step - loss: 15.9892 - mae: 2.8640 - val_loss: 23.9089 - val_mae: 3.6682\n",
            "Epoch 45/50\n",
            "13/13 [==============================] - 0s 5ms/step - loss: 15.6189 - mae: 2.8369 - val_loss: 23.5805 - val_mae: 3.6141\n",
            "Epoch 46/50\n",
            "13/13 [==============================] - 0s 5ms/step - loss: 15.3247 - mae: 2.8043 - val_loss: 23.4106 - val_mae: 3.5792\n",
            "Epoch 47/50\n",
            "13/13 [==============================] - 0s 4ms/step - loss: 15.1319 - mae: 2.7935 - val_loss: 23.1997 - val_mae: 3.5546\n",
            "Epoch 48/50\n",
            "13/13 [==============================] - 0s 4ms/step - loss: 14.8406 - mae: 2.7601 - val_loss: 22.7984 - val_mae: 3.5048\n",
            "Epoch 49/50\n",
            "13/13 [==============================] - 0s 5ms/step - loss: 14.5706 - mae: 2.7252 - val_loss: 23.0147 - val_mae: 3.5025\n",
            "Epoch 50/50\n",
            "13/13 [==============================] - 0s 5ms/step - loss: 14.3121 - mae: 2.7021 - val_loss: 23.2137 - val_mae: 3.5020\n"
          ]
        }
      ]
    },
    {
      "cell_type": "code",
      "source": [
        "history.history"
      ],
      "metadata": {
        "colab": {
          "base_uri": "https://localhost:8080/"
        },
        "id": "8AyLNLxsqaiH",
        "outputId": "0dd3023a-6cf5-47ca-8bb0-b16f96afbd11"
      },
      "execution_count": null,
      "outputs": [
        {
          "output_type": "execute_result",
          "data": {
            "text/plain": [
              "{'loss': [568.145751953125,\n",
              "  548.3544311523438,\n",
              "  526.5145263671875,\n",
              "  500.7500305175781,\n",
              "  470.41888427734375,\n",
              "  434.62542724609375,\n",
              "  394.5962219238281,\n",
              "  349.917236328125,\n",
              "  299.5508117675781,\n",
              "  246.4727325439453,\n",
              "  193.19140625,\n",
              "  146.8640899658203,\n",
              "  115.75017547607422,\n",
              "  95.54859924316406,\n",
              "  81.50202941894531,\n",
              "  70.6172103881836,\n",
              "  60.85331726074219,\n",
              "  53.46826171875,\n",
              "  46.8867073059082,\n",
              "  41.89142608642578,\n",
              "  37.700889587402344,\n",
              "  34.51081848144531,\n",
              "  31.80191421508789,\n",
              "  29.634727478027344,\n",
              "  28.002803802490234,\n",
              "  26.507484436035156,\n",
              "  25.221569061279297,\n",
              "  24.251182556152344,\n",
              "  23.269088745117188,\n",
              "  22.434255599975586,\n",
              "  21.70208168029785,\n",
              "  21.174062728881836,\n",
              "  20.539318084716797,\n",
              "  20.025815963745117,\n",
              "  19.54646110534668,\n",
              "  18.993345260620117,\n",
              "  18.620819091796875,\n",
              "  18.03410530090332,\n",
              "  17.670673370361328,\n",
              "  17.250192642211914,\n",
              "  16.908100128173828,\n",
              "  16.55420684814453,\n",
              "  16.278331756591797,\n",
              "  15.989215850830078,\n",
              "  15.61890697479248,\n",
              "  15.324657440185547,\n",
              "  15.131909370422363,\n",
              "  14.840559005737305,\n",
              "  14.570591926574707,\n",
              "  14.312091827392578],\n",
              " 'mae': [21.995834350585938,\n",
              "  21.527118682861328,\n",
              "  20.999004364013672,\n",
              "  20.357776641845703,\n",
              "  19.585378646850586,\n",
              "  18.655542373657227,\n",
              "  17.532506942749023,\n",
              "  16.27336311340332,\n",
              "  14.779224395751953,\n",
              "  13.110522270202637,\n",
              "  11.179001808166504,\n",
              "  9.41987419128418,\n",
              "  8.189728736877441,\n",
              "  7.315576076507568,\n",
              "  6.69431734085083,\n",
              "  6.131317615509033,\n",
              "  5.634832859039307,\n",
              "  5.23053503036499,\n",
              "  4.870604991912842,\n",
              "  4.6025471687316895,\n",
              "  4.392312526702881,\n",
              "  4.217063903808594,\n",
              "  4.063925743103027,\n",
              "  3.927515983581543,\n",
              "  3.820192337036133,\n",
              "  3.7177364826202393,\n",
              "  3.6266896724700928,\n",
              "  3.558689832687378,\n",
              "  3.484762668609619,\n",
              "  3.4155027866363525,\n",
              "  3.357825517654419,\n",
              "  3.3127782344818115,\n",
              "  3.251358985900879,\n",
              "  3.216977834701538,\n",
              "  3.177464485168457,\n",
              "  3.125622034072876,\n",
              "  3.0972585678100586,\n",
              "  3.055713415145874,\n",
              "  3.0163118839263916,\n",
              "  2.9785029888153076,\n",
              "  2.951610803604126,\n",
              "  2.9185428619384766,\n",
              "  2.8893959522247314,\n",
              "  2.86403751373291,\n",
              "  2.8369197845458984,\n",
              "  2.804344892501831,\n",
              "  2.7935402393341064,\n",
              "  2.760113000869751,\n",
              "  2.725160598754883,\n",
              "  2.702106475830078],\n",
              " 'val_loss': [586.944580078125,\n",
              "  566.4632568359375,\n",
              "  542.5834350585938,\n",
              "  514.41845703125,\n",
              "  480.9786682128906,\n",
              "  442.5669860839844,\n",
              "  398.45684814453125,\n",
              "  348.3924865722656,\n",
              "  294.2163391113281,\n",
              "  235.73211669921875,\n",
              "  182.41636657714844,\n",
              "  143.01148986816406,\n",
              "  116.1516342163086,\n",
              "  98.52796936035156,\n",
              "  85.52571868896484,\n",
              "  74.15132904052734,\n",
              "  65.45916748046875,\n",
              "  57.99304962158203,\n",
              "  51.753936767578125,\n",
              "  46.621524810791016,\n",
              "  42.76323699951172,\n",
              "  39.704986572265625,\n",
              "  37.28800582885742,\n",
              "  35.21744155883789,\n",
              "  33.437286376953125,\n",
              "  32.155052185058594,\n",
              "  30.840164184570312,\n",
              "  30.025671005249023,\n",
              "  29.06844711303711,\n",
              "  28.30754280090332,\n",
              "  27.597091674804688,\n",
              "  27.197614669799805,\n",
              "  26.62737274169922,\n",
              "  26.23000144958496,\n",
              "  25.84467315673828,\n",
              "  25.277149200439453,\n",
              "  25.08193588256836,\n",
              "  24.781044006347656,\n",
              "  24.479843139648438,\n",
              "  24.23297691345215,\n",
              "  23.996517181396484,\n",
              "  23.827150344848633,\n",
              "  23.523637771606445,\n",
              "  23.908916473388672,\n",
              "  23.58051109313965,\n",
              "  23.410594940185547,\n",
              "  23.199731826782227,\n",
              "  22.79837417602539,\n",
              "  23.014711380004883,\n",
              "  23.2137451171875],\n",
              " 'val_mae': [22.435688018798828,\n",
              "  21.95355796813965,\n",
              "  21.380645751953125,\n",
              "  20.688249588012695,\n",
              "  19.834287643432617,\n",
              "  18.81509780883789,\n",
              "  17.680091857910156,\n",
              "  16.406009674072266,\n",
              "  14.9413480758667,\n",
              "  13.1802978515625,\n",
              "  11.471870422363281,\n",
              "  10.008591651916504,\n",
              "  8.758904457092285,\n",
              "  7.892892837524414,\n",
              "  7.236267566680908,\n",
              "  6.632521152496338,\n",
              "  6.190135478973389,\n",
              "  5.80069637298584,\n",
              "  5.485721588134766,\n",
              "  5.281671047210693,\n",
              "  5.091116905212402,\n",
              "  4.957669734954834,\n",
              "  4.810307025909424,\n",
              "  4.7216057777404785,\n",
              "  4.634791851043701,\n",
              "  4.552516937255859,\n",
              "  4.478949546813965,\n",
              "  4.423216342926025,\n",
              "  4.350799560546875,\n",
              "  4.285003185272217,\n",
              "  4.221817493438721,\n",
              "  4.169478416442871,\n",
              "  4.105000019073486,\n",
              "  4.063167095184326,\n",
              "  4.007526397705078,\n",
              "  3.9403321743011475,\n",
              "  3.9148337841033936,\n",
              "  3.862520217895508,\n",
              "  3.817568302154541,\n",
              "  3.7825114727020264,\n",
              "  3.748728036880493,\n",
              "  3.709853172302246,\n",
              "  3.6661040782928467,\n",
              "  3.6681525707244873,\n",
              "  3.614068031311035,\n",
              "  3.579241991043091,\n",
              "  3.554636001586914,\n",
              "  3.5048089027404785,\n",
              "  3.5025365352630615,\n",
              "  3.502004384994507]}"
            ]
          },
          "metadata": {},
          "execution_count": 13
        }
      ]
    },
    {
      "cell_type": "code",
      "source": [
        "import matplotlib.pyplot as plt\n",
        "\n",
        "plt.plot(history.history['loss'], label='train loss')\n",
        "plt.plot(history.history['val_loss'], label='test loss')\n",
        "plt.legend();"
      ],
      "metadata": {
        "colab": {
          "base_uri": "https://localhost:8080/",
          "height": 265
        },
        "id": "qhgLo3lVqczd",
        "outputId": "3891c829-7a23-480c-db72-125e8b88d1f1"
      },
      "execution_count": null,
      "outputs": [
        {
          "output_type": "display_data",
          "data": {
            "text/plain": [
              "<Figure size 432x288 with 1 Axes>"
            ],
            "image/png": "[encoded data removed]"
          },
          "metadata": {
            "needs_background": "light"
          }
        }
      ]
    },
    {
      "cell_type": "code",
      "source": [
        "plt.plot(history.history['mae'], label='train mae')\n",
        "plt.plot(history.history['val_mae'], label='test mae')\n",
        "plt.legend();"
      ],
      "metadata": {
        "colab": {
          "base_uri": "https://localhost:8080/",
          "height": 265
        },
        "id": "t_AbpIN0qd3I",
        "outputId": "1687aab3-586d-43f4-dfd3-b3f70ca3f837"
      },
      "execution_count": null,
      "outputs": [
        {
          "output_type": "display_data",
          "data": {
            "text/plain": [
              "<Figure size 432x288 with 1 Axes>"
            ],
            "image/png": "[encoded data removed]"
          },
          "metadata": {
            "needs_background": "light"
          }
        }
      ]
    },
    {
      "cell_type": "markdown",
      "source": [
        "### Callbacks\n",
        "\n",
        "> callbacks: List of `keras.callbacks.Callback` instances.<br>\n",
        "        List of callbacks to apply during training.<br>\n",
        "        See `tf.keras.callbacks`. Note `tf.keras.callbacks.ProgbarLogger`\n",
        "        and `tf.keras.callbacks.History` callbacks are created automatically\n",
        "        and need not be passed into `model.fit`."
      ],
      "metadata": {
        "id": "pnCQ79WXe3sF"
      }
    },
    {
      "cell_type": "markdown",
      "source": [
        "Callback (обратные вызовы) – набор функций, применяемых в определенные моменты во время процедуры обучения. Вы можете использовать функции callback чтобы получить информацию о внутреннем состоянии модели в процессе обучения. Нужно передавать список callback’ов (именованным аргументом callbacks) методу .fit() модели. Подходящие методы callback будут вызваны на каждой стадии обучения."
      ],
      "metadata": {
        "id": "MfX3flrYsVjM"
      }
    },
    {
      "cell_type": "markdown",
      "source": [
        "Рассмотрим основные callback'и, с остальными можете ознакомиться в [документации](https://ru-keras.com/callbacks/)."
      ],
      "metadata": {
        "id": "X810Ko7_hcEY"
      }
    },
    {
      "cell_type": "markdown",
      "source": [
        "#### ModelCheckpoint\n",
        "\n",
        "\n",
        "Сохранение модели после каждой эпохи.\n",
        "\n",
        "Filepath может содержать именованные опции форматирования, заполняемые значениями epoch и ключами в logs (передаваемыми on_epoch_end).\n",
        "\n",
        "К примеру: если filepath назван weights.{epoch:02d}-{val_loss:.2f}.hdf5, тогда модель будет сохраняться с номером эпохи и validation_loss в имени файла.\n",
        "\n",
        "**Аргументы:**\n",
        "\n",
        "— filepath: строка, путь сохранения модели\n",
        "\n",
        "— monitor: параметр для мониторинга\n",
        "\n",
        "— verbose: режим отображения, 0 или 1\n",
        "\n",
        "— save_best_only: если save_best_only=True, если результат текущей эпохи хуже предыдущей, он не будет сохранен.\n",
        "\n",
        "— save_weights_only: если True, тогда будут сохраняться только веса модели (model.save_weights(filepath)), в противном случае будет сохраняться вся модель (model.save(filepath)).\n",
        "\n",
        "— mode: один из {auto, min, max}. Если save_best_only=True, решение о перезаписи текущего файла будет приниматься в зависимости от уменьшения/увеличения параметра мониторинга. Для val_acc, необходим max, для val_loss необходим min. В auto режиме, mode выбирается в зависимости от имени monitor.\n",
        "\n",
        "— save_freq: `'epoch'` или integer. Если `'epoch'`, то сохраняется модель после каждой эпохиh. Когда integer, то сохранение модели через это кол-во батчей.\n"
      ],
      "metadata": {
        "id": "-GcPBpbEhfjk"
      }
    },
    {
      "cell_type": "code",
      "source": [
        "from keras import callbacks\n",
        "\n",
        "model_checkpoint = callbacks.ModelCheckpoint(filepath='model_best_{epoch}.h5',\n",
        "                                             monitor='val_mae',\n",
        "                                             verbose=1,\n",
        "                                             save_best_only=True,\n",
        "                                             save_weights_only=False,\n",
        "                                             mode='auto',\n",
        "                                             save_freq='epoch'\n",
        "                                             ) "
      ],
      "metadata": {
        "id": "eUCR9tBYfIF3"
      },
      "execution_count": null,
      "outputs": []
    },
    {
      "cell_type": "code",
      "source": [
        "model.compile(optimizer='adam', loss='mse', metrics=['mae'])"
      ],
      "metadata": {
        "id": "GPfyGgufihsv"
      },
      "execution_count": null,
      "outputs": []
    },
    {
      "cell_type": "code",
      "source": [
        "model.fit(X_train, y_train,\n",
        "          epochs=5, \n",
        "          validation_data=(X_test, y_test),\n",
        "          callbacks=[model_checkpoint])"
      ],
      "metadata": {
        "colab": {
          "base_uri": "https://localhost:8080/"
        },
        "id": "K_k-zgKghvz1",
        "outputId": "187151c5-19b6-4cf1-9de6-3c3c04ef7037"
      },
      "execution_count": null,
      "outputs": [
        {
          "output_type": "stream",
          "name": "stdout",
          "text": [
            "Epoch 1/5\n",
            " 1/13 [=>............................] - ETA: 4s - loss: 10.0320 - mae: 2.2673\n",
            "Epoch 1: val_mae improved from inf to 3.47105, saving model to model_best_1.h5\n",
            "13/13 [==============================] - 1s 18ms/step - loss: 14.3296 - mae: 2.6998 - val_loss: 23.0815 - val_mae: 3.4710\n",
            "Epoch 2/5\n",
            " 1/13 [=>............................] - ETA: 0s - loss: 11.8018 - mae: 2.4359\n",
            "Epoch 2: val_mae improved from 3.47105 to 3.42411, saving model to model_best_2.h5\n",
            "13/13 [==============================] - 0s 7ms/step - loss: 13.8708 - mae: 2.6862 - val_loss: 22.9685 - val_mae: 3.4241\n",
            "Epoch 3/5\n",
            " 1/13 [=>............................] - ETA: 0s - loss: 12.5643 - mae: 2.7318\n",
            "Epoch 3: val_mae improved from 3.42411 to 3.37504, saving model to model_best_3.h5\n",
            "13/13 [==============================] - 0s 6ms/step - loss: 13.4311 - mae: 2.6055 - val_loss: 22.6860 - val_mae: 3.3750\n",
            "Epoch 4/5\n",
            " 1/13 [=>............................] - ETA: 0s - loss: 6.7863 - mae: 2.0111\n",
            "Epoch 4: val_mae improved from 3.37504 to 3.35504, saving model to model_best_4.h5\n",
            "13/13 [==============================] - 0s 8ms/step - loss: 13.0470 - mae: 2.5661 - val_loss: 22.6854 - val_mae: 3.3550\n",
            "Epoch 5/5\n",
            " 1/13 [=>............................] - ETA: 0s - loss: 6.8940 - mae: 1.9689\n",
            "Epoch 5: val_mae improved from 3.35504 to 3.34110, saving model to model_best_5.h5\n",
            "13/13 [==============================] - 0s 6ms/step - loss: 12.8665 - mae: 2.5670 - val_loss: 22.8322 - val_mae: 3.3411\n"
          ]
        },
        {
          "output_type": "execute_result",
          "data": {
            "text/plain": [
              "<keras.callbacks.History at 0x7f5e1ad6fe10>"
            ]
          },
          "metadata": {},
          "execution_count": 18
        }
      ]
    },
    {
      "cell_type": "markdown",
      "source": [
        "#### EarlyStopping\n",
        "\n",
        "\n",
        "Прекращение обучения, когда параметр monitor перестает улучшаться.\n",
        "\n",
        "**Аргументы**\n",
        "\n",
        "— monitor: параметр для мониторинга\n",
        "\n",
        "— min_delta: минимальное значение изменения величины monitor, расцениваемое как улучшение, то есть, если абсолютное изменение меньше min_delta, то улучшение не засчитывается\n",
        "\n",
        "— patience: число эпох, за которые величина monitor не улучшается, после которых обучение будет остановлено. Проверочные величины могут производиться не после каждой эпохи если validation_freq (model.fit(validation_freq=5)) больше единицы.\n",
        "\n",
        "— verbose: режим отображения, 0 или 1.\n",
        "\n",
        "— mode: один из {auto, min, max}. В режиме min, обучение остановится когда величина monitor перестанет уменьшаться; в режиме max, обучение остановится когда величина monitor перестанет увеличиваться; в режиме auto, mode выбирается в зависимости от имени monitor.\n",
        "\n",
        "— baseline: значение, которое должна достичь величина monitor. Обучение прекратится, если модель не достигла baseline.\n",
        "\n",
        "— restore_best_weights: восстанавливать ли веса модели с эпохи с лучшем значением параметра monitor. Если False, веса модели будут загружены из последней шага обучения."
      ],
      "metadata": {
        "id": "vMqUCfSWiwah"
      }
    },
    {
      "cell_type": "code",
      "source": [
        "early_stop = callbacks.EarlyStopping(monitor='val_loss',\n",
        "                                     min_delta=0,\n",
        "                                     patience=2,\n",
        "                                     verbose=1,\n",
        "                                     mode='auto',\n",
        "                                    #  baseline=0.006,\n",
        "                                     restore_best_weights=True)\n",
        "\n",
        "\n",
        "model.fit(X_train, y_train,\n",
        "          epochs=10, \n",
        "          validation_data=(X_test, y_test),\n",
        "          callbacks=[early_stop])"
      ],
      "metadata": {
        "colab": {
          "base_uri": "https://localhost:8080/"
        },
        "id": "4MN7i1yUi17a",
        "outputId": "a1536595-5663-4b21-9317-2ca658e12ab9"
      },
      "execution_count": null,
      "outputs": [
        {
          "output_type": "stream",
          "name": "stdout",
          "text": [
            "Epoch 1/10\n",
            "13/13 [==============================] - 0s 4ms/step - loss: 11.4339 - mae: 2.4067 - val_loss: 22.8170 - val_mae: 3.2265\n",
            "Epoch 2/10\n",
            "13/13 [==============================] - 0s 4ms/step - loss: 11.2441 - mae: 2.3857 - val_loss: 22.9058 - val_mae: 3.2160\n",
            "Epoch 3/10\n",
            "13/13 [==============================] - 0s 4ms/step - loss: 11.0545 - mae: 2.3535 - val_loss: 22.4483 - val_mae: 3.1733\n",
            "Epoch 4/10\n",
            "13/13 [==============================] - 0s 4ms/step - loss: 10.7794 - mae: 2.3241 - val_loss: 22.5810 - val_mae: 3.1742\n",
            "Epoch 5/10\n",
            " 1/13 [=>............................] - ETA: 0s - loss: 7.0549 - mae: 2.0822Restoring model weights from the end of the best epoch: 3.\n",
            "13/13 [==============================] - 0s 6ms/step - loss: 10.6989 - mae: 2.3302 - val_loss: 22.8186 - val_mae: 3.1609\n",
            "Epoch 5: early stopping\n"
          ]
        },
        {
          "output_type": "execute_result",
          "data": {
            "text/plain": [
              "<keras.callbacks.History at 0x7f5e14af8250>"
            ]
          },
          "metadata": {},
          "execution_count": 21
        }
      ]
    },
    {
      "cell_type": "markdown",
      "source": [
        "#### ReduceLROnPlateau\n",
        "\n",
        "Уменьшение скорости обучения, когда метрика перестала улучшаться.\n",
        "\n",
        "Модели зачастую работают лучше если уменьшать скорость обучения. Этот callback следит за параметром monitor и, если не происходит улучшения за patience эпох, уменьшает скорость обучения.\n",
        "\n",
        "\n",
        "**Аргументы**\n",
        "\n",
        "— monitor:  параметр для мониторинга\n",
        "\n",
        "— factor: коэффициент уменьшения скорости обучения. new_lr = lr * factor\n",
        "\n",
        "— patience: число эпох, за которые величина monitor не улучшается, после которых обучение будет остановлено. Проверочные величины могут производиться не после каждой эпохи если validation_freq (model.fit(validation_freq=5)) больше единицы.\n",
        "\n",
        "— verbose: int. 0: «тихий» режим, 1: выводить сообщения\n",
        "\n",
        "— mode: один из {auto, min, max}. В режиме min, скорость обучения уменьшится когда величина monitor перестанет уменьшаться; в режиме max, скорость обучения уменьшится когда величина monitor перестанет увеличиваться; в режиме auto, mode выбирается в зависимости от имени monitor.\n",
        "\n",
        "— min_delta: минимальное значение изменения величины monitor, расцениваемое как улучшение, то есть, если абсолютное изменение меньше min_delta, то улучшение не засчитывается\n",
        "\n",
        "— cooldown: число эпох после уменьшения скорости обучения, которые должны пройти, прежде чем стандартный процесс уменьшения возобновится.\n",
        "\n",
        "— min_lr: нижняя граница скорости обучения"
      ],
      "metadata": {
        "id": "EwqAsmgFiztP"
      }
    },
    {
      "cell_type": "code",
      "source": [
        "model.compile(optimizer='adam', loss='mse', metrics=['mae'])"
      ],
      "metadata": {
        "id": "tqbZuvWGjXWQ"
      },
      "execution_count": null,
      "outputs": []
    },
    {
      "cell_type": "code",
      "source": [
        "reduce_lr = callbacks.ReduceLROnPlateau(monitor='val_mae',\n",
        "                                        factor=0.1,\n",
        "                                        patience=0,\n",
        "                                        verbose=1,\n",
        "                                        mode='auto',\n",
        "                                        min_delta=0,\n",
        "                                        cooldown=2,\n",
        "                                        min_lr=1e-10) \n",
        "\n",
        "model.fit(X_train, y_train,\n",
        "          epochs=10, \n",
        "          validation_data=(X_test, y_test),\n",
        "          callbacks=[reduce_lr])"
      ],
      "metadata": {
        "colab": {
          "base_uri": "https://localhost:8080/"
        },
        "id": "BmWcW6_XhuS6",
        "outputId": "b310771b-e32b-47f1-eb21-0f336be04843"
      },
      "execution_count": null,
      "outputs": [
        {
          "output_type": "stream",
          "name": "stdout",
          "text": [
            "Epoch 1/10\n",
            "13/13 [==============================] - 1s 16ms/step - loss: 9.5661 - mae: 2.1952 - val_loss: 22.8341 - val_mae: 3.0329 - lr: 0.0010\n",
            "Epoch 2/10\n",
            " 1/13 [=>............................] - ETA: 0s - loss: 8.5618 - mae: 2.1496\n",
            "Epoch 2: ReduceLROnPlateau reducing learning rate to 0.00010000000474974513.\n",
            "13/13 [==============================] - 0s 5ms/step - loss: 9.3436 - mae: 2.1768 - val_loss: 22.9169 - val_mae: 3.0523 - lr: 0.0010\n",
            "Epoch 3/10\n",
            "13/13 [==============================] - 0s 5ms/step - loss: 9.1911 - mae: 2.1516 - val_loss: 22.8268 - val_mae: 3.0453 - lr: 1.0000e-04\n",
            "Epoch 4/10\n",
            " 1/13 [=>............................] - ETA: 0s - loss: 6.0728 - mae: 1.7557\n",
            "Epoch 4: ReduceLROnPlateau reducing learning rate to 1.0000000474974514e-05.\n",
            "13/13 [==============================] - 0s 6ms/step - loss: 9.1711 - mae: 2.1488 - val_loss: 22.7865 - val_mae: 3.0400 - lr: 1.0000e-04\n",
            "Epoch 5/10\n",
            "13/13 [==============================] - 0s 4ms/step - loss: 9.1600 - mae: 2.1474 - val_loss: 22.7855 - val_mae: 3.0393 - lr: 1.0000e-05\n",
            "Epoch 6/10\n",
            " 1/13 [=>............................] - ETA: 0s - loss: 10.2622 - mae: 2.1920\n",
            "Epoch 6: ReduceLROnPlateau reducing learning rate to 1.0000000656873453e-06.\n",
            "13/13 [==============================] - 0s 7ms/step - loss: 9.1582 - mae: 2.1474 - val_loss: 22.7870 - val_mae: 3.0394 - lr: 1.0000e-05\n",
            "Epoch 7/10\n",
            "13/13 [==============================] - 0s 5ms/step - loss: 9.1570 - mae: 2.1472 - val_loss: 22.7865 - val_mae: 3.0393 - lr: 1.0000e-06\n",
            "Epoch 8/10\n",
            " 1/13 [=>............................] - ETA: 0s - loss: 4.8981 - mae: 1.7305\n",
            "Epoch 8: ReduceLROnPlateau reducing learning rate to 1.0000001111620805e-07.\n",
            "13/13 [==============================] - 0s 7ms/step - loss: 9.1568 - mae: 2.1472 - val_loss: 22.7863 - val_mae: 3.0392 - lr: 1.0000e-06\n",
            "Epoch 9/10\n",
            "13/13 [==============================] - 0s 5ms/step - loss: 9.1567 - mae: 2.1472 - val_loss: 22.7862 - val_mae: 3.0392 - lr: 1.0000e-07\n",
            "Epoch 10/10\n",
            " 1/13 [=>............................] - ETA: 0s - loss: 9.5503 - mae: 2.0736\n",
            "Epoch 10: ReduceLROnPlateau reducing learning rate to 1.000000082740371e-08.\n",
            "13/13 [==============================] - 0s 6ms/step - loss: 9.1566 - mae: 2.1472 - val_loss: 22.7863 - val_mae: 3.0392 - lr: 1.0000e-07\n"
          ]
        },
        {
          "output_type": "execute_result",
          "data": {
            "text/plain": [
              "<keras.callbacks.History at 0x7f5e14857b90>"
            ]
          },
          "metadata": {},
          "execution_count": 29
        }
      ]
    },
    {
      "cell_type": "markdown",
      "source": [
        "#### Кастомный callback"
      ],
      "metadata": {
        "id": "N9xh6p7ojsz0"
      }
    },
    {
      "cell_type": "code",
      "source": [
        "import keras\n",
        "\n",
        "class CustomCallback(keras.callbacks.Callback):\n",
        "    def on_train_begin(self, logs=None):\n",
        "        keys = list(logs.keys())\n",
        "        print(f\"Starting training; got log keys: {keys}\")\n",
        "\n",
        "    def on_train_end(self, logs=None):\n",
        "        keys = list(logs.keys())\n",
        "        print(f\"Stop training; got log keys: {keys}\")\n",
        "\n",
        "    def on_epoch_begin(self, epoch, logs=None):\n",
        "        keys = list(logs.keys())\n",
        "        print(f\"Start epoch {epoch} of training; got log keys: {keys}\")\n",
        "\n",
        "    def on_epoch_end(self, epoch, logs=None):\n",
        "        keys = list(logs.keys())\n",
        "        print(f\"End epoch {epoch} of training; got log keys: {keys}\")\n",
        "\n",
        "    def on_test_begin(self, logs=None):\n",
        "        keys = list(logs.keys())\n",
        "        print(f\"Start testing; got log keys: {keys}\")\n",
        "\n",
        "    def on_test_end(self, logs=None):\n",
        "        keys = list(logs.keys())\n",
        "        print(f\"Stop testing; got log keys: {keys}\")\n",
        "\n",
        "    def on_train_batch_begin(self, batch, logs=None):\n",
        "        keys = list(logs.keys())\n",
        "        print(f\"...Training: start of batch {batch}; got log keys: {keys}\")\n",
        "\n",
        "    def on_train_batch_end(self, batch, logs=None):\n",
        "        keys = list(logs.keys())\n",
        "        print(f\"...Training: end of batch {batch}; got log keys: {keys}\")\n",
        "\n",
        "    def on_test_batch_begin(self, batch, logs=None):\n",
        "        keys = list(logs.keys())\n",
        "        print(f\"...Evaluating: start of batch {batch}; got log keys: {keys}\")\n",
        "\n",
        "    def on_test_batch_end(self, batch, logs=None):\n",
        "        keys = list(logs.keys())\n",
        "        print(f\"...Evaluating: end of batch {batch}; got log keys: {keys}\")"
      ],
      "metadata": {
        "id": "Uwk2zI0Yjuml"
      },
      "execution_count": null,
      "outputs": []
    },
    {
      "cell_type": "code",
      "source": [
        "model.fit(X_train, y_train,\n",
        "          epochs=1, \n",
        "          validation_data=(X_test, y_test),\n",
        "          callbacks=[CustomCallback()],\n",
        "          verbose=0);"
      ],
      "metadata": {
        "colab": {
          "base_uri": "https://localhost:8080/"
        },
        "id": "mJ3by3ggj0pM",
        "outputId": "8c5d93c9-ca2e-4dc2-b1ec-a3dadbcaf943"
      },
      "execution_count": null,
      "outputs": [
        {
          "output_type": "stream",
          "name": "stdout",
          "text": [
            "Starting training; got log keys: []\n",
            "Start epoch 0 of training; got log keys: []\n",
            "...Training: start of batch 0; got log keys: []\n",
            "...Training: end of batch 0; got log keys: ['loss', 'mae']\n",
            "...Training: start of batch 1; got log keys: []\n",
            "...Training: end of batch 1; got log keys: ['loss', 'mae']\n",
            "...Training: start of batch 2; got log keys: []\n",
            "...Training: end of batch 2; got log keys: ['loss', 'mae']\n",
            "...Training: start of batch 3; got log keys: []\n",
            "...Training: end of batch 3; got log keys: ['loss', 'mae']\n",
            "...Training: start of batch 4; got log keys: []\n",
            "...Training: end of batch 4; got log keys: ['loss', 'mae']\n",
            "...Training: start of batch 5; got log keys: []\n",
            "...Training: end of batch 5; got log keys: ['loss', 'mae']\n",
            "...Training: start of batch 6; got log keys: []\n",
            "...Training: end of batch 6; got log keys: ['loss', 'mae']\n",
            "...Training: start of batch 7; got log keys: []\n",
            "...Training: end of batch 7; got log keys: ['loss', 'mae']\n",
            "...Training: start of batch 8; got log keys: []\n",
            "...Training: end of batch 8; got log keys: ['loss', 'mae']\n",
            "...Training: start of batch 9; got log keys: []\n",
            "...Training: end of batch 9; got log keys: ['loss', 'mae']\n",
            "...Training: start of batch 10; got log keys: []\n",
            "...Training: end of batch 10; got log keys: ['loss', 'mae']\n",
            "...Training: start of batch 11; got log keys: []\n",
            "...Training: end of batch 11; got log keys: ['loss', 'mae']\n",
            "...Training: start of batch 12; got log keys: []\n",
            "...Training: end of batch 12; got log keys: ['loss', 'mae']\n",
            "Start testing; got log keys: []\n",
            "...Evaluating: start of batch 0; got log keys: []\n",
            "...Evaluating: end of batch 0; got log keys: ['loss', 'mae']\n",
            "...Evaluating: start of batch 1; got log keys: []\n",
            "...Evaluating: end of batch 1; got log keys: ['loss', 'mae']\n",
            "...Evaluating: start of batch 2; got log keys: []\n",
            "...Evaluating: end of batch 2; got log keys: ['loss', 'mae']\n",
            "...Evaluating: start of batch 3; got log keys: []\n",
            "...Evaluating: end of batch 3; got log keys: ['loss', 'mae']\n",
            "Stop testing; got log keys: ['loss', 'mae']\n",
            "End epoch 0 of training; got log keys: ['loss', 'mae', 'val_loss', 'val_mae']\n",
            "Stop training; got log keys: ['loss', 'mae', 'val_loss', 'val_mae']\n"
          ]
        }
      ]
    },
    {
      "cell_type": "code",
      "source": [
        "from IPython.display import clear_output\n",
        "import time\n",
        "\n",
        "\n",
        "class LossAndErrorPrintingCallback(keras.callbacks.Callback):\n",
        "    def on_train_batch_end(self, batch, logs=None):\n",
        "        print(\n",
        "            f'...Train: batch {batch}, the average loss is {logs[\"loss\"]:5.2f}'\n",
        "        )\n",
        "\n",
        "    def on_test_batch_end(self, batch, logs=None):\n",
        "        print(\n",
        "            f'...Test: batch {batch}, the average loss is {logs[\"loss\"]:7.2f}'\n",
        "        )\n",
        "\n",
        "    def on_epoch_begin(self, epoch, logs=None):\n",
        "        print(\n",
        "            f\"Start epoch {epoch}; You're doing great, honey!\\n\"\n",
        "        )\n",
        "    \n",
        "    def on_epoch_end(self, epoch, logs=None):\n",
        "        print(\n",
        "            f'\\nThe average loss for epoch {epoch} is {logs[\"loss\"]:7.2f} '\n",
        "            f'and mean absolute error is {logs[\"mae\"]:7.2f}.'\n",
        "        )"
      ],
      "metadata": {
        "id": "UQ_rAI4wo9Kr"
      },
      "execution_count": null,
      "outputs": []
    },
    {
      "cell_type": "code",
      "source": [
        "model.fit(X_train, y_train,\n",
        "          epochs=1, \n",
        "          validation_data=(X_test, y_test),\n",
        "          callbacks=[LossAndErrorPrintingCallback()],\n",
        "          verbose=0);"
      ],
      "metadata": {
        "colab": {
          "base_uri": "https://localhost:8080/"
        },
        "id": "oBpGWEINo_lG",
        "outputId": "aa0f0ff2-7a9f-4a2f-98a6-c7a2aac2919a"
      },
      "execution_count": null,
      "outputs": [
        {
          "output_type": "stream",
          "name": "stdout",
          "text": [
            "Start epoch 0; You're doing great, honey!\n",
            "\n",
            "...Train: batch 0, the average loss is  7.40\n",
            "...Train: batch 1, the average loss is 16.97\n",
            "...Train: batch 2, the average loss is 13.57\n",
            "...Train: batch 3, the average loss is 11.92\n",
            "...Train: batch 4, the average loss is 11.17\n",
            "...Train: batch 5, the average loss is 10.25\n",
            "...Train: batch 6, the average loss is 10.07\n",
            "...Train: batch 7, the average loss is  9.91\n",
            "...Train: batch 8, the average loss is  9.37\n",
            "...Train: batch 9, the average loss is  9.46\n",
            "...Train: batch 10, the average loss is  9.29\n",
            "...Train: batch 11, the average loss is  9.27\n",
            "...Train: batch 12, the average loss is  9.16\n",
            "...Test: batch 0, the average loss is   12.33\n",
            "...Test: batch 1, the average loss is   13.73\n",
            "...Test: batch 2, the average loss is   14.28\n",
            "...Test: batch 3, the average loss is   22.79\n",
            "\n",
            "The average loss for epoch 0 is    9.16 and mean absolute error is    2.15.\n"
          ]
        }
      ]
    },
    {
      "cell_type": "markdown",
      "source": [
        "#####**self.model.stop_training = True**\n",
        "\n",
        "прекращает обучение модели"
      ],
      "metadata": {
        "id": "2lf4HsfxnSp4"
      }
    },
    {
      "cell_type": "code",
      "source": [
        "class LossAndErrorPrintingCallback(keras.callbacks.Callback):\n",
        "    def on_train_batch_end(self, batch, logs=None):\n",
        "        print(\n",
        "            f'...Train: batch {batch}, the average loss is {logs[\"loss\"]:5.2f}'\n",
        "        )\n",
        "\n",
        "        if batch == 4:\n",
        "            self.model.stop_training = True\n",
        "            print('Model is tired. Stop it')\n",
        "\n",
        "    def on_test_batch_end(self, batch, logs=None):\n",
        "        print(\n",
        "            f'...Test: batch {batch}, the average loss is {logs[\"loss\"]:7.2f}'\n",
        "        )\n",
        "\n",
        "    def on_epoch_begin(self, epoch, logs=None):\n",
        "        print(\n",
        "            f\"Start epoch {epoch}; You're doing great, honey!\\n\"\n",
        "        )\n",
        "    \n",
        "    def on_epoch_end(self, epoch, logs=None):\n",
        "        print(\n",
        "            f'\\nThe average loss for epoch {epoch} is {logs[\"loss\"]:7.2f} '\n",
        "            f'and mean absolute error is {logs[\"mae\"]:7.2f}.'\n",
        "        )"
      ],
      "metadata": {
        "id": "LWAgNP8QlAzU"
      },
      "execution_count": null,
      "outputs": []
    },
    {
      "cell_type": "code",
      "source": [
        "model.fit(X_train, y_train,\n",
        "          epochs=2, \n",
        "          validation_data=(X_test, y_test),\n",
        "          callbacks=[LossAndErrorPrintingCallback()],\n",
        "          verbose=0);"
      ],
      "metadata": {
        "id": "pSvusXX7lCV6",
        "colab": {
          "base_uri": "https://localhost:8080/"
        },
        "outputId": "b1fff346-7e2b-4820-aec7-8db9ffe1fb06"
      },
      "execution_count": null,
      "outputs": [
        {
          "output_type": "stream",
          "name": "stdout",
          "text": [
            "Start epoch 0; You're doing great, honey!\n",
            "\n",
            "...Train: batch 0, the average loss is  7.40\n",
            "...Train: batch 1, the average loss is 16.97\n",
            "...Train: batch 2, the average loss is 13.57\n",
            "...Train: batch 3, the average loss is 11.92\n",
            "...Train: batch 4, the average loss is 11.17\n",
            "Model is tired. Stop it\n",
            "...Test: batch 0, the average loss is   12.33\n",
            "...Test: batch 1, the average loss is   13.73\n",
            "...Test: batch 2, the average loss is   14.28\n",
            "...Test: batch 3, the average loss is   22.79\n",
            "\n",
            "The average loss for epoch 0 is   11.17 and mean absolute error is    2.20.\n"
          ]
        }
      ]
    },
    {
      "cell_type": "markdown",
      "source": [
        "##### **self.model.predict()**\n",
        "\n",
        "Получать предсказания модели\n"
      ],
      "metadata": {
        "id": "eaEXWbkjpNFY"
      }
    },
    {
      "cell_type": "code",
      "source": [
        "\n",
        "class LossAndErrorPrintingCallback(keras.callbacks.Callback):\n",
        "    def on_train_batch_end(self, batch, logs=None):\n",
        "        print(\n",
        "            f'...Train: batch {batch}, the average loss is {logs[\"loss\"]:5.2f}'\n",
        "        )\n",
        "\n",
        "    def on_test_batch_end(self, batch, logs=None):\n",
        "        print(\n",
        "            f'...Test: batch {batch}, the average loss is {logs[\"loss\"]:7.2f}'\n",
        "        )\n",
        "\n",
        "    def on_epoch_begin(self, epoch, logs=None):\n",
        "\n",
        "        pred = self.model.predict(X_test[:1])\n",
        "\n",
        "        print(f'Model prediction is {pred[0][0]}. True is {y_test[0]}')\n",
        "        print(\n",
        "            f\"Start epoch {epoch}; You're doing great, honey!\\n\"\n",
        "        )\n",
        "    \n",
        "    def on_epoch_end(self, epoch, logs=None):\n",
        "        print(\n",
        "            f'\\nThe average loss for epoch {epoch} is {logs[\"loss\"]:7.2f} '\n",
        "            f'and mean absolute error is {logs[\"mae\"]:7.2f}.'\n",
        "        )"
      ],
      "metadata": {
        "id": "hxqFKeOFoaW0"
      },
      "execution_count": null,
      "outputs": []
    },
    {
      "cell_type": "code",
      "source": [
        "model.fit(X_train, y_train,\n",
        "          epochs=2, \n",
        "          validation_data=(X_test, y_test),\n",
        "          callbacks=[LossAndErrorPrintingCallback()],\n",
        "          verbose=0);"
      ],
      "metadata": {
        "colab": {
          "base_uri": "https://localhost:8080/"
        },
        "id": "kFC5kDq2od9_",
        "outputId": "4c194da2-6738-45fc-f95f-246133fa1a9d"
      },
      "execution_count": null,
      "outputs": [
        {
          "output_type": "stream",
          "name": "stdout",
          "text": [
            "Model prediction is 7.978826522827148. True is 7.2\n",
            "Start epoch 0; You're doing great, honey!\n",
            "\n",
            "...Train: batch 0, the average loss is  7.40\n",
            "...Train: batch 1, the average loss is 16.97\n",
            "...Train: batch 2, the average loss is 13.57\n",
            "...Train: batch 3, the average loss is 11.92\n",
            "...Train: batch 4, the average loss is 11.17\n",
            "...Train: batch 5, the average loss is 10.25\n",
            "...Train: batch 6, the average loss is 10.07\n",
            "...Train: batch 7, the average loss is  9.91\n",
            "...Train: batch 8, the average loss is  9.37\n",
            "...Train: batch 9, the average loss is  9.46\n",
            "...Train: batch 10, the average loss is  9.29\n",
            "...Train: batch 11, the average loss is  9.27\n",
            "...Train: batch 12, the average loss is  9.16\n",
            "...Test: batch 0, the average loss is   12.33\n",
            "...Test: batch 1, the average loss is   13.73\n",
            "...Test: batch 2, the average loss is   14.28\n",
            "...Test: batch 3, the average loss is   22.79\n",
            "\n",
            "The average loss for epoch 0 is    9.16 and mean absolute error is    2.15.\n",
            "Model prediction is 7.978828430175781. True is 7.2\n",
            "Start epoch 1; You're doing great, honey!\n",
            "\n",
            "...Train: batch 0, the average loss is  8.51\n",
            "...Train: batch 1, the average loss is  9.64\n",
            "...Train: batch 2, the average loss is 10.08\n",
            "...Train: batch 3, the average loss is  9.08\n",
            "...Train: batch 4, the average loss is  8.25\n",
            "...Train: batch 5, the average loss is  9.51\n",
            "...Train: batch 6, the average loss is 11.30\n",
            "...Train: batch 7, the average loss is 10.57\n",
            "...Train: batch 8, the average loss is  9.77\n",
            "...Train: batch 9, the average loss is  9.54\n",
            "...Train: batch 10, the average loss is  9.02\n",
            "...Train: batch 11, the average loss is  9.33\n",
            "...Train: batch 12, the average loss is  9.16\n",
            "...Test: batch 0, the average loss is   12.33\n",
            "...Test: batch 1, the average loss is   13.73\n",
            "...Test: batch 2, the average loss is   14.28\n",
            "...Test: batch 3, the average loss is   22.79\n",
            "\n",
            "The average loss for epoch 1 is    9.16 and mean absolute error is    2.15.\n"
          ]
        }
      ]
    },
    {
      "cell_type": "markdown",
      "source": [
        "##### Делать визуализации и чистить экран"
      ],
      "metadata": {
        "id": "mjz-HnompPGN"
      }
    },
    {
      "cell_type": "code",
      "source": [
        "from IPython.display import clear_output\n",
        "import time\n",
        "\n",
        "\n",
        "class LossAndErrorPrintingCallback(keras.callbacks.Callback):\n",
        "    def on_train_batch_end(self, batch, logs=None):\n",
        "        print(\n",
        "            f'...Train: batch {batch}, the average loss is {logs[\"loss\"]:5.2f}'\n",
        "        )\n",
        "        time.sleep(0.5)\n",
        "\n",
        "    def on_test_batch_end(self, batch, logs=None):\n",
        "        print(\n",
        "            f'...Test: batch {batch}, the average loss is {logs[\"loss\"]:7.2f}'\n",
        "        )\n",
        "\n",
        "    def on_epoch_begin(self, epoch, logs=None):\n",
        "        print(\n",
        "            f\"Start epoch {epoch}; You're doing great, honey!\\n\"\n",
        "        )\n",
        "    \n",
        "    def on_epoch_end(self, epoch, logs=None):\n",
        "        print(\n",
        "            f'\\nThe average loss for epoch {epoch} is {logs[\"loss\"]:7.2f} '\n",
        "            f'and mean absolute error is {logs[\"mae\"]:7.2f}.'\n",
        "        )\n",
        "        print('\\nIn 2 seconds screen will be clear')\n",
        "        time.sleep(2)\n",
        "        clear_output(wait=True)"
      ],
      "metadata": {
        "id": "O7yHAp20ofMx"
      },
      "execution_count": null,
      "outputs": []
    },
    {
      "cell_type": "code",
      "source": [
        "model.fit(X_train, y_train,\n",
        "          epochs=2, \n",
        "          validation_data=(X_test, y_test),\n",
        "          callbacks=[LossAndErrorPrintingCallback()],\n",
        "          verbose=0);"
      ],
      "metadata": {
        "colab": {
          "base_uri": "https://localhost:8080/"
        },
        "id": "-CnapMSLokFf",
        "outputId": "2f702eb2-e1f1-4d1b-8f99-ce71b0516d85"
      },
      "execution_count": null,
      "outputs": [
        {
          "output_type": "stream",
          "name": "stdout",
          "text": [
            "Start epoch 1; You're doing great, honey!\n",
            "\n",
            "...Train: batch 0, the average loss is  8.51\n",
            "...Train: batch 1, the average loss is  9.64\n",
            "...Train: batch 2, the average loss is 10.08\n",
            "...Train: batch 3, the average loss is  9.08\n",
            "...Train: batch 4, the average loss is  8.25\n",
            "...Train: batch 5, the average loss is  9.51\n",
            "...Train: batch 6, the average loss is 11.30\n",
            "...Train: batch 7, the average loss is 10.57\n",
            "...Train: batch 8, the average loss is  9.77\n",
            "...Train: batch 9, the average loss is  9.54\n",
            "...Train: batch 10, the average loss is  9.02\n",
            "...Train: batch 11, the average loss is  9.33\n",
            "...Train: batch 12, the average loss is  9.16\n",
            "...Test: batch 0, the average loss is   12.33\n",
            "...Test: batch 1, the average loss is   13.73\n",
            "...Test: batch 2, the average loss is   14.28\n",
            "...Test: batch 3, the average loss is   22.79\n",
            "\n",
            "The average loss for epoch 1 is    9.16 and mean absolute error is    2.15.\n",
            "\n",
            "In 2 seconds screen will be clear\n"
          ]
        }
      ]
    },
    {
      "cell_type": "markdown",
      "source": [
        "Можно изменять параметры оптимизатора **self.model.optimizer.learning_rate**\n"
      ],
      "metadata": {
        "id": "0yyAH6xWpf7H"
      }
    },
    {
      "cell_type": "markdown",
      "source": [
        "## Summary\n",
        "\n",
        "\n",
        "Вот мы и разобрались, что такое callback и как им пользоваться при обучении нейронной сети через keras."
      ],
      "metadata": {
        "id": "cKL1g6ILJiNk"
      }
    },
    {
      "cell_type": "markdown",
      "source": [
        "**Callback (обратные вызовы)** – набор функций, применяемых в определенные моменты во время процедуры обучения."
      ],
      "metadata": {
        "id": "bX9poU4vs0f8"
      }
    }
  ]
}
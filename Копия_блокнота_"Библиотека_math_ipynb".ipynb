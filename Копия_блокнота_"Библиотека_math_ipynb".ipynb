{
  "nbformat": 4,
  "nbformat_minor": 0,
  "metadata": {
    "colab": {
      "provenance": [],
      "include_colab_link": true
    },
    "kernelspec": {
      "name": "python3",
      "display_name": "Python 3"
    },
    "language_info": {
      "name": "python"
    }
  },
  "cells": [
    {
      "cell_type": "markdown",
      "metadata": {
        "id": "view-in-github",
        "colab_type": "text"
      },
      "source": [
        "<a href=\"https://colab.research.google.com/github/vn322/Synergy_DBM_301_CS/blob/main/%D0%9A%D0%BE%D0%BF%D0%B8%D1%8F_%D0%B1%D0%BB%D0%BE%D0%BA%D0%BD%D0%BE%D1%82%D0%B0_%22%D0%91%D0%B8%D0%B1%D0%BB%D0%B8%D0%BE%D1%82%D0%B5%D0%BA%D0%B0_math_ipynb%22.ipynb\" target=\"_parent\"><img src=\"https://colab.research.google.com/assets/colab-badge.svg\" alt=\"Open In Colab\"/></a>"
      ]
    },
    {
      "cell_type": "markdown",
      "source": [
        "Библиотека Python math\n",
        " содержит наиболее применяемые математические функции и константы. Все вычисления происходят на множестве вещественных чисел. \n",
        "\n",
        "Если вам нужен соответствующий аппарат для комплексного исчисления, модуль \n",
        "math не подойдёт. Используйте вместо него cmath. Там вы найдёте комплексные версии большинства популярных  функций из math"
      ],
      "metadata": {
        "id": "t3InKspcg0Oy"
      }
    },
    {
      "cell_type": "code",
      "execution_count": 1,
      "metadata": {
        "id": "Il4IahudfjRy"
      },
      "outputs": [],
      "source": [
        "import math"
      ]
    },
    {
      "cell_type": "markdown",
      "source": [
        "# Константы модуля Math"
      ],
      "metadata": {
        "id": "WLsgDkGlhaRq"
      }
    },
    {
      "cell_type": "markdown",
      "source": [
        "**math.pi**\n",
        "\n",
        "Представление математической константы π = 3.141592…. \"Пи\" — это отношение длины окружности к её диаметру."
      ],
      "metadata": {
        "id": "nwB4dJWehtDP"
      }
    },
    {
      "cell_type": "code",
      "source": [
        "math.pi"
      ],
      "metadata": {
        "colab": {
          "base_uri": "https://localhost:8080/"
        },
        "id": "oGBsQy0fh2Bg",
        "outputId": "e0ca5c63-cf52-46a2-cd01-9c25858a2480"
      },
      "execution_count": null,
      "outputs": [
        {
          "output_type": "execute_result",
          "data": {
            "text/plain": [
              "3.141592653589793"
            ]
          },
          "metadata": {},
          "execution_count": 2
        }
      ]
    },
    {
      "cell_type": "markdown",
      "source": [
        "**math.e** \n",
        "\n",
        "Число Эйлера или просто e\n",
        ". Иррациональное число, которое приблизительно равно 2,71828."
      ],
      "metadata": {
        "id": "rqp_Oi83h6KY"
      }
    },
    {
      "cell_type": "code",
      "source": [
        "math.e"
      ],
      "metadata": {
        "colab": {
          "base_uri": "https://localhost:8080/"
        },
        "id": "d84Nzd4OiDzY",
        "outputId": "8d850725-d52b-491d-8736-0ac3d64db425"
      },
      "execution_count": null,
      "outputs": [
        {
          "output_type": "execute_result",
          "data": {
            "text/plain": [
              "2.718281828459045"
            ]
          },
          "metadata": {},
          "execution_count": 3
        }
      ]
    },
    {
      "cell_type": "markdown",
      "source": [
        "**math.ceil()** \n",
        "\n",
        "Функция округляет аргумент до большего целого числа."
      ],
      "metadata": {
        "id": "tIph2sBAihs5"
      }
    },
    {
      "cell_type": "code",
      "source": [
        "math.ceil(3.0001)"
      ],
      "metadata": {
        "colab": {
          "base_uri": "https://localhost:8080/"
        },
        "id": "rBd_TVsGipZf",
        "outputId": "2d58c6b5-0e48-4464-9ee3-f19edb17db77"
      },
      "execution_count": null,
      "outputs": [
        {
          "output_type": "execute_result",
          "data": {
            "text/plain": [
              "4"
            ]
          },
          "metadata": {},
          "execution_count": 4
        }
      ]
    },
    {
      "cell_type": "markdown",
      "source": [
        "**math.floor()** \n",
        "\n",
        " Округляет число до ближайшего целого, но в меньшую сторону."
      ],
      "metadata": {
        "id": "4oAuvASjjyXA"
      }
    },
    {
      "cell_type": "code",
      "source": [
        "math.floor(3.99)"
      ],
      "metadata": {
        "colab": {
          "base_uri": "https://localhost:8080/"
        },
        "id": "xo3J-e3ej5fJ",
        "outputId": "87bded67-8c4b-4d8c-db59-27f300fe2a9e"
      },
      "execution_count": null,
      "outputs": [
        {
          "output_type": "execute_result",
          "data": {
            "text/plain": [
              "3"
            ]
          },
          "metadata": {},
          "execution_count": 9
        }
      ]
    },
    {
      "cell_type": "markdown",
      "source": [
        "**math.perm(n, k)** \n",
        "\n",
        "Возвращает число размещений из n по k\n",
        "\n",
        "Например: Посчитать количество вариантов распределения трёх игровых предметов среди пяти героев"
      ],
      "metadata": {
        "id": "HrjDkFeFlnND"
      }
    },
    {
      "cell_type": "code",
      "source": [
        "math.perm(5, 3)"
      ],
      "metadata": {
        "colab": {
          "base_uri": "https://localhost:8080/"
        },
        "id": "CSV9MEFHl3iB",
        "outputId": "8c620e28-c052-4d21-c764-408cbe6f6d45"
      },
      "execution_count": null,
      "outputs": [
        {
          "output_type": "execute_result",
          "data": {
            "text/plain": [
              "60"
            ]
          },
          "metadata": {},
          "execution_count": 13
        }
      ]
    },
    {
      "cell_type": "markdown",
      "source": [
        "**math.comb(n, k)** \n",
        "\n",
        "Число сочетаний из n по k. Показывает сколькими способами можно выбрать k\n",
        " объектов из набора, где находится n объектов. \n",
        "\n",
        "Например: На столе лежат шесть рубинов. Сколько существует способов выбрать два из них?"
      ],
      "metadata": {
        "id": "eNMZOMleiwBQ"
      }
    },
    {
      "cell_type": "code",
      "source": [
        "math.comb(6,2)"
      ],
      "metadata": {
        "colab": {
          "base_uri": "https://localhost:8080/"
        },
        "id": "CFcb057tjKfw",
        "outputId": "8ecccc48-ce4c-4dc7-a1dd-1fd70223f27c"
      },
      "execution_count": null,
      "outputs": [
        {
          "output_type": "execute_result",
          "data": {
            "text/plain": [
              "15"
            ]
          },
          "metadata": {},
          "execution_count": 5
        }
      ]
    },
    {
      "cell_type": "markdown",
      "source": [
        "**math.copysign()** \n",
        "\n",
        "Функция принимает два аргумента. Возвращает первый аргумент, но со знаком второго."
      ],
      "metadata": {
        "id": "KxrCZCc0jR_i"
      }
    },
    {
      "cell_type": "code",
      "source": [
        "math.copysign(-6, 2)"
      ],
      "metadata": {
        "colab": {
          "base_uri": "https://localhost:8080/"
        },
        "id": "pjcR9IQfjWn7",
        "outputId": "8baaf880-f2aa-452b-976c-a82ccffb4ea5"
      },
      "execution_count": null,
      "outputs": [
        {
          "output_type": "execute_result",
          "data": {
            "text/plain": [
              "6.0"
            ]
          },
          "metadata": {},
          "execution_count": 6
        }
      ]
    },
    {
      "cell_type": "markdown",
      "source": [
        "**math.fabs()**\n",
        "\n",
        "Функция возвращает абсолютное значение аргумента:"
      ],
      "metadata": {
        "id": "cuosorywjblY"
      }
    },
    {
      "cell_type": "code",
      "source": [
        "math.fabs(-42)"
      ],
      "metadata": {
        "colab": {
          "base_uri": "https://localhost:8080/"
        },
        "id": "tFeYrjh2jhRb",
        "outputId": "a6363e90-7f6c-49b4-d940-dd917309eb92"
      },
      "execution_count": null,
      "outputs": [
        {
          "output_type": "execute_result",
          "data": {
            "text/plain": [
              "42.0"
            ]
          },
          "metadata": {},
          "execution_count": 7
        }
      ]
    },
    {
      "cell_type": "markdown",
      "source": [
        "**math.factorial()** \n",
        "\n",
        "Вычисление факториала. Входящее значение должно быть целочисленным и неотрицательным."
      ],
      "metadata": {
        "id": "cJtbt4FWjni5"
      }
    },
    {
      "cell_type": "code",
      "source": [
        "math.factorial(5)"
      ],
      "metadata": {
        "colab": {
          "base_uri": "https://localhost:8080/"
        },
        "id": "ssIjM_6Ejt0y",
        "outputId": "9851e10b-f942-4d87-9acc-893214ce4afe"
      },
      "execution_count": null,
      "outputs": [
        {
          "output_type": "execute_result",
          "data": {
            "text/plain": [
              "120"
            ]
          },
          "metadata": {},
          "execution_count": 8
        }
      ]
    },
    {
      "cell_type": "markdown",
      "source": [
        "**math.gcd(a, b)** \n",
        "\n",
        "Возвращает наибольший общий делитель  — это самое большое число, на которое a и b делятся без остатка."
      ],
      "metadata": {
        "id": "jmQ3pLGCkNjT"
      }
    },
    {
      "cell_type": "code",
      "source": [
        "a = 5\n",
        "b = 15\n",
        "print(math.gcd(a, b))"
      ],
      "metadata": {
        "colab": {
          "base_uri": "https://localhost:8080/"
        },
        "id": "sVwls5ASkYRZ",
        "outputId": "9f88f744-6901-486c-ada8-d827e09fe921"
      },
      "execution_count": null,
      "outputs": [
        {
          "output_type": "stream",
          "name": "stdout",
          "text": [
            "5\n"
          ]
        }
      ]
    },
    {
      "cell_type": "markdown",
      "source": [
        "**math.isclose(x, y)** \n",
        "\n",
        "Функция возвращает \n",
        "True, если значения чисел \n",
        "близки друг к другу, и \n",
        "False\n",
        " в ином случае. Помимо пары чисел принимает ещё два необязательных именованных аргумента:\n",
        "\n",
        "*rel_tol*\n",
        " — максимально допустимая разница между числами в процентах;\n",
        "\n",
        "*abs_tol*\n",
        " — минимально допустимая разница."
      ],
      "metadata": {
        "id": "cl7rAJvFkj-h"
      }
    },
    {
      "cell_type": "code",
      "source": [
        "x = 10\n",
        "y = 12\n",
        "\n",
        "print(math.isclose(x, y))\n",
        "\n",
        "print(math.isclose(x, y, rel_tol=0.1))"
      ],
      "metadata": {
        "colab": {
          "base_uri": "https://localhost:8080/"
        },
        "id": "tNZAyYkZkx7b",
        "outputId": "4fb6276c-cbb0-40da-e482-e3e1bb0ebec0"
      },
      "execution_count": 8,
      "outputs": [
        {
          "output_type": "stream",
          "name": "stdout",
          "text": [
            "False\n",
            "False\n"
          ]
        }
      ]
    },
    {
      "cell_type": "code",
      "source": [
        "math.isclose(x, y, abs_tol=0.1)"
      ],
      "metadata": {
        "colab": {
          "base_uri": "https://localhost:8080/"
        },
        "id": "bdYcjp9wEjoE",
        "outputId": "3612bb0c-17ed-4bb2-f004-6b7c1f56b093"
      },
      "execution_count": 4,
      "outputs": [
        {
          "output_type": "execute_result",
          "data": {
            "text/plain": [
              "False"
            ]
          },
          "metadata": {},
          "execution_count": 4
        }
      ]
    },
    {
      "cell_type": "markdown",
      "source": [
        "**math.modf()** \n",
        "\n",
        "Результат работы \n",
        " — это кортеж из двух значений:\n",
        "\n",
        "- Дробная часть аргумента;\n",
        "- Целая часть аргумента;"
      ],
      "metadata": {
        "id": "surJvqqElLzL"
      }
    },
    {
      "cell_type": "code",
      "source": [
        "math.modf(3.14)"
      ],
      "metadata": {
        "colab": {
          "base_uri": "https://localhost:8080/"
        },
        "id": "UTZZw2v7lYxJ",
        "outputId": "389ae356-51d8-494f-9c21-a644fdcf88f1"
      },
      "execution_count": null,
      "outputs": [
        {
          "output_type": "execute_result",
          "data": {
            "text/plain": [
              "(0.14000000000000012, 3.0)"
            ]
          },
          "metadata": {},
          "execution_count": 12
        }
      ]
    },
    {
      "cell_type": "markdown",
      "source": [
        "**math.prod()** \n",
        "\n",
        "Принимает итерируемый объект. Возвращает произведение элементов."
      ],
      "metadata": {
        "id": "-QNmXplZmS8K"
      }
    },
    {
      "cell_type": "code",
      "source": [
        "multiple_list = [2, 3, 4]\n",
        "print(math.prod(multiple_list))"
      ],
      "metadata": {
        "colab": {
          "base_uri": "https://localhost:8080/"
        },
        "id": "2KxZ6upWmVO7",
        "outputId": "ff646492-6896-4199-cf88-d71d0c00a4f3"
      },
      "execution_count": null,
      "outputs": [
        {
          "output_type": "stream",
          "name": "stdout",
          "text": [
            "24\n"
          ]
        }
      ]
    },
    {
      "cell_type": "markdown",
      "source": [
        "**math.exp(x)** \n",
        "\n",
        "Возвращает e в степени x"
      ],
      "metadata": {
        "id": "vvX0dBSvmxlh"
      }
    },
    {
      "cell_type": "code",
      "source": [
        "math.exp(3)"
      ],
      "metadata": {
        "colab": {
          "base_uri": "https://localhost:8080/"
        },
        "id": "ss4CTrdEm5aS",
        "outputId": "12ec8ca3-5966-493d-dbd4-3183e6dd400d"
      },
      "execution_count": null,
      "outputs": [
        {
          "output_type": "execute_result",
          "data": {
            "text/plain": [
              "20.085536923187668"
            ]
          },
          "metadata": {},
          "execution_count": 15
        }
      ]
    },
    {
      "cell_type": "markdown",
      "source": [
        "**math.log()** \n",
        "\n",
        "Функция работает, как с одним, так и с двумя параметрами.\n",
        "\n",
        "1 аргумент: вернёт значение натурального логарифма \n",
        "\n",
        "\n",
        "2 аргумента: вернёт значение логарифма по основанию, заданному во втором аргументе:"
      ],
      "metadata": {
        "id": "tK-Rils8nHES"
      }
    },
    {
      "cell_type": "code",
      "source": [
        "print(math.log(math.e))\n",
        "print(math.log(16, 4))"
      ],
      "metadata": {
        "colab": {
          "base_uri": "https://localhost:8080/"
        },
        "id": "rXL4ihnQnQxy",
        "outputId": "74678a26-c3a0-46f8-d3f3-f5448ea873a0"
      },
      "execution_count": null,
      "outputs": [
        {
          "output_type": "stream",
          "name": "stdout",
          "text": [
            "1.0\n",
            "2.0\n"
          ]
        }
      ]
    },
    {
      "cell_type": "markdown",
      "source": [
        "**math.pow(a, b)** \n",
        "\n",
        "Функция выполняет возведение числа  в степень  и возвращает затем вещественный результат."
      ],
      "metadata": {
        "id": "o9b4OrYAnf3r"
      }
    },
    {
      "cell_type": "code",
      "source": [
        "math.pow(2,4)"
      ],
      "metadata": {
        "colab": {
          "base_uri": "https://localhost:8080/"
        },
        "id": "w3jnqM_unrO6",
        "outputId": "005d2651-9fcc-4989-fc24-84d90e593c03"
      },
      "execution_count": null,
      "outputs": [
        {
          "output_type": "execute_result",
          "data": {
            "text/plain": [
              "16.0"
            ]
          },
          "metadata": {},
          "execution_count": 17
        }
      ]
    },
    {
      "cell_type": "markdown",
      "source": [
        "**math.sqrt()** \n",
        "\n",
        "Возврат квадратного корня из аргумента"
      ],
      "metadata": {
        "id": "5skpmwLjnwua"
      }
    },
    {
      "cell_type": "code",
      "source": [
        "math.sqrt(16)"
      ],
      "metadata": {
        "colab": {
          "base_uri": "https://localhost:8080/"
        },
        "id": "Fk-6ClW9n2hK",
        "outputId": "9c1ac9a6-5237-4da1-f3c1-4368688545f6"
      },
      "execution_count": null,
      "outputs": [
        {
          "output_type": "execute_result",
          "data": {
            "text/plain": [
              "4.0"
            ]
          },
          "metadata": {},
          "execution_count": 18
        }
      ]
    },
    {
      "cell_type": "markdown",
      "source": [
        "**math.cos()** \n",
        "\n",
        "Косинус угла, который следует указывать в радианах"
      ],
      "metadata": {
        "id": "Jctch8rlo_0j"
      }
    },
    {
      "cell_type": "code",
      "source": [
        "math.cos(math.pi)"
      ],
      "metadata": {
        "colab": {
          "base_uri": "https://localhost:8080/"
        },
        "id": "L0iq-OtKpGHL",
        "outputId": "19ea8cd6-3b1b-402d-a895-b78f7175de34"
      },
      "execution_count": null,
      "outputs": [
        {
          "output_type": "execute_result",
          "data": {
            "text/plain": [
              "-1.0"
            ]
          },
          "metadata": {},
          "execution_count": 23
        }
      ]
    },
    {
      "cell_type": "markdown",
      "source": [
        "**math.acos()** \n",
        "\n",
        "Функция возвращает арккосинус в радианах:"
      ],
      "metadata": {
        "id": "P898NV5Pn70j"
      }
    },
    {
      "cell_type": "code",
      "source": [
        "math.acos(-1)"
      ],
      "metadata": {
        "colab": {
          "base_uri": "https://localhost:8080/"
        },
        "id": "H7IowcxloARt",
        "outputId": "4cc33ddd-bd6b-4f84-a4ff-adbf95a56eb2"
      },
      "execution_count": null,
      "outputs": [
        {
          "output_type": "execute_result",
          "data": {
            "text/plain": [
              "3.141592653589793"
            ]
          },
          "metadata": {},
          "execution_count": 19
        }
      ]
    },
    {
      "cell_type": "markdown",
      "source": [
        "**math.sin()** \n",
        "\n",
        "Функция вернёт синус угла. Угол следует задавать в радианах"
      ],
      "metadata": {
        "id": "DrMcKfIKps8E"
      }
    },
    {
      "cell_type": "code",
      "source": [
        "math.sin(10)"
      ],
      "metadata": {
        "colab": {
          "base_uri": "https://localhost:8080/"
        },
        "id": "_BSHhDiVpyaj",
        "outputId": "87441b12-1516-440f-daca-1b8e5ca2638b"
      },
      "execution_count": null,
      "outputs": [
        {
          "output_type": "execute_result",
          "data": {
            "text/plain": [
              "-0.5440211108893698"
            ]
          },
          "metadata": {},
          "execution_count": 27
        }
      ]
    },
    {
      "cell_type": "markdown",
      "source": [
        "**math.asin()** \n",
        "\n",
        "Возврат арксинуса (угол в радианах):"
      ],
      "metadata": {
        "id": "Ak3jW-rNoEyq"
      }
    },
    {
      "cell_type": "code",
      "source": [
        "math.asin(1)"
      ],
      "metadata": {
        "colab": {
          "base_uri": "https://localhost:8080/"
        },
        "id": "e7W3x0HAoJr0",
        "outputId": "1dc664a4-0a37-4adc-8826-afc3a8148f31"
      },
      "execution_count": null,
      "outputs": [
        {
          "output_type": "execute_result",
          "data": {
            "text/plain": [
              "1.5707963267948966"
            ]
          },
          "metadata": {},
          "execution_count": 20
        }
      ]
    },
    {
      "cell_type": "markdown",
      "source": [
        "**math.tan()** \n",
        "\n",
        "Тангенс угла. Аргумент указываем в радианах"
      ],
      "metadata": {
        "id": "017qI2Hrp-P9"
      }
    },
    {
      "cell_type": "code",
      "source": [
        "math.tan(math.radians(315))"
      ],
      "metadata": {
        "colab": {
          "base_uri": "https://localhost:8080/"
        },
        "id": "6UiZU5NnqEAt",
        "outputId": "35efbabd-fff7-4229-a8b1-2b759f099fa1"
      },
      "execution_count": null,
      "outputs": [
        {
          "output_type": "execute_result",
          "data": {
            "text/plain": [
              "-1.0000000000000004"
            ]
          },
          "metadata": {},
          "execution_count": 28
        }
      ]
    },
    {
      "cell_type": "markdown",
      "source": [
        "**math.atan()** \n",
        "\n",
        "Арктангенс:"
      ],
      "metadata": {
        "id": "E2xu_ZOOoRH0"
      }
    },
    {
      "cell_type": "code",
      "source": [
        "math.atan(1)"
      ],
      "metadata": {
        "colab": {
          "base_uri": "https://localhost:8080/"
        },
        "id": "T2yeMvi6oXqE",
        "outputId": "8363b314-4dfa-4a02-a65f-ec9c4a0af140"
      },
      "execution_count": null,
      "outputs": [
        {
          "output_type": "execute_result",
          "data": {
            "text/plain": [
              "0.7853981633974483"
            ]
          },
          "metadata": {},
          "execution_count": 21
        }
      ]
    },
    {
      "cell_type": "markdown",
      "source": [
        "**math.atan2(y, x)** \n",
        "\n",
        "Функция принимает на вход два аргумента и возвращает арктангенс и учитывает четверть, в которой находится точка \n",
        "(x, y)"
      ],
      "metadata": {
        "id": "Kb-zSNhqoixK"
      }
    },
    {
      "cell_type": "code",
      "source": [
        "math.atan2(-12, 13)"
      ],
      "metadata": {
        "colab": {
          "base_uri": "https://localhost:8080/"
        },
        "id": "Od_NKcB9o3Pz",
        "outputId": "cf8c6800-eb51-48e6-c15f-14a47a2bbdaf"
      },
      "execution_count": null,
      "outputs": [
        {
          "output_type": "execute_result",
          "data": {
            "text/plain": [
              "-0.7454194762741583"
            ]
          },
          "metadata": {},
          "execution_count": 22
        }
      ]
    },
    {
      "cell_type": "markdown",
      "source": [
        "**math.degrees()** \n",
        "\n",
        "Функция переводит радианное значение угла в градусы."
      ],
      "metadata": {
        "id": "3nzy0vD1qLCt"
      }
    },
    {
      "cell_type": "code",
      "source": [
        "math.degrees(math.pi)"
      ],
      "metadata": {
        "colab": {
          "base_uri": "https://localhost:8080/"
        },
        "id": "lU0-LEZsqQsU",
        "outputId": "1f2f3af5-d8f1-4163-c0ba-59f37be9c646"
      },
      "execution_count": null,
      "outputs": [
        {
          "output_type": "execute_result",
          "data": {
            "text/plain": [
              "180.0"
            ]
          },
          "metadata": {},
          "execution_count": 29
        }
      ]
    },
    {
      "cell_type": "markdown",
      "source": [
        "**math.radians()** \n",
        "\n",
        "Наоборот: из градусов — в радианы"
      ],
      "metadata": {
        "id": "xmCIs07Gqcds"
      }
    },
    {
      "cell_type": "code",
      "source": [
        "math.radians(30)"
      ],
      "metadata": {
        "colab": {
          "base_uri": "https://localhost:8080/"
        },
        "id": "Zn3en7t6qlwM",
        "outputId": "f0e69209-651f-4ae9-8add-078e1f085e69"
      },
      "execution_count": null,
      "outputs": [
        {
          "output_type": "execute_result",
          "data": {
            "text/plain": [
              "0.5235987755982988"
            ]
          },
          "metadata": {},
          "execution_count": 30
        }
      ]
    },
    {
      "cell_type": "markdown",
      "source": [
        "**math.dist(p, q)**\n",
        " \n",
        "Функция возвращает значение евклидова расстояния между точками. У точек должны совпадать измерения. "
      ],
      "metadata": {
        "id": "42pPBvtepL52"
      }
    },
    {
      "cell_type": "code",
      "source": [
        "math.dist((10, 20,1), (2, 2,1))"
      ],
      "metadata": {
        "colab": {
          "base_uri": "https://localhost:8080/"
        },
        "id": "1dZ5gGHhpYRz",
        "outputId": "f8494b4a-eefa-445a-ec24-b58d96009515"
      },
      "execution_count": 10,
      "outputs": [
        {
          "output_type": "execute_result",
          "data": {
            "text/plain": [
              "19.697715603592208"
            ]
          },
          "metadata": {},
          "execution_count": 10
        }
      ]
    },
    {
      "cell_type": "code",
      "source": [
        "math.dist((10, 20,1.34), (2, 2,1))"
      ],
      "metadata": {
        "colab": {
          "base_uri": "https://localhost:8080/"
        },
        "outputId": "6c176fe3-82c8-4969-c63a-6a68a5df17e6",
        "id": "ov8Af7jdFkdZ"
      },
      "execution_count": 12,
      "outputs": [
        {
          "output_type": "execute_result",
          "data": {
            "text/plain": [
              "19.70064973547827"
            ]
          },
          "metadata": {},
          "execution_count": 12
        }
      ]
    },
    {
      "cell_type": "code",
      "source": [
        "import matplotlib.pyplot as plt\n"
      ],
      "metadata": {
        "id": "HV01WAOjGMI-"
      },
      "execution_count": 13,
      "outputs": []
    },
    {
      "cell_type": "code",
      "source": [
        "x = 10, 40\n",
        "y= 2, 12\n",
        "z= 5,40\n",
        "v= 14, 38"
      ],
      "metadata": {
        "id": "-Z1KOFP0G_7l"
      },
      "execution_count": 34,
      "outputs": []
    },
    {
      "cell_type": "code",
      "source": [
        "fig, ax = plt.subplots()\n",
        "ax.plot(x,y, c= 'r')\n",
        "ax.plot(x,v, c= 'g')"
      ],
      "metadata": {
        "colab": {
          "base_uri": "https://localhost:8080/",
          "height": 447
        },
        "id": "Wl__mnAxGSyy",
        "outputId": "c0beb42a-d881-4e6f-a90b-6aa83a4a80f6"
      },
      "execution_count": 38,
      "outputs": [
        {
          "output_type": "execute_result",
          "data": {
            "text/plain": [
              "[<matplotlib.lines.Line2D at 0x7f3de104ca60>]"
            ]
          },
          "metadata": {},
          "execution_count": 38
        },
        {
          "output_type": "display_data",
          "data": {
            "text/plain": [
              "<Figure size 640x480 with 1 Axes>"
            ],
            "image/png": "[encoded data removed]"
          },
          "metadata": {}
        }
      ]
    },
    {
      "cell_type": "markdown",
      "source": [
        "**math.hypot(x, y)** \n",
        "\n",
        "Возвращает длину вектора от начала координат до точки, заданной координатами. Иначе — функция вычисляет гипотенузу треугольника c катетами x и y"
      ],
      "metadata": {
        "id": "GbWVsm-lpf4s"
      }
    },
    {
      "cell_type": "code",
      "source": [
        "math.hypot(3, 4)"
      ],
      "metadata": {
        "colab": {
          "base_uri": "https://localhost:8080/"
        },
        "id": "RS7S346Upei7",
        "outputId": "f90a1c31-0031-4556-b88f-98f5612460aa"
      },
      "execution_count": null,
      "outputs": [
        {
          "output_type": "execute_result",
          "data": {
            "text/plain": [
              "5.0"
            ]
          },
          "metadata": {},
          "execution_count": 25
        }
      ]
    },
    {
      "cell_type": "markdown",
      "source": [
        "## Задания"
      ],
      "metadata": {
        "id": "2LdaNk-zrT-F"
      }
    },
    {
      "cell_type": "markdown",
      "source": [
        "Пять фигур расположенных в ряд представляют собой замок в секретную комнату. Напишите скрипт определяющий сколькими способами можно переставить эти фигуры."
      ],
      "metadata": {
        "id": "8U0VBej0s030"
      }
    },
    {
      "cell_type": "code",
      "source": [],
      "metadata": {
        "colab": {
          "base_uri": "https://localhost:8080/"
        },
        "id": "fLQcIzSttRX0",
        "outputId": "7e434217-a16c-4f14-a966-ede04bdf4738"
      },
      "execution_count": null,
      "outputs": [
        {
          "output_type": "execute_result",
          "data": {
            "text/plain": [
              "120"
            ]
          },
          "metadata": {},
          "execution_count": 31
        }
      ]
    },
    {
      "cell_type": "markdown",
      "source": [
        "Напишите скрипт определяющий сколькими способами можно выбрать три фигуры из этих пяти."
      ],
      "metadata": {
        "id": "0pFpJdyqtbe9"
      }
    },
    {
      "cell_type": "code",
      "source": [],
      "metadata": {
        "id": "CpW5nkwUt0tr",
        "outputId": "837d5b03-c1b7-48f5-b9b7-f207833f5bf2",
        "colab": {
          "base_uri": "https://localhost:8080/"
        }
      },
      "execution_count": null,
      "outputs": [
        {
          "output_type": "execute_result",
          "data": {
            "text/plain": [
              "10"
            ]
          },
          "metadata": {},
          "execution_count": 32
        }
      ]
    }
  ]
}
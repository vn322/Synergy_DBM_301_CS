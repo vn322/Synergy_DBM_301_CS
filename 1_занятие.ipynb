{
  "nbformat": 4,
  "nbformat_minor": 0,
  "metadata": {
    "colab": {
      "provenance": [],
      "authorship_tag": "ABX9TyMHvP0D3eG3mRadDtWMxnXF",
      "include_colab_link": true
    },
    "kernelspec": {
      "name": "python3",
      "display_name": "Python 3"
    },
    "language_info": {
      "name": "python"
    }
  },
  "cells": [
    {
      "cell_type": "markdown",
      "metadata": {
        "id": "view-in-github",
        "colab_type": "text"
      },
      "source": [
        "<a href=\"https://colab.research.google.com/github/vn322/Synergy_DBM_301_CS/blob/main/1_%D0%B7%D0%B0%D0%BD%D1%8F%D1%82%D0%B8%D0%B5.ipynb\" target=\"_parent\"><img src=\"https://colab.research.google.com/assets/colab-badge.svg\" alt=\"Open In Colab\"/></a>"
      ]
    },
    {
      "cell_type": "markdown",
      "source": [
        "# Первый скрипт"
      ],
      "metadata": {
        "id": "UhDekox7iV7Y"
      }
    },
    {
      "cell_type": "markdown",
      "source": [
        "$$x*3+9/4=z$$"
      ],
      "metadata": {
        "id": "gMjYSs3_ioRI"
      }
    },
    {
      "cell_type": "code",
      "execution_count": 1,
      "metadata": {
        "colab": {
          "base_uri": "https://localhost:8080/"
        },
        "id": "NHHbBrsyiLkn",
        "outputId": "3a0b59da-e008-467b-f473-1a2895f33be1"
      },
      "outputs": [
        {
          "output_type": "execute_result",
          "data": {
            "text/plain": [
              "4"
            ]
          },
          "metadata": {},
          "execution_count": 1
        }
      ],
      "source": [
        "2+2"
      ]
    },
    {
      "cell_type": "code",
      "source": [
        "type(2)"
      ],
      "metadata": {
        "colab": {
          "base_uri": "https://localhost:8080/"
        },
        "id": "f5Sa4N4ljsRD",
        "outputId": "f7b0e955-b917-45df-e1ac-94b0b55eec7a"
      },
      "execution_count": 2,
      "outputs": [
        {
          "output_type": "execute_result",
          "data": {
            "text/plain": [
              "int"
            ]
          },
          "metadata": {},
          "execution_count": 2
        }
      ]
    },
    {
      "cell_type": "code",
      "source": [
        "type(2.0)"
      ],
      "metadata": {
        "colab": {
          "base_uri": "https://localhost:8080/"
        },
        "id": "M5Ykz9Ckj3eP",
        "outputId": "d8eae653-8f21-41c8-bff7-486495779128"
      },
      "execution_count": 3,
      "outputs": [
        {
          "output_type": "execute_result",
          "data": {
            "text/plain": [
              "float"
            ]
          },
          "metadata": {},
          "execution_count": 3
        }
      ]
    },
    {
      "cell_type": "code",
      "source": [
        "type(3/4)"
      ],
      "metadata": {
        "colab": {
          "base_uri": "https://localhost:8080/"
        },
        "id": "Kg3FHyxFkBT8",
        "outputId": "c1edf801-edca-4e75-bc17-5b8005eee514"
      },
      "execution_count": 4,
      "outputs": [
        {
          "output_type": "execute_result",
          "data": {
            "text/plain": [
              "float"
            ]
          },
          "metadata": {},
          "execution_count": 4
        }
      ]
    },
    {
      "cell_type": "code",
      "source": [
        "3>4"
      ],
      "metadata": {
        "colab": {
          "base_uri": "https://localhost:8080/"
        },
        "id": "2FRMc4AgkM2u",
        "outputId": "f98f2e36-8822-4908-f01e-c097affc5ac5"
      },
      "execution_count": 5,
      "outputs": [
        {
          "output_type": "execute_result",
          "data": {
            "text/plain": [
              "False"
            ]
          },
          "metadata": {},
          "execution_count": 5
        }
      ]
    },
    {
      "cell_type": "code",
      "source": [
        "True+False"
      ],
      "metadata": {
        "colab": {
          "base_uri": "https://localhost:8080/"
        },
        "id": "4YK3BgWfkXRC",
        "outputId": "d2665c4a-99cd-489c-c6b5-b47ed1592359"
      },
      "execution_count": 6,
      "outputs": [
        {
          "output_type": "execute_result",
          "data": {
            "text/plain": [
              "1"
            ]
          },
          "metadata": {},
          "execution_count": 6
        }
      ]
    },
    {
      "cell_type": "code",
      "source": [
        "True+False+True+False"
      ],
      "metadata": {
        "colab": {
          "base_uri": "https://localhost:8080/"
        },
        "id": "vxm-AopPkhC8",
        "outputId": "e5ce5240-1cd0-4da3-d619-4c4422523fca"
      },
      "execution_count": 7,
      "outputs": [
        {
          "output_type": "execute_result",
          "data": {
            "text/plain": [
              "2"
            ]
          },
          "metadata": {},
          "execution_count": 7
        }
      ]
    },
    {
      "cell_type": "code",
      "source": [
        "a=5\n",
        "print('chislo =', a)"
      ],
      "metadata": {
        "colab": {
          "base_uri": "https://localhost:8080/"
        },
        "id": "P9noFCmGlt6i",
        "outputId": "eea650c3-924a-4465-addc-513e070c0ff3"
      },
      "execution_count": 11,
      "outputs": [
        {
          "output_type": "stream",
          "name": "stdout",
          "text": [
            "chislo = 5\n"
          ]
        }
      ]
    },
    {
      "cell_type": "code",
      "source": [
        "b=3\n",
        "a%b"
      ],
      "metadata": {
        "colab": {
          "base_uri": "https://localhost:8080/"
        },
        "id": "U33x5q5pmKiF",
        "outputId": "97383bb1-37a8-46b5-d31a-419a94bc6e96"
      },
      "execution_count": 13,
      "outputs": [
        {
          "output_type": "execute_result",
          "data": {
            "text/plain": [
              "2"
            ]
          },
          "metadata": {},
          "execution_count": 13
        }
      ]
    },
    {
      "cell_type": "code",
      "source": [
        "a//b"
      ],
      "metadata": {
        "colab": {
          "base_uri": "https://localhost:8080/"
        },
        "id": "F7ldFQi2mg9K",
        "outputId": "179de022-d4a8-486c-963c-9c0ee906eb20"
      },
      "execution_count": 14,
      "outputs": [
        {
          "output_type": "execute_result",
          "data": {
            "text/plain": [
              "1"
            ]
          },
          "metadata": {},
          "execution_count": 14
        }
      ]
    },
    {
      "cell_type": "code",
      "source": [
        "a**b"
      ],
      "metadata": {
        "colab": {
          "base_uri": "https://localhost:8080/"
        },
        "id": "VqPaBTmymnTk",
        "outputId": "7414d253-59d0-42ef-b8ae-b7d9b1e7d709"
      },
      "execution_count": 15,
      "outputs": [
        {
          "output_type": "execute_result",
          "data": {
            "text/plain": [
              "125"
            ]
          },
          "metadata": {},
          "execution_count": 15
        }
      ]
    },
    {
      "cell_type": "code",
      "source": [
        "a**0.5"
      ],
      "metadata": {
        "colab": {
          "base_uri": "https://localhost:8080/"
        },
        "id": "rLoK7WvOmxqa",
        "outputId": "0a4de157-fd79-48a1-fbfb-0ec843ab81c4"
      },
      "execution_count": 16,
      "outputs": [
        {
          "output_type": "execute_result",
          "data": {
            "text/plain": [
              "2.23606797749979"
            ]
          },
          "metadata": {},
          "execution_count": 16
        }
      ]
    },
    {
      "cell_type": "code",
      "source": [
        "a**(1/2)"
      ],
      "metadata": {
        "colab": {
          "base_uri": "https://localhost:8080/"
        },
        "id": "TC9cWaj8m44q",
        "outputId": "896e0dbe-00a9-4f2a-d471-20e84cf4f50d"
      },
      "execution_count": 17,
      "outputs": [
        {
          "output_type": "execute_result",
          "data": {
            "text/plain": [
              "2.23606797749979"
            ]
          },
          "metadata": {},
          "execution_count": 17
        }
      ]
    },
    {
      "cell_type": "code",
      "source": [
        "A = 'cs-'\n",
        "B = 'go'\n",
        "A+B"
      ],
      "metadata": {
        "colab": {
          "base_uri": "https://localhost:8080/",
          "height": 35
        },
        "id": "RlT9YzRknA3T",
        "outputId": "dc704718-ff53-4499-e917-44491b28ba73"
      },
      "execution_count": 19,
      "outputs": [
        {
          "output_type": "execute_result",
          "data": {
            "text/plain": [
              "'cs-go'"
            ],
            "application/vnd.google.colaboratory.intrinsic+json": {
              "type": "string"
            }
          },
          "metadata": {},
          "execution_count": 19
        }
      ]
    },
    {
      "cell_type": "code",
      "source": [
        "(A+B)*4"
      ],
      "metadata": {
        "colab": {
          "base_uri": "https://localhost:8080/",
          "height": 35
        },
        "id": "v7AE5jTyncRq",
        "outputId": "eb787639-c53d-43db-939f-4d24fd9425f8"
      },
      "execution_count": 20,
      "outputs": [
        {
          "output_type": "execute_result",
          "data": {
            "text/plain": [
              "'cs-gocs-gocs-gocs-go'"
            ],
            "application/vnd.google.colaboratory.intrinsic+json": {
              "type": "string"
            }
          },
          "metadata": {},
          "execution_count": 20
        }
      ]
    },
    {
      "cell_type": "code",
      "source": [
        "a>b<a+b"
      ],
      "metadata": {
        "colab": {
          "base_uri": "https://localhost:8080/"
        },
        "id": "X6t-WDxjnlXN",
        "outputId": "7678395d-e5df-4f7c-8f66-e0b115f07d36"
      },
      "execution_count": 22,
      "outputs": [
        {
          "output_type": "execute_result",
          "data": {
            "text/plain": [
              "True"
            ]
          },
          "metadata": {},
          "execution_count": 22
        }
      ]
    },
    {
      "cell_type": "code",
      "source": [
        "print('\\n', A, '\\t', B, '\\n', a<b)"
      ],
      "metadata": {
        "colab": {
          "base_uri": "https://localhost:8080/"
        },
        "id": "AdKaIdNFoEny",
        "outputId": "768f4440-d1bb-4ca7-d23f-db8a439ba001"
      },
      "execution_count": 23,
      "outputs": [
        {
          "output_type": "stream",
          "name": "stdout",
          "text": [
            "\n",
            " cs- \t go \n",
            " False\n"
          ]
        }
      ]
    },
    {
      "cell_type": "code",
      "source": [
        "print('Число a %6.4f плюс число b %6.4f равно ' % (a,b))"
      ],
      "metadata": {
        "colab": {
          "base_uri": "https://localhost:8080/"
        },
        "id": "OvGg5RckoncK",
        "outputId": "e3ca3f28-1139-49b8-f9ce-1b0cccd07aff"
      },
      "execution_count": 27,
      "outputs": [
        {
          "output_type": "stream",
          "name": "stdout",
          "text": [
            "Число a 5.0000 плюс число b 3.0000 равно \n"
          ]
        }
      ]
    },
    {
      "cell_type": "code",
      "source": [
        "print(f'chislo a {a} chiclo b')"
      ],
      "metadata": {
        "colab": {
          "base_uri": "https://localhost:8080/"
        },
        "id": "P3gfCYm2pzil",
        "outputId": "930bfe6e-bde8-499d-c286-634f8c29c5ea"
      },
      "execution_count": 31,
      "outputs": [
        {
          "output_type": "stream",
          "name": "stdout",
          "text": [
            "chislo a 5 chiclo b\n"
          ]
        }
      ]
    },
    {
      "cell_type": "code",
      "source": [
        "x = int(input('vvedite chiclo'))\n",
        "y = int(input('vvedite chiclo'))\n",
        "x+y"
      ],
      "metadata": {
        "colab": {
          "base_uri": "https://localhost:8080/"
        },
        "outputId": "9d73d22d-b780-4e78-a06a-f9cd98538650",
        "id": "8Wh3gYmYrCxI"
      },
      "execution_count": null,
      "outputs": [
        {
          "name": "stdout",
          "output_type": "stream",
          "text": [
            "vvedite chiclo2\n",
            "vvedite chiclo8\n"
          ]
        },
        {
          "output_type": "execute_result",
          "data": {
            "text/plain": [
              "10"
            ]
          },
          "metadata": {},
          "execution_count": 34
        }
      ]
    },
    {
      "cell_type": "code",
      "source": [
        "x = input('vvedite chiclo')\n",
        "y = input('vvedite chiclo')\n",
        "x+y"
      ],
      "metadata": {
        "colab": {
          "base_uri": "https://localhost:8080/",
          "height": 70
        },
        "id": "PuXeWSXBqPtQ",
        "outputId": "5e890db4-2b70-4851-a764-92565d4a8bb9"
      },
      "execution_count": 35,
      "outputs": [
        {
          "name": "stdout",
          "output_type": "stream",
          "text": [
            "vvedite chiclo2\n",
            "vvedite chiclo8\n"
          ]
        },
        {
          "output_type": "execute_result",
          "data": {
            "text/plain": [
              "'28'"
            ],
            "application/vnd.google.colaboratory.intrinsic+json": {
              "type": "string"
            }
          },
          "metadata": {},
          "execution_count": 35
        }
      ]
    },
    {
      "cell_type": "code",
      "source": [
        "x = input('vvedite chiclo ')\n",
        "y = input('vvedite chiclo ')\n",
        "x = int(x)\n",
        "y = int(y)\n",
        "x+y"
      ],
      "metadata": {
        "colab": {
          "base_uri": "https://localhost:8080/"
        },
        "outputId": "c2a32771-b001-45af-eeb6-f12b7f276ef7",
        "id": "hgQWyaGGrY9Z"
      },
      "execution_count": 36,
      "outputs": [
        {
          "name": "stdout",
          "output_type": "stream",
          "text": [
            "vvedite chiclo 8\n",
            "vvedite chiclo 2\n"
          ]
        },
        {
          "output_type": "execute_result",
          "data": {
            "text/plain": [
              "10"
            ]
          },
          "metadata": {},
          "execution_count": 36
        }
      ]
    },
    {
      "cell_type": "code",
      "source": [
        "?A"
      ],
      "metadata": {
        "id": "RRdyiZBSsB7F"
      },
      "execution_count": 39,
      "outputs": []
    },
    {
      "cell_type": "code",
      "source": [
        "xy = input('virazhenie  ')\n",
        "print(xy, type(xy))\n",
        "eval(xy)"
      ],
      "metadata": {
        "colab": {
          "base_uri": "https://localhost:8080/"
        },
        "id": "IHxKq7n6sSVB",
        "outputId": "5df989b8-6e8a-4774-e681-da6929e79491"
      },
      "execution_count": 41,
      "outputs": [
        {
          "output_type": "stream",
          "name": "stdout",
          "text": [
            "virazhenie  3+4\n",
            "3+4 <class 'str'>\n"
          ]
        },
        {
          "output_type": "execute_result",
          "data": {
            "text/plain": [
              "7"
            ]
          },
          "metadata": {},
          "execution_count": 41
        }
      ]
    },
    {
      "cell_type": "code",
      "source": [
        "xy = 'print(\"virazhenie \", (3+4))'\n",
        "#print(xy)\n",
        "exec(xy)"
      ],
      "metadata": {
        "colab": {
          "base_uri": "https://localhost:8080/"
        },
        "id": "_lOnXrV0tLIV",
        "outputId": "13a5ee6f-c852-4339-896d-263a2bbecc54"
      },
      "execution_count": 44,
      "outputs": [
        {
          "output_type": "stream",
          "name": "stdout",
          "text": [
            "virazhenie  7\n"
          ]
        }
      ]
    },
    {
      "cell_type": "markdown",
      "source": [
        "# Ветвления, условные конструкци"
      ],
      "metadata": {
        "id": "_3flfA9et9Hm"
      }
    },
    {
      "cell_type": "code",
      "source": [
        "a != b"
      ],
      "metadata": {
        "colab": {
          "base_uri": "https://localhost:8080/"
        },
        "id": "wZqXaLvtvzGz",
        "outputId": "e4727c33-74ad-4fcd-a893-ae861242b3e9"
      },
      "execution_count": 49,
      "outputs": [
        {
          "output_type": "execute_result",
          "data": {
            "text/plain": [
              "True"
            ]
          },
          "metadata": {},
          "execution_count": 49
        }
      ]
    },
    {
      "cell_type": "code",
      "source": [
        "a = 1\n",
        "if a>b:\n",
        "  print('Игрок А результативнее')\n",
        "elif a == b:\n",
        "  print('Игроки равны')\n",
        "else:\n",
        "  print('Игрок В результативнее')"
      ],
      "metadata": {
        "colab": {
          "base_uri": "https://localhost:8080/"
        },
        "id": "6nXCMnwSuFQa",
        "outputId": "778df93e-2581-498a-e829-31d241d2c413"
      },
      "execution_count": 47,
      "outputs": [
        {
          "output_type": "stream",
          "name": "stdout",
          "text": [
            "Игрок В результативнее\n"
          ]
        }
      ]
    },
    {
      "cell_type": "code",
      "source": [
        "print('Игрок А результативнее') if a>b else print('Игрок В результативнее')"
      ],
      "metadata": {
        "colab": {
          "base_uri": "https://localhost:8080/"
        },
        "id": "VMQlexvKvS1a",
        "outputId": "94673571-8a6b-49b7-a00c-31f4b755bcc4"
      },
      "execution_count": 48,
      "outputs": [
        {
          "output_type": "stream",
          "name": "stdout",
          "text": [
            "Игрок В результативнее\n"
          ]
        }
      ]
    },
    {
      "cell_type": "markdown",
      "source": [
        "# Цикл"
      ],
      "metadata": {
        "id": "ghcvIt7vwBaq"
      }
    },
    {
      "cell_type": "code",
      "source": [
        "fib1 = fib2 = 1\n",
        "\n",
        "n = input('Введите номер числа Фибоначчи ')\n",
        "n = int(n) - 2\n",
        "\n",
        "while n > 0:\n",
        "  fib1, fib2 = fib2, fib1+fib2\n",
        "  n -= 1\n",
        "\n",
        "print('Число Фибоначчи ', fib2)"
      ],
      "metadata": {
        "colab": {
          "base_uri": "https://localhost:8080/"
        },
        "id": "z-S2iOdcwIZn",
        "outputId": "42112504-d347-489a-ccda-79688cb598e0"
      },
      "execution_count": 50,
      "outputs": [
        {
          "output_type": "stream",
          "name": "stdout",
          "text": [
            "Введите номер числа Фибоначчи 10\n",
            "Число Фибоначчи  55\n"
          ]
        }
      ]
    },
    {
      "cell_type": "code",
      "source": [
        "fib1 = fib2 =1\n",
        "n = int(input())\n",
        "\n",
        "print(fib1, fib2, end = ' ')\n",
        "\n",
        "for _ in range(2, n):\n",
        "  fib1, fib2 = fib2, fib1+fib2\n",
        "  print(fib2, end = ' ')"
      ],
      "metadata": {
        "colab": {
          "base_uri": "https://localhost:8080/"
        },
        "id": "wNYaRXr_1uQz",
        "outputId": "18a4580f-f04b-4b08-bf32-0e63b39d803c"
      },
      "execution_count": 52,
      "outputs": [
        {
          "output_type": "stream",
          "name": "stdout",
          "text": [
            "10\n",
            "1 1 2 3 5 8 13 21 34 55 "
          ]
        }
      ]
    },
    {
      "cell_type": "code",
      "source": [
        "def fib(n):\n",
        "  a,b = 1,1\n",
        "  for l in range(n):\n",
        "    yield a\n",
        "    a,b = b, a+b\n",
        "\n",
        "\n",
        "list(fib(10))"
      ],
      "metadata": {
        "colab": {
          "base_uri": "https://localhost:8080/"
        },
        "id": "XDlSd9z33Kc_",
        "outputId": "fa2e3612-8d19-4fb5-844e-be48fb6d7c70"
      },
      "execution_count": 54,
      "outputs": [
        {
          "output_type": "execute_result",
          "data": {
            "text/plain": [
              "[1, 1, 2, 3, 5, 8, 13, 21, 34, 55]"
            ]
          },
          "metadata": {},
          "execution_count": 54
        }
      ]
    }
  ]
}
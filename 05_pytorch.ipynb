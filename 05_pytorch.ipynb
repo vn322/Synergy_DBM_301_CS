{
  "cells": [
    {
      "cell_type": "markdown",
      "metadata": {
        "id": "view-in-github",
        "colab_type": "text"
      },
      "source": [
        "<a href=\"https://colab.research.google.com/github/vn322/Synergy_DBM_301_CS/blob/main/05_pytorch.ipynb\" target=\"_parent\"><img src=\"https://colab.research.google.com/assets/colab-badge.svg\" alt=\"Open In Colab\"/></a>"
      ]
    },
    {
      "cell_type": "markdown",
      "metadata": {
        "id": "NdJtr1o3k5bt"
      },
      "source": [
        "# Как научить компьютер читать? \n",
        "\n",
        "В этой тетрадке мы обучим свой собственный word2vec. Делать мы это будем на каком-нибудь не очень большом тексте, который вам предстоит выбрать самому. На выбор есть [несколько сказок](https://github.com/nevmenandr/word2vec-russian-novels/tree/master/vector-school) и других [литературных штук](https://github.com/nevmenandr/word2vec-russian-novels/tree/master/books_before) из школьной программы. "
      ]
    },
    {
      "cell_type": "code",
      "execution_count": 1,
      "metadata": {
        "id": "vCoigU1-k5bw"
      },
      "outputs": [],
      "source": [
        "# Ссылка на выбранное вами произведение\n",
        "# Я взял преступление и наказание (ненвижу Достоевского)\n",
        "url = 'https://raw.githubusercontent.com/nevmenandr/word2vec-russian-novels/master/books_before/CrimeAndPunishment.txt'\n"
      ]
    },
    {
      "cell_type": "markdown",
      "metadata": {
        "id": "aq1EBZ2Dk5bz"
      },
      "source": [
        "Спарсим текст из файлика."
      ]
    },
    {
      "cell_type": "code",
      "execution_count": 2,
      "metadata": {
        "id": "rRc4VJVzk5bz",
        "outputId": "ee11c1d4-87fc-4e82-d1b9-579ab558035b",
        "colab": {
          "base_uri": "https://localhost:8080/"
        }
      },
      "outputs": [
        {
          "output_type": "stream",
          "name": "stdout",
          "text": [
            "смотреть на эти семь лет, как на семь\n",
            "дней. Он даже и не знал того, что новая жизнь не даром же ему достается, что ее надо еще дорого купить, заплатить за нее великим, будущим подвигом...\n",
            "Но тут уж начинается новая история, история постепенного обновления человека, история постепенного перерождения его, постепенного перехода из одного мира в другой, знакомства с новою, доселе совершенно неведомою действительностью. Это могло бы составить тему нового рассказа, - но теперешний рассказ наш окончен.\n"
          ]
        }
      ],
      "source": [
        "import requests\n",
        "\n",
        "resp = requests.get(url)\n",
        "text = resp.text \n",
        "\n",
        "# Последние 500 символов. Аккуратно! Спойлеры!\n",
        "print(text[-500:])"
      ]
    },
    {
      "cell_type": "markdown",
      "metadata": {
        "id": "5fQRgd2Bk5b0"
      },
      "source": [
        "## 1. Предобработка\n",
        "\n",
        "Теперь нам надо его немного предобработать.  Пусть все слова пишутся с маленькой буквы. "
      ]
    },
    {
      "cell_type": "code",
      "execution_count": 3,
      "metadata": {
        "id": "FACF_pKwk5b1"
      },
      "outputs": [],
      "source": [
        "text = text.lower()"
      ]
    },
    {
      "cell_type": "markdown",
      "metadata": {
        "id": "dLtr-B_Lk5b1"
      },
      "source": [
        "Разобьём весь текст на предложения. "
      ]
    },
    {
      "cell_type": "code",
      "execution_count": 4,
      "metadata": {
        "id": "LiISQsNfk5b2"
      },
      "outputs": [],
      "source": [
        "import re \n",
        "# выкидываем лишние символы! \n",
        "text = re.sub('\\n|\\t|\\r', ' ', text)"
      ]
    },
    {
      "cell_type": "code",
      "execution_count": 5,
      "metadata": {
        "id": "5ZNll1t1k5b3"
      },
      "outputs": [],
      "source": [
        "# !/usr/local/opt/python@3.9/bin/python3.9 -m pip install nltk"
      ]
    },
    {
      "cell_type": "code",
      "execution_count": 6,
      "metadata": {
        "id": "Scy_0oX0k5b3",
        "outputId": "17ca81c5-6490-4ec9-b791-3dfbe5682b38",
        "colab": {
          "base_uri": "https://localhost:8080/"
        }
      },
      "outputs": [
        {
          "output_type": "stream",
          "name": "stderr",
          "text": [
            "[nltk_data] Downloading package stopwords to /root/nltk_data...\n",
            "[nltk_data]   Unzipping corpora/stopwords.zip.\n",
            "[nltk_data] Downloading package punkt to /root/nltk_data...\n",
            "[nltk_data]   Unzipping tokenizers/punkt.zip.\n"
          ]
        },
        {
          "output_type": "execute_result",
          "data": {
            "text/plain": [
              "True"
            ]
          },
          "metadata": {},
          "execution_count": 6
        }
      ],
      "source": [
        "import nltk\n",
        "nltk.download('stopwords')\n",
        "nltk.download('punkt')"
      ]
    },
    {
      "cell_type": "raw",
      "metadata": {
        "id": "glGYNhxOk5b4"
      },
      "source": [
        "import nltk\n",
        "\n",
        "# nltk.download('all') # если хотим всё и сразу \n",
        "\n",
        "# нам хватит вот этого: \n",
        "nltk.download('stopwords')\n",
        "nltk.download('punkt')"
      ]
    },
    {
      "cell_type": "code",
      "execution_count": 7,
      "metadata": {
        "id": "XTSfcTn9k5b4",
        "outputId": "650859e1-6f70-49c4-bf61-604de9616812",
        "colab": {
          "base_uri": "https://localhost:8080/"
        }
      },
      "outputs": [
        {
          "output_type": "execute_result",
          "data": {
            "text/plain": [
              "13702"
            ]
          },
          "metadata": {},
          "execution_count": 7
        }
      ],
      "source": [
        "from nltk.tokenize import sent_tokenize\n",
        "\n",
        "sents = sent_tokenize(text)\n",
        "len(sents)"
      ]
    },
    {
      "cell_type": "code",
      "execution_count": 8,
      "metadata": {
        "id": "ihd7Izkxk5b5",
        "outputId": "2070de64-f52b-4c6e-8db3-e28e521738bd",
        "colab": {
          "base_uri": "https://localhost:8080/",
          "height": 36
        }
      },
      "outputs": [
        {
          "output_type": "execute_result",
          "data": {
            "text/plain": [
              "'действительно, на его платье и даже в волосах кое-где виднелись прилипшие былинки сена.'"
            ],
            "application/vnd.google.colaboratory.intrinsic+json": {
              "type": "string"
            }
          },
          "metadata": {},
          "execution_count": 8
        }
      ],
      "source": [
        "sents[220]"
      ]
    },
    {
      "cell_type": "markdown",
      "metadata": {
        "id": "QnIp2TGGk5b5"
      },
      "source": [
        "Разобьём каждое предложение на отдельные слова."
      ]
    },
    {
      "cell_type": "code",
      "execution_count": 9,
      "metadata": {
        "id": "8esDgVQYk5b6",
        "outputId": "258ec6e0-db3b-4760-9b56-422a82614eae",
        "colab": {
          "base_uri": "https://localhost:8080/"
        }
      },
      "outputs": [
        {
          "output_type": "execute_result",
          "data": {
            "text/plain": [
              "['действительно',\n",
              " 'на',\n",
              " 'его',\n",
              " 'платье',\n",
              " 'и',\n",
              " 'даже',\n",
              " 'в',\n",
              " 'волосах',\n",
              " 'кое',\n",
              " 'где',\n",
              " 'виднелись',\n",
              " 'прилипшие',\n",
              " 'былинки',\n",
              " 'сена']"
            ]
          },
          "metadata": {},
          "execution_count": 9
        }
      ],
      "source": [
        "from nltk.tokenize import RegexpTokenizer\n",
        "\n",
        "tokenizer = RegexpTokenizer('\\w+')\n",
        "tokenizer.tokenize(sents[220])"
      ]
    },
    {
      "cell_type": "code",
      "execution_count": 10,
      "metadata": {
        "id": "mTymjqDJk5b6"
      },
      "outputs": [],
      "source": [
        "# разбейте все предложения на токены \n",
        "sents_tokenize  =  [tokenizer.tokenize(item) for item in sents]"
      ]
    },
    {
      "cell_type": "code",
      "execution_count": 11,
      "metadata": {
        "id": "RipI-rm-k5b6"
      },
      "outputs": [],
      "source": [
        "# Flatten без numpy :) \n",
        "words = [item for sent in  sents_tokenize for item in sent]"
      ]
    },
    {
      "cell_type": "code",
      "execution_count": 12,
      "metadata": {
        "id": "CC7XkBFak5b7",
        "outputId": "83faac77-c0b7-4834-ec85-32e08cbf8d07",
        "colab": {
          "base_uri": "https://localhost:8080/"
        }
      },
      "outputs": [
        {
          "output_type": "execute_result",
          "data": {
            "text/plain": [
              "173403"
            ]
          },
          "metadata": {},
          "execution_count": 12
        }
      ],
      "source": [
        "len(words) # всего слов"
      ]
    },
    {
      "cell_type": "code",
      "execution_count": 13,
      "metadata": {
        "id": "_L8qF570k5b7",
        "outputId": "8bf85b76-e39c-494f-8497-ed9894c96030",
        "colab": {
          "base_uri": "https://localhost:8080/"
        }
      },
      "outputs": [
        {
          "output_type": "execute_result",
          "data": {
            "text/plain": [
              "24925"
            ]
          },
          "metadata": {},
          "execution_count": 13
        }
      ],
      "source": [
        "len(set(words)) # уникальных слов"
      ]
    },
    {
      "cell_type": "markdown",
      "metadata": {
        "id": "0PS9Oafjk5b8"
      },
      "source": [
        "Можно выбросить все стоп-слова. "
      ]
    },
    {
      "cell_type": "code",
      "execution_count": 14,
      "metadata": {
        "id": "7b3CSnaZk5b9",
        "outputId": "aed39c4e-9742-425a-82c6-a0f498731e1b",
        "colab": {
          "base_uri": "https://localhost:8080/"
        }
      },
      "outputs": [
        {
          "output_type": "execute_result",
          "data": {
            "text/plain": [
              "['и', 'в', 'во', 'не', 'что', 'он', 'на', 'я', 'с', 'со']"
            ]
          },
          "metadata": {},
          "execution_count": 14
        }
      ],
      "source": [
        "from nltk.corpus import stopwords\n",
        "\n",
        "stopwords_ru = stopwords.words('russian') \n",
        "stopwords_ru[:10]"
      ]
    },
    {
      "cell_type": "code",
      "execution_count": 15,
      "metadata": {
        "id": "LOUZFdpTk5b9",
        "outputId": "5f2e8386-511c-491f-b771-cccbc831f9ca",
        "colab": {
          "base_uri": "https://localhost:8080/"
        }
      },
      "outputs": [
        {
          "output_type": "execute_result",
          "data": {
            "text/plain": [
              "151"
            ]
          },
          "metadata": {},
          "execution_count": 15
        }
      ],
      "source": [
        "len(stopwords_ru)"
      ]
    },
    {
      "cell_type": "code",
      "execution_count": 16,
      "metadata": {
        "id": "4EPXyLGqk5b-"
      },
      "outputs": [],
      "source": [
        "# избавьтесь от стоп-слов \n",
        "sents_tokenize = [[item for item in sent if item not in stopwords_ru]\n",
        "                       for sent in sents_tokenize ]"
      ]
    },
    {
      "cell_type": "markdown",
      "metadata": {
        "id": "Mwzpw57jk5b-"
      },
      "source": [
        "Слов в корпусе не очень много. Давайте лемматизируем их.  В этом нам поможет библиотека **pymorphy2.**\n",
        "\n",
        "**pymorphy2** — это полноценный морфологический анализатор, целиком написанный на Python. Он также умеет ставить слова в нужную форму (спрягать и склонять). [Документация по pymorphy2.](https://pymorphy2.readthedocs.io/en/latest/)"
      ]
    },
    {
      "cell_type": "code",
      "execution_count": 17,
      "metadata": {
        "id": "VXQFxXBak5b_",
        "outputId": "441d894a-57c6-462a-e3d1-96cdd25770fc",
        "colab": {
          "base_uri": "https://localhost:8080/"
        }
      },
      "outputs": [
        {
          "output_type": "stream",
          "name": "stdout",
          "text": [
            "Looking in indexes: https://pypi.org/simple, https://us-python.pkg.dev/colab-wheels/public/simple/\n",
            "Collecting pymorphy2\n",
            "  Downloading pymorphy2-0.9.1-py3-none-any.whl (55 kB)\n",
            "\u001b[2K     \u001b[90m━━━━━━━━━━━━━━━━━━━━━━━━━━━━━━━━━━━━━━━━\u001b[0m \u001b[32m55.5/55.5 kB\u001b[0m \u001b[31m2.6 MB/s\u001b[0m eta \u001b[36m0:00:00\u001b[0m\n",
            "\u001b[?25hCollecting dawg-python>=0.7.1 (from pymorphy2)\n",
            "  Downloading DAWG_Python-0.7.2-py2.py3-none-any.whl (11 kB)\n",
            "Collecting pymorphy2-dicts-ru<3.0,>=2.4 (from pymorphy2)\n",
            "  Downloading pymorphy2_dicts_ru-2.4.417127.4579844-py2.py3-none-any.whl (8.2 MB)\n",
            "\u001b[2K     \u001b[90m━━━━━━━━━━━━━━━━━━━━━━━━━━━━━━━━━━━━━━━━\u001b[0m \u001b[32m8.2/8.2 MB\u001b[0m \u001b[31m36.0 MB/s\u001b[0m eta \u001b[36m0:00:00\u001b[0m\n",
            "\u001b[?25hCollecting docopt>=0.6 (from pymorphy2)\n",
            "  Downloading docopt-0.6.2.tar.gz (25 kB)\n",
            "  Preparing metadata (setup.py) ... \u001b[?25l\u001b[?25hdone\n",
            "Building wheels for collected packages: docopt\n",
            "  Building wheel for docopt (setup.py) ... \u001b[?25l\u001b[?25hdone\n",
            "  Created wheel for docopt: filename=docopt-0.6.2-py2.py3-none-any.whl size=13707 sha256=cf6b454dbcd3dd02c04d1422ea7ee14ba5a1a4d207976c4b7edc4021dddb76b9\n",
            "  Stored in directory: /root/.cache/pip/wheels/fc/ab/d4/5da2067ac95b36618c629a5f93f809425700506f72c9732fac\n",
            "Successfully built docopt\n",
            "Installing collected packages: pymorphy2-dicts-ru, docopt, dawg-python, pymorphy2\n",
            "Successfully installed dawg-python-0.7.2 docopt-0.6.2 pymorphy2-0.9.1 pymorphy2-dicts-ru-2.4.417127.4579844\n"
          ]
        }
      ],
      "source": [
        "!pip install pymorphy2"
      ]
    },
    {
      "cell_type": "code",
      "execution_count": 18,
      "metadata": {
        "id": "Bujpp2pCk5b_",
        "outputId": "d35c2f8c-e954-4f15-961c-313de0e48d11",
        "colab": {
          "base_uri": "https://localhost:8080/",
          "height": 36
        }
      },
      "outputs": [
        {
          "output_type": "execute_result",
          "data": {
            "text/plain": [
              "'филипп пойти в авеньон и пленить папа'"
            ],
            "application/vnd.google.colaboratory.intrinsic+json": {
              "type": "string"
            }
          },
          "metadata": {},
          "execution_count": 18
        }
      ],
      "source": [
        "import pymorphy2\n",
        "morph = pymorphy2.MorphAnalyzer()\n",
        "\n",
        "text = \"Филипп пошёл в Авеньон и пленил пап!\"\n",
        "tokens = tokenizer.tokenize(text)\n",
        "\n",
        "\" \".join(morph.normal_forms(token)[0] for token in tokens)"
      ]
    },
    {
      "cell_type": "code",
      "execution_count": 19,
      "metadata": {
        "id": "Q4aMg3gOk5cA",
        "outputId": "b88cd134-aa4b-4744-bd8b-82b1da332c5e",
        "colab": {
          "base_uri": "https://localhost:8080/"
        }
      },
      "outputs": [
        {
          "output_type": "execute_result",
          "data": {
            "text/plain": [
              "[Parse(word='стали', tag=OpencorporaTag('VERB,perf,intr plur,past,indc'), normal_form='стать', score=0.975342, methods_stack=((DictionaryAnalyzer(), 'стали', 945, 4),)),\n",
              " Parse(word='стали', tag=OpencorporaTag('NOUN,inan,femn sing,gent'), normal_form='сталь', score=0.010958, methods_stack=((DictionaryAnalyzer(), 'стали', 13, 1),)),\n",
              " Parse(word='стали', tag=OpencorporaTag('NOUN,inan,femn plur,nomn'), normal_form='сталь', score=0.005479, methods_stack=((DictionaryAnalyzer(), 'стали', 13, 6),)),\n",
              " Parse(word='стали', tag=OpencorporaTag('NOUN,inan,femn sing,datv'), normal_form='сталь', score=0.002739, methods_stack=((DictionaryAnalyzer(), 'стали', 13, 2),)),\n",
              " Parse(word='стали', tag=OpencorporaTag('NOUN,inan,femn sing,loct'), normal_form='сталь', score=0.002739, methods_stack=((DictionaryAnalyzer(), 'стали', 13, 5),)),\n",
              " Parse(word='стали', tag=OpencorporaTag('NOUN,inan,femn plur,accs'), normal_form='сталь', score=0.002739, methods_stack=((DictionaryAnalyzer(), 'стали', 13, 9),))]"
            ]
          },
          "metadata": {},
          "execution_count": 19
        }
      ],
      "source": [
        "p = morph.parse('стали')\n",
        "p"
      ]
    },
    {
      "cell_type": "code",
      "execution_count": 20,
      "metadata": {
        "id": "O1Grz1S0k5cA",
        "outputId": "251c05ac-fa27-45bb-d5e3-cc1864d69b65",
        "colab": {
          "base_uri": "https://localhost:8080/"
        }
      },
      "outputs": [
        {
          "output_type": "execute_result",
          "data": {
            "text/plain": [
              "['стать', 'сталь']"
            ]
          },
          "metadata": {},
          "execution_count": 20
        }
      ],
      "source": [
        "morph.normal_forms('стали')"
      ]
    },
    {
      "cell_type": "markdown",
      "metadata": {
        "id": "SKaaib44k5cB"
      },
      "source": [
        "Обработаем все слова из датасета. "
      ]
    },
    {
      "cell_type": "code",
      "execution_count": 21,
      "metadata": {
        "id": "JcBadyqUk5cB"
      },
      "outputs": [],
      "source": [
        "# лемматизируйте все слова из датасета\n",
        "sents_tokenize = [[morph.normal_forms(item)[0] for item in sent] \n",
        "                    for sent in sents_tokenize]"
      ]
    },
    {
      "cell_type": "code",
      "execution_count": 22,
      "metadata": {
        "id": "R6QQWviOk5cB"
      },
      "outputs": [],
      "source": [
        "# Flatten без numpy :) \n",
        "words = [item for sent in  sents_tokenize for item in sent]"
      ]
    },
    {
      "cell_type": "code",
      "execution_count": 23,
      "metadata": {
        "id": "rN9llwdOk5cC",
        "outputId": "7e6e15d4-265c-4563-c6cf-3171986e2eb6",
        "colab": {
          "base_uri": "https://localhost:8080/"
        }
      },
      "outputs": [
        {
          "output_type": "execute_result",
          "data": {
            "text/plain": [
              "93069"
            ]
          },
          "metadata": {},
          "execution_count": 23
        }
      ],
      "source": [
        "len(words) # всего слов"
      ]
    },
    {
      "cell_type": "code",
      "execution_count": 24,
      "metadata": {
        "id": "ervW70_7k5cC",
        "outputId": "ee64771c-cd20-49df-9606-79e28f3188cf",
        "colab": {
          "base_uri": "https://localhost:8080/"
        }
      },
      "outputs": [
        {
          "output_type": "execute_result",
          "data": {
            "text/plain": [
              "11084"
            ]
          },
          "metadata": {},
          "execution_count": 24
        }
      ],
      "source": [
        "len(set(words)) # уникальных слов"
      ]
    },
    {
      "cell_type": "markdown",
      "metadata": {
        "id": "pS8mJKaYk5cC"
      },
      "source": [
        "Хватит обработок! Мы тут не анализом текстов занимаемся, а нейросетками. Если хочешь больше предобработки, [читай мой мануал](https://nbviewer.jupyter.org/github/FUlyankin/hse_texts_do/blob/master/sem_1/texts_sem1.ipynb) об этом.  Давайте построим словарик с частотностями и перейдём к моделированию. "
      ]
    },
    {
      "cell_type": "code",
      "execution_count": 25,
      "metadata": {
        "id": "t40gUGBrk5cD",
        "outputId": "1d28300a-9648-4ab6-f44e-9b4349733bdf",
        "colab": {
          "base_uri": "https://localhost:8080/"
        }
      },
      "outputs": [
        {
          "output_type": "execute_result",
          "data": {
            "text/plain": [
              "[('это', 1449),\n",
              " ('всё', 963),\n",
              " ('знать', 630),\n",
              " ('раскольник', 567),\n",
              " ('свой', 549),\n",
              " ('один', 548),\n",
              " ('сказать', 544),\n",
              " ('говорить', 536),\n",
              " ('человек', 501),\n",
              " ('весь', 442),\n",
              " ('стать', 441),\n",
              " ('мочь', 441),\n",
              " ('который', 430),\n",
              " ('сам', 430),\n",
              " ('такой', 395),\n",
              " ('очень', 387),\n",
              " ('какой', 379),\n",
              " ('соня', 379),\n",
              " ('рука', 369),\n",
              " ('петрович', 369)]"
            ]
          },
          "metadata": {},
          "execution_count": 25
        }
      ],
      "source": [
        "from collections import Counter\n",
        "\n",
        "word_dict = Counter(words)\n",
        "word_dict.most_common()[:20]"
      ]
    },
    {
      "cell_type": "code",
      "execution_count": 26,
      "metadata": {
        "id": "uu-Dnofok5cD",
        "outputId": "f4324809-1e3b-45a5-957d-c8b1c4846978",
        "colab": {
          "base_uri": "https://localhost:8080/"
        }
      },
      "outputs": [
        {
          "output_type": "execute_result",
          "data": {
            "text/plain": [
              "4768"
            ]
          },
          "metadata": {},
          "execution_count": 26
        }
      ],
      "source": [
        "words = word_dict.most_common()\n",
        "len([item for item in words if item[1] >= 3])  # совсем мало :) "
      ]
    },
    {
      "cell_type": "markdown",
      "metadata": {
        "id": "gbaLlpxyk5cD"
      },
      "source": [
        "## 2. Моделирование\n",
        "\n",
        "__Основные параметры:__\n",
        "\n",
        "* данные должны быть итерируемым объектом \n",
        "* `size` — размер вектора, \n",
        "* `window` — размер окна наблюдения,\n",
        "* `min_count` — мин. частотность слова в корпусе,\n",
        "* `sg` — используемый алгоритм обучения (0 — CBOW, 1 — Skip-gram),\n",
        "* `sample` — порог для downsampling'a высокочастотных слов,\n",
        "* `workers` — количество потоков,\n",
        "* `alpha` — learning rate,\n",
        "* `iter` — количество итераций,\n",
        "* `max_vocab_size` — позволяет выставить ограничение по памяти при создании словаря (т.е. если ограничение привышается, то низкочастотные слова будут выбрасываться). Для сравнения: 10 млн слов = 1Гб RAM."
      ]
    },
    {
      "cell_type": "code",
      "execution_count": 27,
      "metadata": {
        "id": "w_-KMAh3k5cD",
        "outputId": "c091545b-5d08-426c-a95d-4aa72447efbe",
        "colab": {
          "base_uri": "https://localhost:8080/"
        }
      },
      "outputs": [
        {
          "output_type": "stream",
          "name": "stdout",
          "text": [
            "Looking in indexes: https://pypi.org/simple, https://us-python.pkg.dev/colab-wheels/public/simple/\n",
            "Requirement already satisfied: gensim in /usr/local/lib/python3.10/dist-packages (4.3.1)\n",
            "Requirement already satisfied: numpy>=1.18.5 in /usr/local/lib/python3.10/dist-packages (from gensim) (1.22.4)\n",
            "Requirement already satisfied: scipy>=1.7.0 in /usr/local/lib/python3.10/dist-packages (from gensim) (1.10.1)\n",
            "Requirement already satisfied: smart-open>=1.8.1 in /usr/local/lib/python3.10/dist-packages (from gensim) (6.3.0)\n"
          ]
        }
      ],
      "source": [
        "!pip install gensim"
      ]
    },
    {
      "cell_type": "code",
      "execution_count": 28,
      "metadata": {
        "id": "9u7SjVvZk5cE",
        "outputId": "128d5745-e190-4ef0-c228-9552f00f08ee",
        "colab": {
          "base_uri": "https://localhost:8080/",
          "height": 36
        }
      },
      "outputs": [
        {
          "output_type": "execute_result",
          "data": {
            "text/plain": [
              "'4.3.1'"
            ],
            "application/vnd.google.colaboratory.intrinsic+json": {
              "type": "string"
            }
          },
          "metadata": {},
          "execution_count": 28
        }
      ],
      "source": [
        "import gensim\n",
        "gensim.__version__"
      ]
    },
    {
      "cell_type": "code",
      "execution_count": 29,
      "metadata": {
        "id": "YkicDbgwk5cq",
        "outputId": "a08c7523-49c9-4a03-e910-9f6826317b39",
        "colab": {
          "base_uri": "https://localhost:8080/"
        }
      },
      "outputs": [
        {
          "output_type": "stream",
          "name": "stderr",
          "text": [
            "WARNING:gensim.models.word2vec:EPOCH 0: supplied example count (0) did not equal expected count (13702)\n",
            "WARNING:gensim.models.word2vec:EPOCH 1: supplied example count (0) did not equal expected count (13702)\n",
            "WARNING:gensim.models.word2vec:EPOCH 2: supplied example count (0) did not equal expected count (13702)\n",
            "WARNING:gensim.models.word2vec:EPOCH 3: supplied example count (0) did not equal expected count (13702)\n",
            "WARNING:gensim.models.word2vec:EPOCH 4: supplied example count (0) did not equal expected count (13702)\n",
            "WARNING:gensim.models.word2vec:EPOCH 5: supplied example count (0) did not equal expected count (13702)\n",
            "WARNING:gensim.models.word2vec:EPOCH 6: supplied example count (0) did not equal expected count (13702)\n",
            "WARNING:gensim.models.word2vec:EPOCH 7: supplied example count (0) did not equal expected count (13702)\n",
            "WARNING:gensim.models.word2vec:EPOCH 8: supplied example count (0) did not equal expected count (13702)\n",
            "WARNING:gensim.models.word2vec:EPOCH 9: supplied example count (0) did not equal expected count (13702)\n",
            "WARNING:gensim.models.word2vec:EPOCH 10: supplied example count (0) did not equal expected count (13702)\n",
            "WARNING:gensim.models.word2vec:EPOCH 11: supplied example count (0) did not equal expected count (13702)\n",
            "WARNING:gensim.models.word2vec:EPOCH 12: supplied example count (0) did not equal expected count (13702)\n",
            "WARNING:gensim.models.word2vec:EPOCH 13: supplied example count (0) did not equal expected count (13702)\n",
            "WARNING:gensim.models.word2vec:EPOCH 14: supplied example count (0) did not equal expected count (13702)\n",
            "WARNING:gensim.models.word2vec:EPOCH 15: supplied example count (0) did not equal expected count (13702)\n",
            "WARNING:gensim.models.word2vec:EPOCH 16: supplied example count (0) did not equal expected count (13702)\n",
            "WARNING:gensim.models.word2vec:EPOCH 17: supplied example count (0) did not equal expected count (13702)\n",
            "WARNING:gensim.models.word2vec:EPOCH 18: supplied example count (0) did not equal expected count (13702)\n",
            "WARNING:gensim.models.word2vec:EPOCH 19: supplied example count (0) did not equal expected count (13702)\n",
            "WARNING:gensim.models.word2vec:EPOCH 20: supplied example count (0) did not equal expected count (13702)\n",
            "WARNING:gensim.models.word2vec:EPOCH 21: supplied example count (0) did not equal expected count (13702)\n",
            "WARNING:gensim.models.word2vec:EPOCH 22: supplied example count (0) did not equal expected count (13702)\n",
            "WARNING:gensim.models.word2vec:EPOCH 23: supplied example count (0) did not equal expected count (13702)\n",
            "WARNING:gensim.models.word2vec:EPOCH 24: supplied example count (0) did not equal expected count (13702)\n",
            "WARNING:gensim.models.word2vec:EPOCH 25: supplied example count (0) did not equal expected count (13702)\n",
            "WARNING:gensim.models.word2vec:EPOCH 26: supplied example count (0) did not equal expected count (13702)\n",
            "WARNING:gensim.models.word2vec:EPOCH 27: supplied example count (0) did not equal expected count (13702)\n",
            "WARNING:gensim.models.word2vec:EPOCH 28: supplied example count (0) did not equal expected count (13702)\n",
            "WARNING:gensim.models.word2vec:EPOCH 29: supplied example count (0) did not equal expected count (13702)\n",
            "WARNING:gensim.models.word2vec:EPOCH 30: supplied example count (0) did not equal expected count (13702)\n",
            "WARNING:gensim.models.word2vec:EPOCH 31: supplied example count (0) did not equal expected count (13702)\n",
            "WARNING:gensim.models.word2vec:EPOCH 32: supplied example count (0) did not equal expected count (13702)\n",
            "WARNING:gensim.models.word2vec:EPOCH 33: supplied example count (0) did not equal expected count (13702)\n",
            "WARNING:gensim.models.word2vec:EPOCH 34: supplied example count (0) did not equal expected count (13702)\n",
            "WARNING:gensim.models.word2vec:EPOCH 35: supplied example count (0) did not equal expected count (13702)\n",
            "WARNING:gensim.models.word2vec:EPOCH 36: supplied example count (0) did not equal expected count (13702)\n",
            "WARNING:gensim.models.word2vec:EPOCH 37: supplied example count (0) did not equal expected count (13702)\n",
            "WARNING:gensim.models.word2vec:EPOCH 38: supplied example count (0) did not equal expected count (13702)\n",
            "WARNING:gensim.models.word2vec:EPOCH 39: supplied example count (0) did not equal expected count (13702)\n",
            "WARNING:gensim.models.word2vec:EPOCH 40: supplied example count (0) did not equal expected count (13702)\n",
            "WARNING:gensim.models.word2vec:EPOCH 41: supplied example count (0) did not equal expected count (13702)\n",
            "WARNING:gensim.models.word2vec:EPOCH 42: supplied example count (0) did not equal expected count (13702)\n",
            "WARNING:gensim.models.word2vec:EPOCH 43: supplied example count (0) did not equal expected count (13702)\n",
            "WARNING:gensim.models.word2vec:EPOCH 44: supplied example count (0) did not equal expected count (13702)\n",
            "WARNING:gensim.models.word2vec:EPOCH 45: supplied example count (0) did not equal expected count (13702)\n",
            "WARNING:gensim.models.word2vec:EPOCH 46: supplied example count (0) did not equal expected count (13702)\n",
            "WARNING:gensim.models.word2vec:EPOCH 47: supplied example count (0) did not equal expected count (13702)\n",
            "WARNING:gensim.models.word2vec:EPOCH 48: supplied example count (0) did not equal expected count (13702)\n",
            "WARNING:gensim.models.word2vec:EPOCH 49: supplied example count (0) did not equal expected count (13702)\n",
            "WARNING:gensim.models.word2vec:EPOCH 50: supplied example count (0) did not equal expected count (13702)\n",
            "WARNING:gensim.models.word2vec:EPOCH 51: supplied example count (0) did not equal expected count (13702)\n",
            "WARNING:gensim.models.word2vec:EPOCH 52: supplied example count (0) did not equal expected count (13702)\n",
            "WARNING:gensim.models.word2vec:EPOCH 53: supplied example count (0) did not equal expected count (13702)\n",
            "WARNING:gensim.models.word2vec:EPOCH 54: supplied example count (0) did not equal expected count (13702)\n",
            "WARNING:gensim.models.word2vec:EPOCH 55: supplied example count (0) did not equal expected count (13702)\n",
            "WARNING:gensim.models.word2vec:EPOCH 56: supplied example count (0) did not equal expected count (13702)\n",
            "WARNING:gensim.models.word2vec:EPOCH 57: supplied example count (0) did not equal expected count (13702)\n",
            "WARNING:gensim.models.word2vec:EPOCH 58: supplied example count (0) did not equal expected count (13702)\n",
            "WARNING:gensim.models.word2vec:EPOCH 59: supplied example count (0) did not equal expected count (13702)\n",
            "WARNING:gensim.models.word2vec:EPOCH 60: supplied example count (0) did not equal expected count (13702)\n",
            "WARNING:gensim.models.word2vec:EPOCH 61: supplied example count (0) did not equal expected count (13702)\n",
            "WARNING:gensim.models.word2vec:EPOCH 62: supplied example count (0) did not equal expected count (13702)\n",
            "WARNING:gensim.models.word2vec:EPOCH 63: supplied example count (0) did not equal expected count (13702)\n",
            "WARNING:gensim.models.word2vec:EPOCH 64: supplied example count (0) did not equal expected count (13702)\n",
            "WARNING:gensim.models.word2vec:EPOCH 65: supplied example count (0) did not equal expected count (13702)\n",
            "WARNING:gensim.models.word2vec:EPOCH 66: supplied example count (0) did not equal expected count (13702)\n",
            "WARNING:gensim.models.word2vec:EPOCH 67: supplied example count (0) did not equal expected count (13702)\n",
            "WARNING:gensim.models.word2vec:EPOCH 68: supplied example count (0) did not equal expected count (13702)\n",
            "WARNING:gensim.models.word2vec:EPOCH 69: supplied example count (0) did not equal expected count (13702)\n",
            "WARNING:gensim.models.word2vec:EPOCH 70: supplied example count (0) did not equal expected count (13702)\n",
            "WARNING:gensim.models.word2vec:EPOCH 71: supplied example count (0) did not equal expected count (13702)\n",
            "WARNING:gensim.models.word2vec:EPOCH 72: supplied example count (0) did not equal expected count (13702)\n",
            "WARNING:gensim.models.word2vec:EPOCH 73: supplied example count (0) did not equal expected count (13702)\n",
            "WARNING:gensim.models.word2vec:EPOCH 74: supplied example count (0) did not equal expected count (13702)\n",
            "WARNING:gensim.models.word2vec:EPOCH 75: supplied example count (0) did not equal expected count (13702)\n",
            "WARNING:gensim.models.word2vec:EPOCH 76: supplied example count (0) did not equal expected count (13702)\n",
            "WARNING:gensim.models.word2vec:EPOCH 77: supplied example count (0) did not equal expected count (13702)\n",
            "WARNING:gensim.models.word2vec:EPOCH 78: supplied example count (0) did not equal expected count (13702)\n",
            "WARNING:gensim.models.word2vec:EPOCH 79: supplied example count (0) did not equal expected count (13702)\n",
            "WARNING:gensim.models.word2vec:EPOCH 80: supplied example count (0) did not equal expected count (13702)\n",
            "WARNING:gensim.models.word2vec:EPOCH 81: supplied example count (0) did not equal expected count (13702)\n",
            "WARNING:gensim.models.word2vec:EPOCH 82: supplied example count (0) did not equal expected count (13702)\n",
            "WARNING:gensim.models.word2vec:EPOCH 83: supplied example count (0) did not equal expected count (13702)\n",
            "WARNING:gensim.models.word2vec:EPOCH 84: supplied example count (0) did not equal expected count (13702)\n",
            "WARNING:gensim.models.word2vec:EPOCH 85: supplied example count (0) did not equal expected count (13702)\n",
            "WARNING:gensim.models.word2vec:EPOCH 86: supplied example count (0) did not equal expected count (13702)\n",
            "WARNING:gensim.models.word2vec:EPOCH 87: supplied example count (0) did not equal expected count (13702)\n",
            "WARNING:gensim.models.word2vec:EPOCH 88: supplied example count (0) did not equal expected count (13702)\n",
            "WARNING:gensim.models.word2vec:EPOCH 89: supplied example count (0) did not equal expected count (13702)\n",
            "WARNING:gensim.models.word2vec:EPOCH 90: supplied example count (0) did not equal expected count (13702)\n",
            "WARNING:gensim.models.word2vec:EPOCH 91: supplied example count (0) did not equal expected count (13702)\n",
            "WARNING:gensim.models.word2vec:EPOCH 92: supplied example count (0) did not equal expected count (13702)\n",
            "WARNING:gensim.models.word2vec:EPOCH 93: supplied example count (0) did not equal expected count (13702)\n",
            "WARNING:gensim.models.word2vec:EPOCH 94: supplied example count (0) did not equal expected count (13702)\n",
            "WARNING:gensim.models.word2vec:EPOCH 95: supplied example count (0) did not equal expected count (13702)\n",
            "WARNING:gensim.models.word2vec:EPOCH 96: supplied example count (0) did not equal expected count (13702)\n",
            "WARNING:gensim.models.word2vec:EPOCH 97: supplied example count (0) did not equal expected count (13702)\n",
            "WARNING:gensim.models.word2vec:EPOCH 98: supplied example count (0) did not equal expected count (13702)\n",
            "WARNING:gensim.models.word2vec:EPOCH 99: supplied example count (0) did not equal expected count (13702)\n"
          ]
        },
        {
          "output_type": "execute_result",
          "data": {
            "text/plain": [
              "(0, 0)"
            ]
          },
          "metadata": {},
          "execution_count": 29
        }
      ],
      "source": [
        "#%%time \n",
        "from gensim.models.word2vec import Word2Vec\n",
        "\n",
        "# size - размерность векторов, которые мы хотим обучить\n",
        "# window - ширина окна контекста\n",
        "# min_count - если слово встречается реже, для него не учим модель\n",
        "model = Word2Vec(vector_size=100, window=2, min_count=3, workers=-1)\n",
        "\n",
        "# строительство словаря, чтобы обучение шло быстрее\n",
        "model.build_vocab(sents_tokenize)\n",
        "\n",
        "# обучение модели \n",
        "# первый аргумент - наша выборка, генератор будет вкидывать в модель наши тексты, пока они не кончатся\n",
        "# второй аргумент - число примеров в выборке \n",
        "# третий аргумент - количество эпох обучения: сколько раз модель пройдётся по всему корпусу текстов\n",
        "model.train(sents_tokenize, total_examples=model.corpus_count, epochs=100)\n",
        "\n",
        "# !NB в ситуации, когда у нас огромный корпус, 100 эпох это слишком много! "
      ]
    },
    {
      "cell_type": "code",
      "execution_count": 30,
      "metadata": {
        "id": "PZEtUkQ8k5cr",
        "outputId": "18acc57c-b14a-48e5-e3b5-f9a0a10e7fa7",
        "colab": {
          "base_uri": "https://localhost:8080/"
        }
      },
      "outputs": [
        {
          "output_type": "execute_result",
          "data": {
            "text/plain": [
              "13702"
            ]
          },
          "metadata": {},
          "execution_count": 30
        }
      ],
      "source": [
        "model.corpus_count # число примеров в обучающей выборке"
      ]
    },
    {
      "cell_type": "markdown",
      "metadata": {
        "id": "4nCNgLP5k5cr"
      },
      "source": [
        "Смотрим, сколько в модели слов."
      ]
    },
    {
      "cell_type": "code",
      "execution_count": 31,
      "metadata": {
        "id": "6iftEZWok5cr",
        "outputId": "903ee24a-47ba-4c6f-83b2-bddf23d4a18c",
        "colab": {
          "base_uri": "https://localhost:8080/"
        }
      },
      "outputs": [
        {
          "output_type": "execute_result",
          "data": {
            "text/plain": [
              "4768"
            ]
          },
          "metadata": {},
          "execution_count": 31
        }
      ],
      "source": [
        "len(model.wv.key_to_index)"
      ]
    },
    {
      "cell_type": "code",
      "execution_count": 32,
      "metadata": {
        "scrolled": true,
        "id": "cqVQQkuik5cs",
        "outputId": "719829e6-5d77-45e2-f297-77b59e9e6c19",
        "colab": {
          "base_uri": "https://localhost:8080/"
        }
      },
      "outputs": [
        {
          "output_type": "execute_result",
          "data": {
            "text/plain": [
              "True"
            ]
          },
          "metadata": {},
          "execution_count": 32
        }
      ],
      "source": [
        "'старуха' in model.wv.key_to_index"
      ]
    },
    {
      "cell_type": "markdown",
      "metadata": {
        "id": "NsB1nCdtk5cs"
      },
      "source": [
        "## 3. Свойства модели"
      ]
    },
    {
      "cell_type": "code",
      "execution_count": 33,
      "metadata": {
        "id": "jSZvIQMuk5cs",
        "outputId": "232488fd-fedd-4448-a663-23fa0e3fa94c",
        "colab": {
          "base_uri": "https://localhost:8080/"
        }
      },
      "outputs": [
        {
          "output_type": "execute_result",
          "data": {
            "text/plain": [
              "array([ 0.00158984, -0.00595314, -0.00605843,  0.00848177, -0.00034839,\n",
              "        0.00706192, -0.00888268, -0.00192542, -0.00676588, -0.0072364 ],\n",
              "      dtype=float32)"
            ]
          },
          "metadata": {},
          "execution_count": 33
        }
      ],
      "source": [
        "# вектор слова\n",
        "model.wv['старуха'][:10]"
      ]
    },
    {
      "cell_type": "code",
      "execution_count": 34,
      "metadata": {
        "id": "7w6Qqe61k5ct",
        "outputId": "e7ef6bcc-27a3-4f8a-87cc-c68516319353",
        "colab": {
          "base_uri": "https://localhost:8080/"
        }
      },
      "outputs": [
        {
          "output_type": "execute_result",
          "data": {
            "text/plain": [
              "(100,)"
            ]
          },
          "metadata": {},
          "execution_count": 34
        }
      ],
      "source": [
        "# размерность вектора\n",
        "model.wv['старуха'].shape"
      ]
    },
    {
      "cell_type": "code",
      "execution_count": 35,
      "metadata": {
        "id": "DH8g7-_nk5ct",
        "outputId": "5c68d536-aff1-493b-bcf8-e86ee34afde4",
        "colab": {
          "base_uri": "https://localhost:8080/"
        }
      },
      "outputs": [
        {
          "output_type": "execute_result",
          "data": {
            "text/plain": [
              "-0.037934195"
            ]
          },
          "metadata": {},
          "execution_count": 35
        }
      ],
      "source": [
        "# похожести слов \n",
        "model.wv.similarity('тварь', 'право')"
      ]
    },
    {
      "cell_type": "code",
      "execution_count": 36,
      "metadata": {
        "id": "0DHNV6lNk5ct",
        "outputId": "9e5fe92c-a57c-4492-91c3-62a46c9f742c",
        "colab": {
          "base_uri": "https://localhost:8080/"
        }
      },
      "outputs": [
        {
          "output_type": "execute_result",
          "data": {
            "text/plain": [
              "[('выехать', 0.3434045910835266),\n",
              " ('вицмундир', 0.3418233096599579),\n",
              " ('нравиться', 0.3186732232570648),\n",
              " ('капернаум', 0.3163142800331116),\n",
              " ('преступник', 0.3118082284927368),\n",
              " ('случайность', 0.29301321506500244),\n",
              " ('поворотить', 0.28344807028770447),\n",
              " ('обыкновение', 0.2801940143108368),\n",
              " ('буля', 0.27475354075431824),\n",
              " ('поручить', 0.2660590708255768)]"
            ]
          },
          "metadata": {},
          "execution_count": 36
        }
      ],
      "source": [
        "# самые похожие\n",
        "model.wv.most_similar('топор')"
      ]
    },
    {
      "cell_type": "code",
      "execution_count": 37,
      "metadata": {
        "id": "3KR5vIunk5cu",
        "outputId": "6aae2752-9571-4fed-8a49-4ab1cde08702",
        "colab": {
          "base_uri": "https://localhost:8080/"
        }
      },
      "outputs": [
        {
          "output_type": "execute_result",
          "data": {
            "text/plain": [
              "[('съехать', 0.3254741132259369),\n",
              " ('раздражать', 0.31844109296798706),\n",
              " ('линия', 0.31684333086013794),\n",
              " ('покоситься', 0.30329668521881104),\n",
              " ('детски', 0.29883095622062683),\n",
              " ('чашка', 0.29052457213401794),\n",
              " ('вырываться', 0.2874678671360016),\n",
              " ('влево', 0.2853025794029236),\n",
              " ('вызывать', 0.2818695902824402),\n",
              " ('холодно', 0.2812053859233856)]"
            ]
          },
          "metadata": {},
          "execution_count": 37
        }
      ],
      "source": [
        "# арифметика\n",
        "model.wv.most_similar(positive=['раскольников','соня'], \n",
        "                       negative=['тварь'])[:10]"
      ]
    },
    {
      "cell_type": "markdown",
      "metadata": {
        "id": "hyBIjB4gk5cv"
      },
      "source": [
        "## 4. Как дообучить модель? \n",
        "\n",
        "Ради чистоты эксперимента сохраним текущую модель и заново подгрузим её. "
      ]
    },
    {
      "cell_type": "code",
      "execution_count": 38,
      "metadata": {
        "id": "0C8TB4iHk5cv"
      },
      "outputs": [],
      "source": [
        "model_path = \"./our_w2v.model\"\n",
        "model.save(model_path)"
      ]
    },
    {
      "cell_type": "code",
      "execution_count": 39,
      "metadata": {
        "id": "tx2UuMpKk5cw"
      },
      "outputs": [],
      "source": [
        "our_model = Word2Vec.load(model_path)"
      ]
    },
    {
      "cell_type": "markdown",
      "metadata": {
        "id": "JdefL82gk5cw"
      },
      "source": [
        "Подгрузим другое произведение и сделаем для него предобработку. "
      ]
    },
    {
      "cell_type": "code",
      "execution_count": 40,
      "metadata": {
        "id": "VOjL_dNjk5cw",
        "outputId": "cab1aac2-cdbb-4fd5-dd6e-505d68ac84ba",
        "colab": {
          "base_uri": "https://localhost:8080/"
        }
      },
      "outputs": [
        {
          "output_type": "stream",
          "name": "stdout",
          "text": [
            " узнает...\n",
            "В нем взыграло ретивое!\n",
            "\"Что я вижу? что такое?\n",
            "Как!\" - и дух в нем занялся...\n",
            "Царь слезами залился,\n",
            "Обнимает он царицу,\n",
            "И сынка, и молодицу,\n",
            "\n",
            "\n",
            "\n",
            "И садятся все за стол;\n",
            "И веселый пир пошел.\n",
            "А ткачиха с поварихой,\n",
            "С сватьей бабой Бабарихой\n",
            "Разбежались по углам;\n",
            "Их нашли насилу там.\n",
            "Тут во всем они признались,\n",
            "Повинились, разрыдались;\n",
            "Царь для радости такой\n",
            "Отпустил всех трех домой.\n",
            "День прошел - царя Салтана\n",
            "Уложили спать вполпьяна.\n",
            "Я там был; мед, пиво пил -\n",
            "И усы лишь обмочил.\n",
            "\n",
            "1831\n",
            "\n",
            "\n"
          ]
        }
      ],
      "source": [
        "url = 'https://raw.githubusercontent.com/nevmenandr/word2vec-russian-novels/master/vector-school/SkazkaOCareSaltane.txt'\n",
        "\n",
        "resp = requests.get(url)\n",
        "text2 = resp.text \n",
        "\n",
        "# Последние 500 символов. Аккуратно! Спойлеры!\n",
        "print(text2[-500:])"
      ]
    },
    {
      "cell_type": "markdown",
      "metadata": {
        "id": "U-eIqlWqk5cx"
      },
      "source": [
        "Предобработка."
      ]
    },
    {
      "cell_type": "code",
      "execution_count": 41,
      "metadata": {
        "id": "ZRhJJ1CTk5cx"
      },
      "outputs": [],
      "source": [
        "text2 = text2.lower()\n",
        "sents2 = sent_tokenize(text2)\n",
        "\n",
        "sents_tokenize2 = [tokenizer.tokenize(sent) for sent in sents2]\n",
        "sents_tokenize2 = [[morph.normal_forms(word)[0] for word in text_cur if word not in stopwords_ru]\n",
        "                      for text_cur in sents_tokenize2]"
      ]
    },
    {
      "cell_type": "code",
      "execution_count": 42,
      "metadata": {
        "id": "EKA6tHp1k5cx",
        "outputId": "85619efd-0199-42c8-a535-f3cdd52b274b",
        "colab": {
          "base_uri": "https://localhost:8080/"
        }
      },
      "outputs": [
        {
          "output_type": "execute_result",
          "data": {
            "text/plain": [
              "['сени', 'выйти', 'царь', 'отец']"
            ]
          },
          "metadata": {},
          "execution_count": 42
        }
      ],
      "source": [
        "sents_tokenize2[10]"
      ]
    },
    {
      "cell_type": "code",
      "execution_count": 43,
      "metadata": {
        "id": "oWcjNW58k5cx",
        "outputId": "df5273ad-951e-4e4e-818d-2846d546b3a9",
        "colab": {
          "base_uri": "https://localhost:8080/"
        }
      },
      "outputs": [
        {
          "output_type": "execute_result",
          "data": {
            "text/plain": [
              "254"
            ]
          },
          "metadata": {},
          "execution_count": 43
        }
      ],
      "source": [
        "len(sents_tokenize2)"
      ]
    },
    {
      "cell_type": "markdown",
      "metadata": {
        "id": "FcjIf6mgk5cy"
      },
      "source": [
        "Дополняем модель."
      ]
    },
    {
      "cell_type": "code",
      "execution_count": 44,
      "metadata": {
        "id": "QpGg9dkkk5cy",
        "outputId": "da07bb75-1f0e-4dfd-e476-d2b844739402",
        "colab": {
          "base_uri": "https://localhost:8080/"
        }
      },
      "outputs": [
        {
          "output_type": "stream",
          "name": "stderr",
          "text": [
            "WARNING:gensim.models.word2vec:Effective 'alpha' higher than previous training cycles\n",
            "WARNING:gensim.models.word2vec:EPOCH 0: supplied example count (0) did not equal expected count (254)\n",
            "WARNING:gensim.models.word2vec:EPOCH 1: supplied example count (0) did not equal expected count (254)\n",
            "WARNING:gensim.models.word2vec:EPOCH 2: supplied example count (0) did not equal expected count (254)\n",
            "WARNING:gensim.models.word2vec:EPOCH 3: supplied example count (0) did not equal expected count (254)\n",
            "WARNING:gensim.models.word2vec:EPOCH 4: supplied example count (0) did not equal expected count (254)\n",
            "WARNING:gensim.models.word2vec:EPOCH 5: supplied example count (0) did not equal expected count (254)\n",
            "WARNING:gensim.models.word2vec:EPOCH 6: supplied example count (0) did not equal expected count (254)\n",
            "WARNING:gensim.models.word2vec:EPOCH 7: supplied example count (0) did not equal expected count (254)\n",
            "WARNING:gensim.models.word2vec:EPOCH 8: supplied example count (0) did not equal expected count (254)\n",
            "WARNING:gensim.models.word2vec:EPOCH 9: supplied example count (0) did not equal expected count (254)\n",
            "WARNING:gensim.models.word2vec:EPOCH 10: supplied example count (0) did not equal expected count (254)\n",
            "WARNING:gensim.models.word2vec:EPOCH 11: supplied example count (0) did not equal expected count (254)\n",
            "WARNING:gensim.models.word2vec:EPOCH 12: supplied example count (0) did not equal expected count (254)\n",
            "WARNING:gensim.models.word2vec:EPOCH 13: supplied example count (0) did not equal expected count (254)\n",
            "WARNING:gensim.models.word2vec:EPOCH 14: supplied example count (0) did not equal expected count (254)\n",
            "WARNING:gensim.models.word2vec:EPOCH 15: supplied example count (0) did not equal expected count (254)\n",
            "WARNING:gensim.models.word2vec:EPOCH 16: supplied example count (0) did not equal expected count (254)\n",
            "WARNING:gensim.models.word2vec:EPOCH 17: supplied example count (0) did not equal expected count (254)\n",
            "WARNING:gensim.models.word2vec:EPOCH 18: supplied example count (0) did not equal expected count (254)\n",
            "WARNING:gensim.models.word2vec:EPOCH 19: supplied example count (0) did not equal expected count (254)\n",
            "WARNING:gensim.models.word2vec:EPOCH 20: supplied example count (0) did not equal expected count (254)\n",
            "WARNING:gensim.models.word2vec:EPOCH 21: supplied example count (0) did not equal expected count (254)\n",
            "WARNING:gensim.models.word2vec:EPOCH 22: supplied example count (0) did not equal expected count (254)\n",
            "WARNING:gensim.models.word2vec:EPOCH 23: supplied example count (0) did not equal expected count (254)\n",
            "WARNING:gensim.models.word2vec:EPOCH 24: supplied example count (0) did not equal expected count (254)\n",
            "WARNING:gensim.models.word2vec:EPOCH 25: supplied example count (0) did not equal expected count (254)\n",
            "WARNING:gensim.models.word2vec:EPOCH 26: supplied example count (0) did not equal expected count (254)\n",
            "WARNING:gensim.models.word2vec:EPOCH 27: supplied example count (0) did not equal expected count (254)\n",
            "WARNING:gensim.models.word2vec:EPOCH 28: supplied example count (0) did not equal expected count (254)\n",
            "WARNING:gensim.models.word2vec:EPOCH 29: supplied example count (0) did not equal expected count (254)\n",
            "WARNING:gensim.models.word2vec:EPOCH 30: supplied example count (0) did not equal expected count (254)\n",
            "WARNING:gensim.models.word2vec:EPOCH 31: supplied example count (0) did not equal expected count (254)\n",
            "WARNING:gensim.models.word2vec:EPOCH 32: supplied example count (0) did not equal expected count (254)\n",
            "WARNING:gensim.models.word2vec:EPOCH 33: supplied example count (0) did not equal expected count (254)\n",
            "WARNING:gensim.models.word2vec:EPOCH 34: supplied example count (0) did not equal expected count (254)\n",
            "WARNING:gensim.models.word2vec:EPOCH 35: supplied example count (0) did not equal expected count (254)\n",
            "WARNING:gensim.models.word2vec:EPOCH 36: supplied example count (0) did not equal expected count (254)\n",
            "WARNING:gensim.models.word2vec:EPOCH 37: supplied example count (0) did not equal expected count (254)\n",
            "WARNING:gensim.models.word2vec:EPOCH 38: supplied example count (0) did not equal expected count (254)\n",
            "WARNING:gensim.models.word2vec:EPOCH 39: supplied example count (0) did not equal expected count (254)\n",
            "WARNING:gensim.models.word2vec:EPOCH 40: supplied example count (0) did not equal expected count (254)\n",
            "WARNING:gensim.models.word2vec:EPOCH 41: supplied example count (0) did not equal expected count (254)\n",
            "WARNING:gensim.models.word2vec:EPOCH 42: supplied example count (0) did not equal expected count (254)\n",
            "WARNING:gensim.models.word2vec:EPOCH 43: supplied example count (0) did not equal expected count (254)\n",
            "WARNING:gensim.models.word2vec:EPOCH 44: supplied example count (0) did not equal expected count (254)\n",
            "WARNING:gensim.models.word2vec:EPOCH 45: supplied example count (0) did not equal expected count (254)\n",
            "WARNING:gensim.models.word2vec:EPOCH 46: supplied example count (0) did not equal expected count (254)\n",
            "WARNING:gensim.models.word2vec:EPOCH 47: supplied example count (0) did not equal expected count (254)\n",
            "WARNING:gensim.models.word2vec:EPOCH 48: supplied example count (0) did not equal expected count (254)\n",
            "WARNING:gensim.models.word2vec:EPOCH 49: supplied example count (0) did not equal expected count (254)\n",
            "WARNING:gensim.models.word2vec:EPOCH 50: supplied example count (0) did not equal expected count (254)\n",
            "WARNING:gensim.models.word2vec:EPOCH 51: supplied example count (0) did not equal expected count (254)\n",
            "WARNING:gensim.models.word2vec:EPOCH 52: supplied example count (0) did not equal expected count (254)\n",
            "WARNING:gensim.models.word2vec:EPOCH 53: supplied example count (0) did not equal expected count (254)\n",
            "WARNING:gensim.models.word2vec:EPOCH 54: supplied example count (0) did not equal expected count (254)\n",
            "WARNING:gensim.models.word2vec:EPOCH 55: supplied example count (0) did not equal expected count (254)\n",
            "WARNING:gensim.models.word2vec:EPOCH 56: supplied example count (0) did not equal expected count (254)\n",
            "WARNING:gensim.models.word2vec:EPOCH 57: supplied example count (0) did not equal expected count (254)\n",
            "WARNING:gensim.models.word2vec:EPOCH 58: supplied example count (0) did not equal expected count (254)\n",
            "WARNING:gensim.models.word2vec:EPOCH 59: supplied example count (0) did not equal expected count (254)\n",
            "WARNING:gensim.models.word2vec:EPOCH 60: supplied example count (0) did not equal expected count (254)\n",
            "WARNING:gensim.models.word2vec:EPOCH 61: supplied example count (0) did not equal expected count (254)\n",
            "WARNING:gensim.models.word2vec:EPOCH 62: supplied example count (0) did not equal expected count (254)\n",
            "WARNING:gensim.models.word2vec:EPOCH 63: supplied example count (0) did not equal expected count (254)\n",
            "WARNING:gensim.models.word2vec:EPOCH 64: supplied example count (0) did not equal expected count (254)\n",
            "WARNING:gensim.models.word2vec:EPOCH 65: supplied example count (0) did not equal expected count (254)\n",
            "WARNING:gensim.models.word2vec:EPOCH 66: supplied example count (0) did not equal expected count (254)\n",
            "WARNING:gensim.models.word2vec:EPOCH 67: supplied example count (0) did not equal expected count (254)\n",
            "WARNING:gensim.models.word2vec:EPOCH 68: supplied example count (0) did not equal expected count (254)\n",
            "WARNING:gensim.models.word2vec:EPOCH 69: supplied example count (0) did not equal expected count (254)\n",
            "WARNING:gensim.models.word2vec:EPOCH 70: supplied example count (0) did not equal expected count (254)\n",
            "WARNING:gensim.models.word2vec:EPOCH 71: supplied example count (0) did not equal expected count (254)\n",
            "WARNING:gensim.models.word2vec:EPOCH 72: supplied example count (0) did not equal expected count (254)\n",
            "WARNING:gensim.models.word2vec:EPOCH 73: supplied example count (0) did not equal expected count (254)\n",
            "WARNING:gensim.models.word2vec:EPOCH 74: supplied example count (0) did not equal expected count (254)\n",
            "WARNING:gensim.models.word2vec:EPOCH 75: supplied example count (0) did not equal expected count (254)\n",
            "WARNING:gensim.models.word2vec:EPOCH 76: supplied example count (0) did not equal expected count (254)\n",
            "WARNING:gensim.models.word2vec:EPOCH 77: supplied example count (0) did not equal expected count (254)\n",
            "WARNING:gensim.models.word2vec:EPOCH 78: supplied example count (0) did not equal expected count (254)\n",
            "WARNING:gensim.models.word2vec:EPOCH 79: supplied example count (0) did not equal expected count (254)\n",
            "WARNING:gensim.models.word2vec:EPOCH 80: supplied example count (0) did not equal expected count (254)\n",
            "WARNING:gensim.models.word2vec:EPOCH 81: supplied example count (0) did not equal expected count (254)\n",
            "WARNING:gensim.models.word2vec:EPOCH 82: supplied example count (0) did not equal expected count (254)\n",
            "WARNING:gensim.models.word2vec:EPOCH 83: supplied example count (0) did not equal expected count (254)\n",
            "WARNING:gensim.models.word2vec:EPOCH 84: supplied example count (0) did not equal expected count (254)\n",
            "WARNING:gensim.models.word2vec:EPOCH 85: supplied example count (0) did not equal expected count (254)\n",
            "WARNING:gensim.models.word2vec:EPOCH 86: supplied example count (0) did not equal expected count (254)\n",
            "WARNING:gensim.models.word2vec:EPOCH 87: supplied example count (0) did not equal expected count (254)\n",
            "WARNING:gensim.models.word2vec:EPOCH 88: supplied example count (0) did not equal expected count (254)\n",
            "WARNING:gensim.models.word2vec:EPOCH 89: supplied example count (0) did not equal expected count (254)\n",
            "WARNING:gensim.models.word2vec:EPOCH 90: supplied example count (0) did not equal expected count (254)\n",
            "WARNING:gensim.models.word2vec:EPOCH 91: supplied example count (0) did not equal expected count (254)\n",
            "WARNING:gensim.models.word2vec:EPOCH 92: supplied example count (0) did not equal expected count (254)\n",
            "WARNING:gensim.models.word2vec:EPOCH 93: supplied example count (0) did not equal expected count (254)\n",
            "WARNING:gensim.models.word2vec:EPOCH 94: supplied example count (0) did not equal expected count (254)\n",
            "WARNING:gensim.models.word2vec:EPOCH 95: supplied example count (0) did not equal expected count (254)\n",
            "WARNING:gensim.models.word2vec:EPOCH 96: supplied example count (0) did not equal expected count (254)\n",
            "WARNING:gensim.models.word2vec:EPOCH 97: supplied example count (0) did not equal expected count (254)\n",
            "WARNING:gensim.models.word2vec:EPOCH 98: supplied example count (0) did not equal expected count (254)\n",
            "WARNING:gensim.models.word2vec:EPOCH 99: supplied example count (0) did not equal expected count (254)\n"
          ]
        },
        {
          "output_type": "execute_result",
          "data": {
            "text/plain": [
              "(0, 0)"
            ]
          },
          "metadata": {},
          "execution_count": 44
        }
      ],
      "source": [
        "# обновили словарь\n",
        "our_model.build_vocab(sents_tokenize2, update=True)\n",
        "\n",
        "# дообучили модель\n",
        "our_model.train(sents_tokenize2, \n",
        "                total_examples=our_model.corpus_count, \n",
        "                epochs=100)"
      ]
    },
    {
      "cell_type": "code",
      "execution_count": 45,
      "metadata": {
        "id": "6gFKqewnk5cy",
        "outputId": "cdac7377-c509-4ba9-bfad-fe5498f0e410",
        "colab": {
          "base_uri": "https://localhost:8080/"
        }
      },
      "outputs": [
        {
          "output_type": "execute_result",
          "data": {
            "text/plain": [
              "False"
            ]
          },
          "metadata": {},
          "execution_count": 45
        }
      ],
      "source": [
        "'ядро' in model.wv.key_to_index"
      ]
    },
    {
      "cell_type": "code",
      "execution_count": 46,
      "metadata": {
        "id": "8pA40t8uk5cz",
        "outputId": "12140e43-1ed7-4b24-f902-ccad5c23420e",
        "colab": {
          "base_uri": "https://localhost:8080/"
        }
      },
      "outputs": [
        {
          "output_type": "execute_result",
          "data": {
            "text/plain": [
              "True"
            ]
          },
          "metadata": {},
          "execution_count": 46
        }
      ],
      "source": [
        "'ядро' in our_model.wv.key_to_index"
      ]
    },
    {
      "cell_type": "code",
      "execution_count": 47,
      "metadata": {
        "id": "8PUowlmRk5cz",
        "outputId": "473b145d-a3a3-46cf-c7f6-77bce382bf08",
        "colab": {
          "base_uri": "https://localhost:8080/"
        }
      },
      "outputs": [
        {
          "output_type": "execute_result",
          "data": {
            "text/plain": [
              "[('право', 0.3656421899795532),\n",
              " ('первый', 0.3411722481250763),\n",
              " ('изнеможение', 0.33265551924705505),\n",
              " ('рассеянность', 0.3231241703033447),\n",
              " ('механически', 0.3048047423362732),\n",
              " ('зе', 0.2968287169933319),\n",
              " ('далеко', 0.2877438962459564),\n",
              " ('опыт', 0.2864181101322174),\n",
              " ('выхлопотать', 0.2828163504600525),\n",
              " ('голубчик', 0.2819357216358185)]"
            ]
          },
          "metadata": {},
          "execution_count": 47
        }
      ],
      "source": [
        "our_model.wv.most_similar('ядро')"
      ]
    },
    {
      "cell_type": "markdown",
      "metadata": {
        "id": "wHg-5Bvsk5cz"
      },
      "source": [
        "Пример со старым словом."
      ]
    },
    {
      "cell_type": "code",
      "execution_count": 48,
      "metadata": {
        "id": "VDMslb_Yk5cz",
        "outputId": "aa9dad9e-0ead-4985-fa9e-702c12944898",
        "colab": {
          "base_uri": "https://localhost:8080/"
        }
      },
      "outputs": [
        {
          "output_type": "execute_result",
          "data": {
            "text/plain": [
              "[('помолчать', 0.33074870705604553),\n",
              " ('набережный', 0.32425230741500854),\n",
              " ('лесть', 0.3182099759578705),\n",
              " ('нарушить', 0.3141959011554718),\n",
              " ('нетерпеливо', 0.31125137209892273),\n",
              " ('гоголь', 0.30818116664886475),\n",
              " ('кончиться', 0.30746209621429443),\n",
              " ('сесть', 0.3021995425224304),\n",
              " ('снисходительный', 0.300760954618454),\n",
              " ('интересоваться', 0.29836297035217285)]"
            ]
          },
          "metadata": {},
          "execution_count": 48
        }
      ],
      "source": [
        "our_model.wv.most_similar('сын')"
      ]
    },
    {
      "cell_type": "code",
      "execution_count": 49,
      "metadata": {
        "id": "i8_vN8IOk5c0",
        "outputId": "2a5445b9-1490-461b-b01e-59889f55d0a5",
        "colab": {
          "base_uri": "https://localhost:8080/"
        }
      },
      "outputs": [
        {
          "output_type": "execute_result",
          "data": {
            "text/plain": [
              "[('помолчать', 0.33074870705604553),\n",
              " ('набережный', 0.32425230741500854),\n",
              " ('лесть', 0.3182099759578705),\n",
              " ('нарушить', 0.3141959011554718),\n",
              " ('нетерпеливо', 0.31125137209892273),\n",
              " ('гоголь', 0.30818116664886475),\n",
              " ('кончиться', 0.30746209621429443),\n",
              " ('сесть', 0.3021995425224304),\n",
              " ('снисходительный', 0.300760954618454),\n",
              " ('интересоваться', 0.29836297035217285)]"
            ]
          },
          "metadata": {},
          "execution_count": 49
        }
      ],
      "source": [
        "model.wv.most_similar('сын')"
      ]
    },
    {
      "cell_type": "markdown",
      "metadata": {
        "id": "8NEy1ydzk5c0"
      },
      "source": [
        "  "
      ]
    }
  ],
  "metadata": {
    "kernelspec": {
      "display_name": "Python 3 (ipykernel)",
      "language": "python",
      "name": "python3"
    },
    "language_info": {
      "codemirror_mode": {
        "name": "ipython",
        "version": 3
      },
      "file_extension": ".py",
      "mimetype": "text/x-python",
      "name": "python",
      "nbconvert_exporter": "python",
      "pygments_lexer": "ipython3",
      "version": "3.10.9"
    },
    "colab": {
      "provenance": [],
      "include_colab_link": true
    }
  },
  "nbformat": 4,
  "nbformat_minor": 0
}